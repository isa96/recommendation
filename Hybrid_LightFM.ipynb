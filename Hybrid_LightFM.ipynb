{
 "cells": [
  {
   "cell_type": "markdown",
   "id": "ca37dcbf",
   "metadata": {},
   "source": [
    "# Recommender System - LightFM\n",
    "\n",
    "# Table of Contents\n",
    "\n",
    "- [1. Import Package](#package)\n",
    "- [2. Import Data](#data)\n",
    "- [3. Data Analysis](#analysis)\n",
    "    - [3.1. Shape of Data](#analysis_shape)\n",
    "    - [3.2. The Number of User and Movie](#analysis_numbof)\n",
    "    - [3.3. How Much Rating Given by User](#analysis_ratinguser)\n",
    "    - [3.4. How Much Rater of Each Movie](#analysis_rater)\n",
    "- [4. Data Preprocessing](#prep)\n",
    "    - [4.1. Create Data Train](#prep_train)\n",
    "        - [4.1.1. Create Interaction Data](#prep_train_intr)\n",
    "        - [4.1.2. Create User Feature](#prep_train_userfeature)\n",
    "        - [4.1.3. Create Item Feature](#prep_train_itemfeature)\n",
    "    - [4.2. Create Data Test](#prep_test)\n",
    "    - [4.3. Create LightFM Dataset](#prep_lfmdataset)\n",
    "        - [4.3.1. Create Interaction LightFM Dataset](#prep_lfmdataset_intr)\n",
    "        - [4.3.2. Create User Feature LightFM Dataset](#prep_lfmdataset_uf)\n",
    "        - [4.3.3. Create Item Feature LightFM Dataset](#prep_lfmdataset_if)\n",
    "        - [4.3.4. Take A Look At LightFM Dataset](#prep_lfmdataset_look)\n",
    "- [5. Modeling](#model)\n",
    "    - [5.1. Hyperparameter Tuning](#model_tuning)\n",
    "    - [5.2. Training](#model_train)\n",
    "    - [5.3. Evaluation](#model_eval)\n",
    "- [6. Generate Recommendation](#generate)"
   ]
  },
  {
   "cell_type": "markdown",
   "id": "9948550c",
   "metadata": {},
   "source": [
    "# Import Package <a class='anchor' id='package'></a>\n",
    "\n",
    "We use <a href = 'https://making.lyst.com/lightfm/docs/home.html' target = '_blank'>LightFM</a> library to create a hybrid recommender system using LightFM.\n",
    "\n",
    "Get to know with LightFM:\n",
    "- <a href = 'https://making.lyst.com/lightfm/docs/home.html' target = '_blank'>Documentation</a>\n",
    "- <a href = 'https://github.com/lyst/lightfm' target = '_blank'>Github</a>\n",
    "- <a href = 'https://arxiv.org/pdf/1507.08439.pdf' target = '_blank'>Paper</a>"
   ]
  },
  {
   "cell_type": "code",
   "execution_count": 280,
   "id": "09eaf79f",
   "metadata": {},
   "outputs": [],
   "source": [
    "import pandas as pd\n",
    "import numpy as np\n",
    "from tqdm import tqdm\n",
    "from collections import defaultdict\n",
    "import pickle\n",
    "import itertools\n",
    "import datetime\n",
    "\n",
    "from sklearn.preprocessing import MultiLabelBinarizer\n",
    "\n",
    "import bisect \n",
    "\n",
    "from lightfm import LightFM\n",
    "from lightfm.data import Dataset\n",
    "from lightfm.evaluation import precision_at_k,recall_at_k, reciprocal_rank, auc_score\n",
    "from lightfm.cross_validation import random_train_test_split\n",
    "from scipy.sparse import coo_matrix as sp\n",
    "import os"
   ]
  },
  {
   "cell_type": "markdown",
   "id": "c80ec539",
   "metadata": {},
   "source": [
    "# Import Data <a class='anchor' id='data'></a>\n",
    "\n",
    "We use Movie Recommender System Dataset from <a href = 'https://www.kaggle.com/datasets/gargmanas/movierecommenderdataset' target = '_blank'>Kaggle</a>"
   ]
  },
  {
   "cell_type": "code",
   "execution_count": 2,
   "id": "160151f4",
   "metadata": {},
   "outputs": [],
   "source": [
    "data_mv = pd.read_csv('Data/movies.csv')\n",
    "data_rating = pd.read_csv('Data/ratings.csv')"
   ]
  },
  {
   "cell_type": "code",
   "execution_count": 3,
   "id": "b4d4a2f8",
   "metadata": {},
   "outputs": [
    {
     "data": {
      "text/html": [
       "<div>\n",
       "<style scoped>\n",
       "    .dataframe tbody tr th:only-of-type {\n",
       "        vertical-align: middle;\n",
       "    }\n",
       "\n",
       "    .dataframe tbody tr th {\n",
       "        vertical-align: top;\n",
       "    }\n",
       "\n",
       "    .dataframe thead th {\n",
       "        text-align: right;\n",
       "    }\n",
       "</style>\n",
       "<table border=\"1\" class=\"dataframe\">\n",
       "  <thead>\n",
       "    <tr style=\"text-align: right;\">\n",
       "      <th></th>\n",
       "      <th>movieId</th>\n",
       "      <th>title</th>\n",
       "      <th>genres</th>\n",
       "    </tr>\n",
       "  </thead>\n",
       "  <tbody>\n",
       "    <tr>\n",
       "      <th>0</th>\n",
       "      <td>1</td>\n",
       "      <td>Toy Story (1995)</td>\n",
       "      <td>Adventure|Animation|Children|Comedy|Fantasy</td>\n",
       "    </tr>\n",
       "    <tr>\n",
       "      <th>1</th>\n",
       "      <td>2</td>\n",
       "      <td>Jumanji (1995)</td>\n",
       "      <td>Adventure|Children|Fantasy</td>\n",
       "    </tr>\n",
       "    <tr>\n",
       "      <th>2</th>\n",
       "      <td>3</td>\n",
       "      <td>Grumpier Old Men (1995)</td>\n",
       "      <td>Comedy|Romance</td>\n",
       "    </tr>\n",
       "    <tr>\n",
       "      <th>3</th>\n",
       "      <td>4</td>\n",
       "      <td>Waiting to Exhale (1995)</td>\n",
       "      <td>Comedy|Drama|Romance</td>\n",
       "    </tr>\n",
       "    <tr>\n",
       "      <th>4</th>\n",
       "      <td>5</td>\n",
       "      <td>Father of the Bride Part II (1995)</td>\n",
       "      <td>Comedy</td>\n",
       "    </tr>\n",
       "    <tr>\n",
       "      <th>5</th>\n",
       "      <td>6</td>\n",
       "      <td>Heat (1995)</td>\n",
       "      <td>Action|Crime|Thriller</td>\n",
       "    </tr>\n",
       "    <tr>\n",
       "      <th>6</th>\n",
       "      <td>7</td>\n",
       "      <td>Sabrina (1995)</td>\n",
       "      <td>Comedy|Romance</td>\n",
       "    </tr>\n",
       "    <tr>\n",
       "      <th>7</th>\n",
       "      <td>8</td>\n",
       "      <td>Tom and Huck (1995)</td>\n",
       "      <td>Adventure|Children</td>\n",
       "    </tr>\n",
       "    <tr>\n",
       "      <th>8</th>\n",
       "      <td>9</td>\n",
       "      <td>Sudden Death (1995)</td>\n",
       "      <td>Action</td>\n",
       "    </tr>\n",
       "    <tr>\n",
       "      <th>9</th>\n",
       "      <td>10</td>\n",
       "      <td>GoldenEye (1995)</td>\n",
       "      <td>Action|Adventure|Thriller</td>\n",
       "    </tr>\n",
       "  </tbody>\n",
       "</table>\n",
       "</div>"
      ],
      "text/plain": [
       "   movieId                               title  \\\n",
       "0        1                    Toy Story (1995)   \n",
       "1        2                      Jumanji (1995)   \n",
       "2        3             Grumpier Old Men (1995)   \n",
       "3        4            Waiting to Exhale (1995)   \n",
       "4        5  Father of the Bride Part II (1995)   \n",
       "5        6                         Heat (1995)   \n",
       "6        7                      Sabrina (1995)   \n",
       "7        8                 Tom and Huck (1995)   \n",
       "8        9                 Sudden Death (1995)   \n",
       "9       10                    GoldenEye (1995)   \n",
       "\n",
       "                                        genres  \n",
       "0  Adventure|Animation|Children|Comedy|Fantasy  \n",
       "1                   Adventure|Children|Fantasy  \n",
       "2                               Comedy|Romance  \n",
       "3                         Comedy|Drama|Romance  \n",
       "4                                       Comedy  \n",
       "5                        Action|Crime|Thriller  \n",
       "6                               Comedy|Romance  \n",
       "7                           Adventure|Children  \n",
       "8                                       Action  \n",
       "9                    Action|Adventure|Thriller  "
      ]
     },
     "execution_count": 3,
     "metadata": {},
     "output_type": "execute_result"
    }
   ],
   "source": [
    "data_mv.head(10)"
   ]
  },
  {
   "cell_type": "code",
   "execution_count": 4,
   "id": "775007e4",
   "metadata": {},
   "outputs": [
    {
     "data": {
      "text/html": [
       "<div>\n",
       "<style scoped>\n",
       "    .dataframe tbody tr th:only-of-type {\n",
       "        vertical-align: middle;\n",
       "    }\n",
       "\n",
       "    .dataframe tbody tr th {\n",
       "        vertical-align: top;\n",
       "    }\n",
       "\n",
       "    .dataframe thead th {\n",
       "        text-align: right;\n",
       "    }\n",
       "</style>\n",
       "<table border=\"1\" class=\"dataframe\">\n",
       "  <thead>\n",
       "    <tr style=\"text-align: right;\">\n",
       "      <th></th>\n",
       "      <th>userId</th>\n",
       "      <th>movieId</th>\n",
       "      <th>rating</th>\n",
       "      <th>timestamp</th>\n",
       "    </tr>\n",
       "  </thead>\n",
       "  <tbody>\n",
       "    <tr>\n",
       "      <th>0</th>\n",
       "      <td>1</td>\n",
       "      <td>1</td>\n",
       "      <td>4.0</td>\n",
       "      <td>964982703</td>\n",
       "    </tr>\n",
       "    <tr>\n",
       "      <th>1</th>\n",
       "      <td>1</td>\n",
       "      <td>3</td>\n",
       "      <td>4.0</td>\n",
       "      <td>964981247</td>\n",
       "    </tr>\n",
       "    <tr>\n",
       "      <th>2</th>\n",
       "      <td>1</td>\n",
       "      <td>6</td>\n",
       "      <td>4.0</td>\n",
       "      <td>964982224</td>\n",
       "    </tr>\n",
       "    <tr>\n",
       "      <th>3</th>\n",
       "      <td>1</td>\n",
       "      <td>47</td>\n",
       "      <td>5.0</td>\n",
       "      <td>964983815</td>\n",
       "    </tr>\n",
       "    <tr>\n",
       "      <th>4</th>\n",
       "      <td>1</td>\n",
       "      <td>50</td>\n",
       "      <td>5.0</td>\n",
       "      <td>964982931</td>\n",
       "    </tr>\n",
       "    <tr>\n",
       "      <th>5</th>\n",
       "      <td>1</td>\n",
       "      <td>70</td>\n",
       "      <td>3.0</td>\n",
       "      <td>964982400</td>\n",
       "    </tr>\n",
       "    <tr>\n",
       "      <th>6</th>\n",
       "      <td>1</td>\n",
       "      <td>101</td>\n",
       "      <td>5.0</td>\n",
       "      <td>964980868</td>\n",
       "    </tr>\n",
       "    <tr>\n",
       "      <th>7</th>\n",
       "      <td>1</td>\n",
       "      <td>110</td>\n",
       "      <td>4.0</td>\n",
       "      <td>964982176</td>\n",
       "    </tr>\n",
       "    <tr>\n",
       "      <th>8</th>\n",
       "      <td>1</td>\n",
       "      <td>151</td>\n",
       "      <td>5.0</td>\n",
       "      <td>964984041</td>\n",
       "    </tr>\n",
       "    <tr>\n",
       "      <th>9</th>\n",
       "      <td>1</td>\n",
       "      <td>157</td>\n",
       "      <td>5.0</td>\n",
       "      <td>964984100</td>\n",
       "    </tr>\n",
       "  </tbody>\n",
       "</table>\n",
       "</div>"
      ],
      "text/plain": [
       "   userId  movieId  rating  timestamp\n",
       "0       1        1     4.0  964982703\n",
       "1       1        3     4.0  964981247\n",
       "2       1        6     4.0  964982224\n",
       "3       1       47     5.0  964983815\n",
       "4       1       50     5.0  964982931\n",
       "5       1       70     3.0  964982400\n",
       "6       1      101     5.0  964980868\n",
       "7       1      110     4.0  964982176\n",
       "8       1      151     5.0  964984041\n",
       "9       1      157     5.0  964984100"
      ]
     },
     "execution_count": 4,
     "metadata": {},
     "output_type": "execute_result"
    }
   ],
   "source": [
    "data_rating.head(10)"
   ]
  },
  {
   "cell_type": "markdown",
   "id": "41e3bd65",
   "metadata": {},
   "source": [
    "# Data Analysis <a class='anchor' id='analysis'></a>"
   ]
  },
  {
   "cell_type": "markdown",
   "id": "2e556d23",
   "metadata": {},
   "source": [
    "## Shape of Data <a class='anchor' id='analysis_shape'></a>"
   ]
  },
  {
   "cell_type": "code",
   "execution_count": 5,
   "id": "53008d66",
   "metadata": {},
   "outputs": [
    {
     "name": "stdout",
     "output_type": "stream",
     "text": [
      "shape of data movie :  (9742, 3)\n",
      "shape of data rating :  (100836, 4)\n"
     ]
    }
   ],
   "source": [
    "print(\"shape of data movie : \", data_mv.shape)\n",
    "print(\"shape of data rating : \", data_rating.shape)"
   ]
  },
  {
   "cell_type": "markdown",
   "id": "83068735",
   "metadata": {},
   "source": [
    "## Number of User and Movie <a class='anchor' id='analysis_numbof'></a>"
   ]
  },
  {
   "cell_type": "code",
   "execution_count": 6,
   "id": "e584a0ea",
   "metadata": {},
   "outputs": [
    {
     "name": "stdout",
     "output_type": "stream",
     "text": [
      "number of user :  610\n",
      "number of movie :  9742\n"
     ]
    }
   ],
   "source": [
    "print(\"number of user : \", data_rating['userId'].nunique())\n",
    "print(\"number of movie : \", data_mv['movieId'].nunique())"
   ]
  },
  {
   "cell_type": "markdown",
   "id": "93d133d2",
   "metadata": {},
   "source": [
    "## How Much Rating Given by User <a class='anchor' id='analysis_ratinguser'></a>"
   ]
  },
  {
   "cell_type": "code",
   "execution_count": 7,
   "id": "266ac12f",
   "metadata": {},
   "outputs": [],
   "source": [
    "ratingbyuser = data_rating.groupby('userId')[['rating']].count().sort_values('rating').reset_index()"
   ]
  },
  {
   "cell_type": "code",
   "execution_count": 8,
   "id": "6e019dcf",
   "metadata": {},
   "outputs": [
    {
     "data": {
      "text/html": [
       "<div>\n",
       "<style scoped>\n",
       "    .dataframe tbody tr th:only-of-type {\n",
       "        vertical-align: middle;\n",
       "    }\n",
       "\n",
       "    .dataframe tbody tr th {\n",
       "        vertical-align: top;\n",
       "    }\n",
       "\n",
       "    .dataframe thead th {\n",
       "        text-align: right;\n",
       "    }\n",
       "</style>\n",
       "<table border=\"1\" class=\"dataframe\">\n",
       "  <thead>\n",
       "    <tr style=\"text-align: right;\">\n",
       "      <th></th>\n",
       "      <th>userId</th>\n",
       "      <th>rating</th>\n",
       "    </tr>\n",
       "  </thead>\n",
       "  <tbody>\n",
       "    <tr>\n",
       "      <th>0</th>\n",
       "      <td>442</td>\n",
       "      <td>20</td>\n",
       "    </tr>\n",
       "    <tr>\n",
       "      <th>1</th>\n",
       "      <td>406</td>\n",
       "      <td>20</td>\n",
       "    </tr>\n",
       "    <tr>\n",
       "      <th>2</th>\n",
       "      <td>147</td>\n",
       "      <td>20</td>\n",
       "    </tr>\n",
       "    <tr>\n",
       "      <th>3</th>\n",
       "      <td>194</td>\n",
       "      <td>20</td>\n",
       "    </tr>\n",
       "    <tr>\n",
       "      <th>4</th>\n",
       "      <td>569</td>\n",
       "      <td>20</td>\n",
       "    </tr>\n",
       "    <tr>\n",
       "      <th>5</th>\n",
       "      <td>576</td>\n",
       "      <td>20</td>\n",
       "    </tr>\n",
       "    <tr>\n",
       "      <th>6</th>\n",
       "      <td>431</td>\n",
       "      <td>20</td>\n",
       "    </tr>\n",
       "    <tr>\n",
       "      <th>7</th>\n",
       "      <td>207</td>\n",
       "      <td>20</td>\n",
       "    </tr>\n",
       "    <tr>\n",
       "      <th>8</th>\n",
       "      <td>278</td>\n",
       "      <td>20</td>\n",
       "    </tr>\n",
       "    <tr>\n",
       "      <th>9</th>\n",
       "      <td>320</td>\n",
       "      <td>20</td>\n",
       "    </tr>\n",
       "  </tbody>\n",
       "</table>\n",
       "</div>"
      ],
      "text/plain": [
       "   userId  rating\n",
       "0     442      20\n",
       "1     406      20\n",
       "2     147      20\n",
       "3     194      20\n",
       "4     569      20\n",
       "5     576      20\n",
       "6     431      20\n",
       "7     207      20\n",
       "8     278      20\n",
       "9     320      20"
      ]
     },
     "execution_count": 8,
     "metadata": {},
     "output_type": "execute_result"
    }
   ],
   "source": [
    "ratingbyuser.head(10)"
   ]
  },
  {
   "cell_type": "code",
   "execution_count": 9,
   "id": "90930e74",
   "metadata": {},
   "outputs": [
    {
     "data": {
      "text/html": [
       "<div>\n",
       "<style scoped>\n",
       "    .dataframe tbody tr th:only-of-type {\n",
       "        vertical-align: middle;\n",
       "    }\n",
       "\n",
       "    .dataframe tbody tr th {\n",
       "        vertical-align: top;\n",
       "    }\n",
       "\n",
       "    .dataframe thead th {\n",
       "        text-align: right;\n",
       "    }\n",
       "</style>\n",
       "<table border=\"1\" class=\"dataframe\">\n",
       "  <thead>\n",
       "    <tr style=\"text-align: right;\">\n",
       "      <th></th>\n",
       "      <th>userId</th>\n",
       "      <th>rating</th>\n",
       "    </tr>\n",
       "  </thead>\n",
       "  <tbody>\n",
       "    <tr>\n",
       "      <th>600</th>\n",
       "      <td>288</td>\n",
       "      <td>1055</td>\n",
       "    </tr>\n",
       "    <tr>\n",
       "      <th>601</th>\n",
       "      <td>606</td>\n",
       "      <td>1115</td>\n",
       "    </tr>\n",
       "    <tr>\n",
       "      <th>602</th>\n",
       "      <td>380</td>\n",
       "      <td>1218</td>\n",
       "    </tr>\n",
       "    <tr>\n",
       "      <th>603</th>\n",
       "      <td>68</td>\n",
       "      <td>1260</td>\n",
       "    </tr>\n",
       "    <tr>\n",
       "      <th>604</th>\n",
       "      <td>610</td>\n",
       "      <td>1302</td>\n",
       "    </tr>\n",
       "    <tr>\n",
       "      <th>605</th>\n",
       "      <td>274</td>\n",
       "      <td>1346</td>\n",
       "    </tr>\n",
       "    <tr>\n",
       "      <th>606</th>\n",
       "      <td>448</td>\n",
       "      <td>1864</td>\n",
       "    </tr>\n",
       "    <tr>\n",
       "      <th>607</th>\n",
       "      <td>474</td>\n",
       "      <td>2108</td>\n",
       "    </tr>\n",
       "    <tr>\n",
       "      <th>608</th>\n",
       "      <td>599</td>\n",
       "      <td>2478</td>\n",
       "    </tr>\n",
       "    <tr>\n",
       "      <th>609</th>\n",
       "      <td>414</td>\n",
       "      <td>2698</td>\n",
       "    </tr>\n",
       "  </tbody>\n",
       "</table>\n",
       "</div>"
      ],
      "text/plain": [
       "     userId  rating\n",
       "600     288    1055\n",
       "601     606    1115\n",
       "602     380    1218\n",
       "603      68    1260\n",
       "604     610    1302\n",
       "605     274    1346\n",
       "606     448    1864\n",
       "607     474    2108\n",
       "608     599    2478\n",
       "609     414    2698"
      ]
     },
     "execution_count": 9,
     "metadata": {},
     "output_type": "execute_result"
    }
   ],
   "source": [
    "ratingbyuser.tail(10)"
   ]
  },
  {
   "cell_type": "code",
   "execution_count": 10,
   "id": "d37f5c1e",
   "metadata": {},
   "outputs": [
    {
     "data": {
      "text/html": [
       "<div>\n",
       "<style scoped>\n",
       "    .dataframe tbody tr th:only-of-type {\n",
       "        vertical-align: middle;\n",
       "    }\n",
       "\n",
       "    .dataframe tbody tr th {\n",
       "        vertical-align: top;\n",
       "    }\n",
       "\n",
       "    .dataframe thead th {\n",
       "        text-align: right;\n",
       "    }\n",
       "</style>\n",
       "<table border=\"1\" class=\"dataframe\">\n",
       "  <thead>\n",
       "    <tr style=\"text-align: right;\">\n",
       "      <th></th>\n",
       "      <th>rating</th>\n",
       "    </tr>\n",
       "  </thead>\n",
       "  <tbody>\n",
       "    <tr>\n",
       "      <th>count</th>\n",
       "      <td>610.000000</td>\n",
       "    </tr>\n",
       "    <tr>\n",
       "      <th>mean</th>\n",
       "      <td>165.304918</td>\n",
       "    </tr>\n",
       "    <tr>\n",
       "      <th>std</th>\n",
       "      <td>269.480584</td>\n",
       "    </tr>\n",
       "    <tr>\n",
       "      <th>min</th>\n",
       "      <td>20.000000</td>\n",
       "    </tr>\n",
       "    <tr>\n",
       "      <th>25%</th>\n",
       "      <td>35.000000</td>\n",
       "    </tr>\n",
       "    <tr>\n",
       "      <th>50%</th>\n",
       "      <td>70.500000</td>\n",
       "    </tr>\n",
       "    <tr>\n",
       "      <th>75%</th>\n",
       "      <td>168.000000</td>\n",
       "    </tr>\n",
       "    <tr>\n",
       "      <th>max</th>\n",
       "      <td>2698.000000</td>\n",
       "    </tr>\n",
       "  </tbody>\n",
       "</table>\n",
       "</div>"
      ],
      "text/plain": [
       "            rating\n",
       "count   610.000000\n",
       "mean    165.304918\n",
       "std     269.480584\n",
       "min      20.000000\n",
       "25%      35.000000\n",
       "50%      70.500000\n",
       "75%     168.000000\n",
       "max    2698.000000"
      ]
     },
     "execution_count": 10,
     "metadata": {},
     "output_type": "execute_result"
    }
   ],
   "source": [
    "ratingbyuser[['rating']].describe()"
   ]
  },
  {
   "cell_type": "markdown",
   "id": "1e0f3335",
   "metadata": {},
   "source": [
    "## How Much Rater of Each Movie <a class='anchor' id='analysis_rater'></a>"
   ]
  },
  {
   "cell_type": "code",
   "execution_count": 11,
   "id": "eadb80e5",
   "metadata": {},
   "outputs": [],
   "source": [
    "rater = data_rating.groupby('movieId')[['rating']].count().sort_values('rating').reset_index()"
   ]
  },
  {
   "cell_type": "code",
   "execution_count": 12,
   "id": "3de91b92",
   "metadata": {},
   "outputs": [
    {
     "data": {
      "text/html": [
       "<div>\n",
       "<style scoped>\n",
       "    .dataframe tbody tr th:only-of-type {\n",
       "        vertical-align: middle;\n",
       "    }\n",
       "\n",
       "    .dataframe tbody tr th {\n",
       "        vertical-align: top;\n",
       "    }\n",
       "\n",
       "    .dataframe thead th {\n",
       "        text-align: right;\n",
       "    }\n",
       "</style>\n",
       "<table border=\"1\" class=\"dataframe\">\n",
       "  <thead>\n",
       "    <tr style=\"text-align: right;\">\n",
       "      <th></th>\n",
       "      <th>movieId</th>\n",
       "      <th>rating</th>\n",
       "    </tr>\n",
       "  </thead>\n",
       "  <tbody>\n",
       "    <tr>\n",
       "      <th>0</th>\n",
       "      <td>193609</td>\n",
       "      <td>1</td>\n",
       "    </tr>\n",
       "    <tr>\n",
       "      <th>1</th>\n",
       "      <td>4032</td>\n",
       "      <td>1</td>\n",
       "    </tr>\n",
       "    <tr>\n",
       "      <th>2</th>\n",
       "      <td>57526</td>\n",
       "      <td>1</td>\n",
       "    </tr>\n",
       "    <tr>\n",
       "      <th>3</th>\n",
       "      <td>57522</td>\n",
       "      <td>1</td>\n",
       "    </tr>\n",
       "    <tr>\n",
       "      <th>4</th>\n",
       "      <td>57502</td>\n",
       "      <td>1</td>\n",
       "    </tr>\n",
       "    <tr>\n",
       "      <th>5</th>\n",
       "      <td>57499</td>\n",
       "      <td>1</td>\n",
       "    </tr>\n",
       "    <tr>\n",
       "      <th>6</th>\n",
       "      <td>57421</td>\n",
       "      <td>1</td>\n",
       "    </tr>\n",
       "    <tr>\n",
       "      <th>7</th>\n",
       "      <td>57326</td>\n",
       "      <td>1</td>\n",
       "    </tr>\n",
       "    <tr>\n",
       "      <th>8</th>\n",
       "      <td>57147</td>\n",
       "      <td>1</td>\n",
       "    </tr>\n",
       "    <tr>\n",
       "      <th>9</th>\n",
       "      <td>4046</td>\n",
       "      <td>1</td>\n",
       "    </tr>\n",
       "  </tbody>\n",
       "</table>\n",
       "</div>"
      ],
      "text/plain": [
       "   movieId  rating\n",
       "0   193609       1\n",
       "1     4032       1\n",
       "2    57526       1\n",
       "3    57522       1\n",
       "4    57502       1\n",
       "5    57499       1\n",
       "6    57421       1\n",
       "7    57326       1\n",
       "8    57147       1\n",
       "9     4046       1"
      ]
     },
     "execution_count": 12,
     "metadata": {},
     "output_type": "execute_result"
    }
   ],
   "source": [
    "rater.head(10)"
   ]
  },
  {
   "cell_type": "code",
   "execution_count": 13,
   "id": "c70b2a91",
   "metadata": {},
   "outputs": [
    {
     "data": {
      "text/html": [
       "<div>\n",
       "<style scoped>\n",
       "    .dataframe tbody tr th:only-of-type {\n",
       "        vertical-align: middle;\n",
       "    }\n",
       "\n",
       "    .dataframe tbody tr th {\n",
       "        vertical-align: top;\n",
       "    }\n",
       "\n",
       "    .dataframe thead th {\n",
       "        text-align: right;\n",
       "    }\n",
       "</style>\n",
       "<table border=\"1\" class=\"dataframe\">\n",
       "  <thead>\n",
       "    <tr style=\"text-align: right;\">\n",
       "      <th></th>\n",
       "      <th>movieId</th>\n",
       "      <th>rating</th>\n",
       "    </tr>\n",
       "  </thead>\n",
       "  <tbody>\n",
       "    <tr>\n",
       "      <th>9714</th>\n",
       "      <td>527</td>\n",
       "      <td>220</td>\n",
       "    </tr>\n",
       "    <tr>\n",
       "      <th>9715</th>\n",
       "      <td>589</td>\n",
       "      <td>224</td>\n",
       "    </tr>\n",
       "    <tr>\n",
       "      <th>9716</th>\n",
       "      <td>110</td>\n",
       "      <td>237</td>\n",
       "    </tr>\n",
       "    <tr>\n",
       "      <th>9717</th>\n",
       "      <td>480</td>\n",
       "      <td>238</td>\n",
       "    </tr>\n",
       "    <tr>\n",
       "      <th>9718</th>\n",
       "      <td>260</td>\n",
       "      <td>251</td>\n",
       "    </tr>\n",
       "    <tr>\n",
       "      <th>9719</th>\n",
       "      <td>2571</td>\n",
       "      <td>278</td>\n",
       "    </tr>\n",
       "    <tr>\n",
       "      <th>9720</th>\n",
       "      <td>593</td>\n",
       "      <td>279</td>\n",
       "    </tr>\n",
       "    <tr>\n",
       "      <th>9721</th>\n",
       "      <td>296</td>\n",
       "      <td>307</td>\n",
       "    </tr>\n",
       "    <tr>\n",
       "      <th>9722</th>\n",
       "      <td>318</td>\n",
       "      <td>317</td>\n",
       "    </tr>\n",
       "    <tr>\n",
       "      <th>9723</th>\n",
       "      <td>356</td>\n",
       "      <td>329</td>\n",
       "    </tr>\n",
       "  </tbody>\n",
       "</table>\n",
       "</div>"
      ],
      "text/plain": [
       "      movieId  rating\n",
       "9714      527     220\n",
       "9715      589     224\n",
       "9716      110     237\n",
       "9717      480     238\n",
       "9718      260     251\n",
       "9719     2571     278\n",
       "9720      593     279\n",
       "9721      296     307\n",
       "9722      318     317\n",
       "9723      356     329"
      ]
     },
     "execution_count": 13,
     "metadata": {},
     "output_type": "execute_result"
    }
   ],
   "source": [
    "rater.tail(10)"
   ]
  },
  {
   "cell_type": "code",
   "execution_count": 14,
   "id": "410d9590",
   "metadata": {},
   "outputs": [
    {
     "data": {
      "text/html": [
       "<div>\n",
       "<style scoped>\n",
       "    .dataframe tbody tr th:only-of-type {\n",
       "        vertical-align: middle;\n",
       "    }\n",
       "\n",
       "    .dataframe tbody tr th {\n",
       "        vertical-align: top;\n",
       "    }\n",
       "\n",
       "    .dataframe thead th {\n",
       "        text-align: right;\n",
       "    }\n",
       "</style>\n",
       "<table border=\"1\" class=\"dataframe\">\n",
       "  <thead>\n",
       "    <tr style=\"text-align: right;\">\n",
       "      <th></th>\n",
       "      <th>rating</th>\n",
       "    </tr>\n",
       "  </thead>\n",
       "  <tbody>\n",
       "    <tr>\n",
       "      <th>count</th>\n",
       "      <td>9724.000000</td>\n",
       "    </tr>\n",
       "    <tr>\n",
       "      <th>mean</th>\n",
       "      <td>10.369807</td>\n",
       "    </tr>\n",
       "    <tr>\n",
       "      <th>std</th>\n",
       "      <td>22.401005</td>\n",
       "    </tr>\n",
       "    <tr>\n",
       "      <th>min</th>\n",
       "      <td>1.000000</td>\n",
       "    </tr>\n",
       "    <tr>\n",
       "      <th>25%</th>\n",
       "      <td>1.000000</td>\n",
       "    </tr>\n",
       "    <tr>\n",
       "      <th>50%</th>\n",
       "      <td>3.000000</td>\n",
       "    </tr>\n",
       "    <tr>\n",
       "      <th>75%</th>\n",
       "      <td>9.000000</td>\n",
       "    </tr>\n",
       "    <tr>\n",
       "      <th>max</th>\n",
       "      <td>329.000000</td>\n",
       "    </tr>\n",
       "  </tbody>\n",
       "</table>\n",
       "</div>"
      ],
      "text/plain": [
       "            rating\n",
       "count  9724.000000\n",
       "mean     10.369807\n",
       "std      22.401005\n",
       "min       1.000000\n",
       "25%       1.000000\n",
       "50%       3.000000\n",
       "75%       9.000000\n",
       "max     329.000000"
      ]
     },
     "execution_count": 14,
     "metadata": {},
     "output_type": "execute_result"
    }
   ],
   "source": [
    "rater[['rating']].describe()"
   ]
  },
  {
   "cell_type": "markdown",
   "id": "27f7890c",
   "metadata": {},
   "source": [
    "# Data Preprocessing <a class='anchor' id='prep'></a>\n",
    "\n",
    "LightFM is a Hybrid recommender system so we need the user-item rating, feature of item, and feature of user for training process. We will create two kinds of data, namely data train and data test.\n",
    "\n",
    "- data train : all historical rated user-item data that we have and the feature of user and item\n",
    "- data test  : all unrated user-item pairs (we will predict the recommendation score of those pairs)\n",
    "\n",
    "LightFM use implicit feedback to create recommendation so we don't need the rating value, we only need to know what items have been rated by each user. The rated user-item pairs will be called as interaction data.\n",
    "\n",
    "we have 610 users and 9742 movies so to create the data test we need to create all user-item pair data. If it is too large then we can divide the data into several batches in the predict process later, while now we can create a function to generate the data test.\n",
    "\n",
    "In the end of preprocessing stage we need to create <a href='https://making.lyst.com/lightfm/docs/lightfm.data.html' target='_blank'>LighFM Dataset</a>."
   ]
  },
  {
   "cell_type": "markdown",
   "id": "2796d52c",
   "metadata": {},
   "source": [
    "## Create Data Train <a class='anchor' id='prep_train'></a>\n",
    "\n",
    "**Interaction data** contains the interaction of user and item. In this case intercation between the user and the item is determined by the rating. In other cases we can use many things as interaction between user and item such as transaction activity, wishlist, cart, etc. \n",
    "\n",
    "**Feature** in LighFM are only categorical feature so continuous features must be discretized. In LightFM it is possible for a user or item to have no features at all or have multiple valie features. You will understand more later when we enter the stage of creating the LightFM dataset"
   ]
  },
  {
   "cell_type": "code",
   "execution_count": 15,
   "id": "579d05bf",
   "metadata": {},
   "outputs": [],
   "source": [
    "# DISCRETIZATION FUNCTION\n",
    "\n",
    "def discretize(value,split_points):\n",
    "    value_position = np.digitize(value,split_points)\n",
    "    \n",
    "    if value_position == 0:\n",
    "        return \"<\"+str(split_points[0])\n",
    "    elif value_position == len(split_points):\n",
    "        return \">\"+str(split_points[-1])\n",
    "    else:\n",
    "        return str(split_points[value_position-1])+\" - \"+str(split_points[value_position])"
   ]
  },
  {
   "cell_type": "markdown",
   "id": "86565b49",
   "metadata": {},
   "source": [
    "### Create Interaction Data <a class='anchor' id='prep_train_intr'></a>"
   ]
  },
  {
   "cell_type": "code",
   "execution_count": 16,
   "id": "1aed4e13",
   "metadata": {},
   "outputs": [],
   "source": [
    "data_interaction = data_rating[['userId','movieId','rating']].copy()"
   ]
  },
  {
   "cell_type": "markdown",
   "id": "7f8442b3",
   "metadata": {},
   "source": [
    "### Create User Feature <a class='anchor' id='prep_train_userfeature'></a>\n",
    "\n",
    "we will create some simple features for user such as:\n",
    "- the number of rating given by user\n",
    "- the most rated genre"
   ]
  },
  {
   "cell_type": "code",
   "execution_count": 93,
   "id": "ac8ff2d2",
   "metadata": {},
   "outputs": [],
   "source": [
    "user_feature = data_rating[['userId','movieId']].merge(data_mv[['movieId','genres']], how = 'left', on = 'movieId')"
   ]
  },
  {
   "cell_type": "code",
   "execution_count": 94,
   "id": "a2a0b697",
   "metadata": {},
   "outputs": [
    {
     "data": {
      "text/html": [
       "<div>\n",
       "<style scoped>\n",
       "    .dataframe tbody tr th:only-of-type {\n",
       "        vertical-align: middle;\n",
       "    }\n",
       "\n",
       "    .dataframe tbody tr th {\n",
       "        vertical-align: top;\n",
       "    }\n",
       "\n",
       "    .dataframe thead th {\n",
       "        text-align: right;\n",
       "    }\n",
       "</style>\n",
       "<table border=\"1\" class=\"dataframe\">\n",
       "  <thead>\n",
       "    <tr style=\"text-align: right;\">\n",
       "      <th></th>\n",
       "      <th>userId</th>\n",
       "      <th>movieId</th>\n",
       "      <th>genres</th>\n",
       "    </tr>\n",
       "  </thead>\n",
       "  <tbody>\n",
       "    <tr>\n",
       "      <th>0</th>\n",
       "      <td>1</td>\n",
       "      <td>1</td>\n",
       "      <td>Adventure|Animation|Children|Comedy|Fantasy</td>\n",
       "    </tr>\n",
       "    <tr>\n",
       "      <th>1</th>\n",
       "      <td>1</td>\n",
       "      <td>3</td>\n",
       "      <td>Comedy|Romance</td>\n",
       "    </tr>\n",
       "    <tr>\n",
       "      <th>2</th>\n",
       "      <td>1</td>\n",
       "      <td>6</td>\n",
       "      <td>Action|Crime|Thriller</td>\n",
       "    </tr>\n",
       "    <tr>\n",
       "      <th>3</th>\n",
       "      <td>1</td>\n",
       "      <td>47</td>\n",
       "      <td>Mystery|Thriller</td>\n",
       "    </tr>\n",
       "    <tr>\n",
       "      <th>4</th>\n",
       "      <td>1</td>\n",
       "      <td>50</td>\n",
       "      <td>Crime|Mystery|Thriller</td>\n",
       "    </tr>\n",
       "  </tbody>\n",
       "</table>\n",
       "</div>"
      ],
      "text/plain": [
       "   userId  movieId                                       genres\n",
       "0       1        1  Adventure|Animation|Children|Comedy|Fantasy\n",
       "1       1        3                               Comedy|Romance\n",
       "2       1        6                        Action|Crime|Thriller\n",
       "3       1       47                             Mystery|Thriller\n",
       "4       1       50                       Crime|Mystery|Thriller"
      ]
     },
     "execution_count": 94,
     "metadata": {},
     "output_type": "execute_result"
    }
   ],
   "source": [
    "user_feature.head(5)"
   ]
  },
  {
   "cell_type": "code",
   "execution_count": 99,
   "id": "18ba45f3",
   "metadata": {},
   "outputs": [],
   "source": [
    "# THE NUMBER OF RATING GIVEN BY USER\n",
    "\n",
    "rating_given = user_feature.groupby('userId').agg(numb_rating = ('userId','count')).reset_index()\n",
    "split_point = [\n",
    "    rating_given['numb_rating'].quantile(q=0.25),\n",
    "    rating_given['numb_rating'].quantile(q=0.5),\n",
    "    rating_given['numb_rating'].quantile(q=0.75),\n",
    "    rating_given['numb_rating'].quantile(q=0.75)+(1.5*(rating_given['numb_rating'].quantile(q=0.75)-rating_given['numb_rating'].quantile(q=0.25)))\n",
    "]\n",
    "rating_given['numb_rating'] = rating_given['numb_rating'].apply(lambda val : discretize(val, split_point))"
   ]
  },
  {
   "cell_type": "code",
   "execution_count": 100,
   "id": "d4673900",
   "metadata": {},
   "outputs": [],
   "source": [
    "# THE MOST RATED GENRE\n",
    "\n",
    "def count_genres(genres, sep = \"|\"):\n",
    "    ls_genres = genres.split(sep)\n",
    "    dict_genres = {}\n",
    "    for i in ls_genres:\n",
    "        if i in dict_genres:\n",
    "            dict_genres[i] = dict_genres[i]+1\n",
    "        else:\n",
    "            dict_genres[i] = 1\n",
    "    return dict_genres\n",
    "\n",
    "def most_rated_genres(genres, sep = \"|\"):\n",
    "    counted_genres = count_genres(genres, sep)\n",
    "    max_value = max(counted_genres.values())\n",
    "    most_rated = [i for i,j in counted_genres.items() if j == max_value]\n",
    "    most_rated = '|'.join(most_rated)\n",
    "    return most_rated\n",
    "\n",
    "most_rated = user_feature.copy()\n",
    "most_rated['genres'] = most_rated['genres'] + \"|\"\n",
    "most_rated = most_rated.groupby('userId')[['genres']].sum().reset_index()\n",
    "most_rated['genres'] = most_rated['genres'].apply(lambda genre : most_rated_genres(genre))\n",
    "most_rated.loc[most_rated['genres'] == '(no genres listed)', 'genres'] = None"
   ]
  },
  {
   "cell_type": "code",
   "execution_count": 101,
   "id": "ae399daa",
   "metadata": {},
   "outputs": [
    {
     "data": {
      "text/html": [
       "<div>\n",
       "<style scoped>\n",
       "    .dataframe tbody tr th:only-of-type {\n",
       "        vertical-align: middle;\n",
       "    }\n",
       "\n",
       "    .dataframe tbody tr th {\n",
       "        vertical-align: top;\n",
       "    }\n",
       "\n",
       "    .dataframe thead th {\n",
       "        text-align: right;\n",
       "    }\n",
       "</style>\n",
       "<table border=\"1\" class=\"dataframe\">\n",
       "  <thead>\n",
       "    <tr style=\"text-align: right;\">\n",
       "      <th></th>\n",
       "      <th>userId</th>\n",
       "      <th>genres</th>\n",
       "    </tr>\n",
       "  </thead>\n",
       "  <tbody>\n",
       "    <tr>\n",
       "      <th>0</th>\n",
       "      <td>1</td>\n",
       "      <td>Action</td>\n",
       "    </tr>\n",
       "    <tr>\n",
       "      <th>1</th>\n",
       "      <td>2</td>\n",
       "      <td>Drama</td>\n",
       "    </tr>\n",
       "    <tr>\n",
       "      <th>2</th>\n",
       "      <td>3</td>\n",
       "      <td>Drama</td>\n",
       "    </tr>\n",
       "    <tr>\n",
       "      <th>3</th>\n",
       "      <td>4</td>\n",
       "      <td>Drama</td>\n",
       "    </tr>\n",
       "    <tr>\n",
       "      <th>4</th>\n",
       "      <td>5</td>\n",
       "      <td>Drama</td>\n",
       "    </tr>\n",
       "  </tbody>\n",
       "</table>\n",
       "</div>"
      ],
      "text/plain": [
       "   userId  genres\n",
       "0       1  Action\n",
       "1       2   Drama\n",
       "2       3   Drama\n",
       "3       4   Drama\n",
       "4       5   Drama"
      ]
     },
     "execution_count": 101,
     "metadata": {},
     "output_type": "execute_result"
    }
   ],
   "source": [
    "most_rated.head(5)"
   ]
  },
  {
   "cell_type": "code",
   "execution_count": 102,
   "id": "34c6ee12",
   "metadata": {},
   "outputs": [],
   "source": [
    "# MERGE FEATURE\n",
    "\n",
    "user_feature = rating_given.merge(most_rated, on = 'userId')"
   ]
  },
  {
   "cell_type": "code",
   "execution_count": 103,
   "id": "333daef5",
   "metadata": {},
   "outputs": [
    {
     "data": {
      "text/html": [
       "<div>\n",
       "<style scoped>\n",
       "    .dataframe tbody tr th:only-of-type {\n",
       "        vertical-align: middle;\n",
       "    }\n",
       "\n",
       "    .dataframe tbody tr th {\n",
       "        vertical-align: top;\n",
       "    }\n",
       "\n",
       "    .dataframe thead th {\n",
       "        text-align: right;\n",
       "    }\n",
       "</style>\n",
       "<table border=\"1\" class=\"dataframe\">\n",
       "  <thead>\n",
       "    <tr style=\"text-align: right;\">\n",
       "      <th></th>\n",
       "      <th>userId</th>\n",
       "      <th>numb_rating</th>\n",
       "      <th>genres</th>\n",
       "    </tr>\n",
       "  </thead>\n",
       "  <tbody>\n",
       "    <tr>\n",
       "      <th>0</th>\n",
       "      <td>1</td>\n",
       "      <td>168.0 - 367.5</td>\n",
       "      <td>Action</td>\n",
       "    </tr>\n",
       "    <tr>\n",
       "      <th>1</th>\n",
       "      <td>2</td>\n",
       "      <td>&lt;35.0</td>\n",
       "      <td>Drama</td>\n",
       "    </tr>\n",
       "    <tr>\n",
       "      <th>2</th>\n",
       "      <td>3</td>\n",
       "      <td>35.0 - 70.5</td>\n",
       "      <td>Drama</td>\n",
       "    </tr>\n",
       "    <tr>\n",
       "      <th>3</th>\n",
       "      <td>4</td>\n",
       "      <td>168.0 - 367.5</td>\n",
       "      <td>Drama</td>\n",
       "    </tr>\n",
       "    <tr>\n",
       "      <th>4</th>\n",
       "      <td>5</td>\n",
       "      <td>35.0 - 70.5</td>\n",
       "      <td>Drama</td>\n",
       "    </tr>\n",
       "    <tr>\n",
       "      <th>5</th>\n",
       "      <td>6</td>\n",
       "      <td>168.0 - 367.5</td>\n",
       "      <td>Drama</td>\n",
       "    </tr>\n",
       "    <tr>\n",
       "      <th>6</th>\n",
       "      <td>7</td>\n",
       "      <td>70.5 - 168.0</td>\n",
       "      <td>Action</td>\n",
       "    </tr>\n",
       "    <tr>\n",
       "      <th>7</th>\n",
       "      <td>8</td>\n",
       "      <td>35.0 - 70.5</td>\n",
       "      <td>Comedy</td>\n",
       "    </tr>\n",
       "    <tr>\n",
       "      <th>8</th>\n",
       "      <td>9</td>\n",
       "      <td>35.0 - 70.5</td>\n",
       "      <td>Drama</td>\n",
       "    </tr>\n",
       "    <tr>\n",
       "      <th>9</th>\n",
       "      <td>10</td>\n",
       "      <td>70.5 - 168.0</td>\n",
       "      <td>Comedy</td>\n",
       "    </tr>\n",
       "  </tbody>\n",
       "</table>\n",
       "</div>"
      ],
      "text/plain": [
       "   userId    numb_rating  genres\n",
       "0       1  168.0 - 367.5  Action\n",
       "1       2          <35.0   Drama\n",
       "2       3    35.0 - 70.5   Drama\n",
       "3       4  168.0 - 367.5   Drama\n",
       "4       5    35.0 - 70.5   Drama\n",
       "5       6  168.0 - 367.5   Drama\n",
       "6       7   70.5 - 168.0  Action\n",
       "7       8    35.0 - 70.5  Comedy\n",
       "8       9    35.0 - 70.5   Drama\n",
       "9      10   70.5 - 168.0  Comedy"
      ]
     },
     "execution_count": 103,
     "metadata": {},
     "output_type": "execute_result"
    }
   ],
   "source": [
    "user_feature.head(10)"
   ]
  },
  {
   "cell_type": "markdown",
   "id": "5703f3f6",
   "metadata": {},
   "source": [
    "In user features, numb_rating was a continuous feature and we already discretized it. Genres now become the most rated genres and it is a multiple value feature. We will deal with them again later when creating the LightFM Dataset."
   ]
  },
  {
   "cell_type": "markdown",
   "id": "7a32fd6f",
   "metadata": {},
   "source": [
    "### Create Item Feature <a class='anchor' id='prep_train_itemfeature'></a>\n",
    "\n",
    "we will create some simple features for item such as:\n",
    "- genres (we leave it as it is)\n",
    "- release year (we will extract it from the title)"
   ]
  },
  {
   "cell_type": "code",
   "execution_count": 120,
   "id": "76072cd2",
   "metadata": {},
   "outputs": [
    {
     "name": "stderr",
     "output_type": "stream",
     "text": [
      "/tmp/ipykernel_3806950/867364846.py:6: FutureWarning: The default value of regex will change from True to False in a future version.\n",
      "  mv_feature['release_year'] = mv_feature['release_year'].str.replace(\"[^0-9]\",\"\")\n"
     ]
    }
   ],
   "source": [
    "mv_feature = data_mv.copy()\n",
    "\n",
    "#EXTRACT YEAR FROM TITLE\n",
    "mv_feature['title'] = mv_feature['title'].str.strip()\n",
    "mv_feature['release_year'] = mv_feature['title'].str.split(\" \").str[-1]\n",
    "mv_feature['release_year'] = mv_feature['release_year'].str.replace(\"[^0-9]\",\"\")\n",
    "mv_feature['release_year'] = mv_feature['release_year'].str[0:4]\n",
    "mv_feature.loc[mv_feature['release_year'] != '', \n",
    "               'release_year'] = mv_feature.loc[mv_feature['release_year'] != '', \n",
    "                                                'release_year'].apply(lambda year : discretize(int(year),\n",
    "                                                                                               [1990,2000,\n",
    "                                                                                                2010,2015,\n",
    "                                                                                                2020]))\n",
    "mv_feature.loc[mv_feature['release_year'] == '', 'release_year'] = None\n",
    "\n",
    "# litle preprocess for genres\n",
    "mv_feature.loc[mv_feature['genres'] == \"(no genres listed)\", 'genres'] = None\n",
    "\n",
    "mv_feature = mv_feature.drop('title',axis=1)"
   ]
  },
  {
   "cell_type": "code",
   "execution_count": 122,
   "id": "d0810cb4",
   "metadata": {},
   "outputs": [
    {
     "data": {
      "text/html": [
       "<div>\n",
       "<style scoped>\n",
       "    .dataframe tbody tr th:only-of-type {\n",
       "        vertical-align: middle;\n",
       "    }\n",
       "\n",
       "    .dataframe tbody tr th {\n",
       "        vertical-align: top;\n",
       "    }\n",
       "\n",
       "    .dataframe thead th {\n",
       "        text-align: right;\n",
       "    }\n",
       "</style>\n",
       "<table border=\"1\" class=\"dataframe\">\n",
       "  <thead>\n",
       "    <tr style=\"text-align: right;\">\n",
       "      <th></th>\n",
       "      <th>movieId</th>\n",
       "      <th>genres</th>\n",
       "      <th>release_year</th>\n",
       "    </tr>\n",
       "  </thead>\n",
       "  <tbody>\n",
       "    <tr>\n",
       "      <th>0</th>\n",
       "      <td>1</td>\n",
       "      <td>Adventure|Animation|Children|Comedy|Fantasy</td>\n",
       "      <td>1990 - 2000</td>\n",
       "    </tr>\n",
       "    <tr>\n",
       "      <th>1</th>\n",
       "      <td>2</td>\n",
       "      <td>Adventure|Children|Fantasy</td>\n",
       "      <td>1990 - 2000</td>\n",
       "    </tr>\n",
       "    <tr>\n",
       "      <th>2</th>\n",
       "      <td>3</td>\n",
       "      <td>Comedy|Romance</td>\n",
       "      <td>1990 - 2000</td>\n",
       "    </tr>\n",
       "    <tr>\n",
       "      <th>3</th>\n",
       "      <td>4</td>\n",
       "      <td>Comedy|Drama|Romance</td>\n",
       "      <td>1990 - 2000</td>\n",
       "    </tr>\n",
       "    <tr>\n",
       "      <th>4</th>\n",
       "      <td>5</td>\n",
       "      <td>Comedy</td>\n",
       "      <td>1990 - 2000</td>\n",
       "    </tr>\n",
       "    <tr>\n",
       "      <th>5</th>\n",
       "      <td>6</td>\n",
       "      <td>Action|Crime|Thriller</td>\n",
       "      <td>1990 - 2000</td>\n",
       "    </tr>\n",
       "    <tr>\n",
       "      <th>6</th>\n",
       "      <td>7</td>\n",
       "      <td>Comedy|Romance</td>\n",
       "      <td>1990 - 2000</td>\n",
       "    </tr>\n",
       "    <tr>\n",
       "      <th>7</th>\n",
       "      <td>8</td>\n",
       "      <td>Adventure|Children</td>\n",
       "      <td>1990 - 2000</td>\n",
       "    </tr>\n",
       "    <tr>\n",
       "      <th>8</th>\n",
       "      <td>9</td>\n",
       "      <td>Action</td>\n",
       "      <td>1990 - 2000</td>\n",
       "    </tr>\n",
       "    <tr>\n",
       "      <th>9</th>\n",
       "      <td>10</td>\n",
       "      <td>Action|Adventure|Thriller</td>\n",
       "      <td>1990 - 2000</td>\n",
       "    </tr>\n",
       "  </tbody>\n",
       "</table>\n",
       "</div>"
      ],
      "text/plain": [
       "   movieId                                       genres release_year\n",
       "0        1  Adventure|Animation|Children|Comedy|Fantasy  1990 - 2000\n",
       "1        2                   Adventure|Children|Fantasy  1990 - 2000\n",
       "2        3                               Comedy|Romance  1990 - 2000\n",
       "3        4                         Comedy|Drama|Romance  1990 - 2000\n",
       "4        5                                       Comedy  1990 - 2000\n",
       "5        6                        Action|Crime|Thriller  1990 - 2000\n",
       "6        7                               Comedy|Romance  1990 - 2000\n",
       "7        8                           Adventure|Children  1990 - 2000\n",
       "8        9                                       Action  1990 - 2000\n",
       "9       10                    Action|Adventure|Thriller  1990 - 2000"
      ]
     },
     "execution_count": 122,
     "metadata": {},
     "output_type": "execute_result"
    }
   ],
   "source": [
    "mv_feature.head(10)"
   ]
  },
  {
   "cell_type": "markdown",
   "id": "fd577103",
   "metadata": {},
   "source": [
    "## Create Data Test <a class='anchor' id='prep_test'></a>"
   ]
  },
  {
   "cell_type": "code",
   "execution_count": 285,
   "id": "ef6ec6a0",
   "metadata": {},
   "outputs": [],
   "source": [
    "# CREATE DATA TEST\n",
    "def generate_data_test(user_df, mv_df, rated_pair_df):\n",
    "    temp_user = user_df.copy()\n",
    "    temp_user['key'] = 1\n",
    "\n",
    "    temp_mv = mv_df.copy()\n",
    "    temp_mv['key'] = 1\n",
    "\n",
    "    #cross join temp_user and temp_mv\n",
    "    data_test = temp_user.merge(temp_mv,on='key').drop('key',axis=1)\n",
    "\n",
    "    #join data test and a data that contains rated user-item pairs to get the rating\n",
    "    data_test = data_test.merge(rated_pair_df, how='left', on=['userId','movieId'])\n",
    "\n",
    "    #exclude rated data on data test\n",
    "    data_test = data_test[data_test['rating'].isna()]\n",
    "    \n",
    "    return data_test"
   ]
  },
  {
   "cell_type": "markdown",
   "id": "5a61efab",
   "metadata": {},
   "source": [
    "## Create LightFM Dataset <a class='anchor' id='prep_lfmdataset'></a>\n",
    "\n",
    "Dataset in LighFM is like a dictionary to store every user and item and their features. The LightFM Dataset is not a tabular data so there are no columns there. We will put all the features in a list. Look at the <a href='https://making.lyst.com/lightfm/docs/lightfm.data.html' target='_blank'>documentation</a> to know more about LightFM Dataset\n",
    "\n",
    "To distinct one feature with another (as mentioned before that LightFM Dataset have no columns) we can add the column name before the value of each feature. For example, for **action** genre we can change it to **genres:action**"
   ]
  },
  {
   "cell_type": "code",
   "execution_count": 150,
   "id": "70bd6b27",
   "metadata": {},
   "outputs": [],
   "source": [
    "dataset = Dataset()"
   ]
  },
  {
   "cell_type": "markdown",
   "id": "c3bf6ea2",
   "metadata": {},
   "source": [
    "### Create Interaction LightFM Dataset <a class='anchor' id='prep_lfmdataset_intr'></a>"
   ]
  },
  {
   "cell_type": "code",
   "execution_count": 199,
   "id": "0cea34b7",
   "metadata": {},
   "outputs": [
    {
     "name": "stdout",
     "output_type": "stream",
     "text": [
      "interaction shape =  (610, 9724)\n"
     ]
    }
   ],
   "source": [
    "# STORE USER ID AND MOVIE ID TO DATASET\n",
    "dataset.fit(data_interaction['userId'].unique(),\n",
    "           data_interaction['movieId'].unique())\n",
    "\n",
    "print(\"interaction shape = \", dataset.interactions_shape())\n",
    "\n",
    "#BUILD INTERACTION\n",
    "(interactions, weights) = dataset.build_interactions((tuple(i) for i in data_interaction[['userId','movieId']].values))"
   ]
  },
  {
   "cell_type": "code",
   "execution_count": 200,
   "id": "385f84e2",
   "metadata": {},
   "outputs": [
    {
     "data": {
      "text/plain": [
       "array([[1, 1, 1, ..., 0, 0, 0],\n",
       "       [0, 0, 0, ..., 0, 0, 0],\n",
       "       [0, 0, 0, ..., 0, 0, 0],\n",
       "       ...,\n",
       "       [1, 1, 0, ..., 0, 0, 0],\n",
       "       [1, 0, 0, ..., 0, 0, 0],\n",
       "       [1, 0, 1, ..., 1, 1, 1]], dtype=int32)"
      ]
     },
     "execution_count": 200,
     "metadata": {},
     "output_type": "execute_result"
    }
   ],
   "source": [
    "# INTERACTION\n",
    "interactions.toarray()"
   ]
  },
  {
   "cell_type": "code",
   "execution_count": 201,
   "id": "b383d37d",
   "metadata": {},
   "outputs": [
    {
     "data": {
      "text/plain": [
       "array([[1., 1., 1., ..., 0., 0., 0.],\n",
       "       [0., 0., 0., ..., 0., 0., 0.],\n",
       "       [0., 0., 0., ..., 0., 0., 0.],\n",
       "       ...,\n",
       "       [1., 1., 0., ..., 0., 0., 0.],\n",
       "       [1., 0., 0., ..., 0., 0., 0.],\n",
       "       [1., 0., 1., ..., 1., 1., 1.]], dtype=float32)"
      ]
     },
     "execution_count": 201,
     "metadata": {},
     "output_type": "execute_result"
    }
   ],
   "source": [
    "# WEIGHTS\n",
    "weights.toarray()"
   ]
  },
  {
   "cell_type": "markdown",
   "id": "a18c03cb",
   "metadata": {},
   "source": [
    "### Create User Feature LightFM Dataset <a class='anchor' id='prep_lfmdataset_uf'></a>"
   ]
  },
  {
   "cell_type": "code",
   "execution_count": 202,
   "id": "aedf324e",
   "metadata": {},
   "outputs": [],
   "source": [
    "# you can store users who have no interactions if any\n",
    "dataset.fit_partial(users = user_feature['userId'].unique())"
   ]
  },
  {
   "cell_type": "code",
   "execution_count": 203,
   "id": "f43e541c",
   "metadata": {},
   "outputs": [],
   "source": [
    "#ADD COLUMN NAME BEFORE THE VALUE OF EACH FEATURE\n",
    "\n",
    "for i in user_feature.columns[1:]:\n",
    "    user_feature[i] = str(i) + \":\" + user_feature[i]"
   ]
  },
  {
   "cell_type": "code",
   "execution_count": 204,
   "id": "c2392222",
   "metadata": {},
   "outputs": [
    {
     "data": {
      "text/html": [
       "<div>\n",
       "<style scoped>\n",
       "    .dataframe tbody tr th:only-of-type {\n",
       "        vertical-align: middle;\n",
       "    }\n",
       "\n",
       "    .dataframe tbody tr th {\n",
       "        vertical-align: top;\n",
       "    }\n",
       "\n",
       "    .dataframe thead th {\n",
       "        text-align: right;\n",
       "    }\n",
       "</style>\n",
       "<table border=\"1\" class=\"dataframe\">\n",
       "  <thead>\n",
       "    <tr style=\"text-align: right;\">\n",
       "      <th></th>\n",
       "      <th>userId</th>\n",
       "      <th>numb_rating</th>\n",
       "      <th>genres</th>\n",
       "    </tr>\n",
       "  </thead>\n",
       "  <tbody>\n",
       "    <tr>\n",
       "      <th>0</th>\n",
       "      <td>1</td>\n",
       "      <td>numb_rating:numb_rating:168.0 - 367.5</td>\n",
       "      <td>genres:genres:Action</td>\n",
       "    </tr>\n",
       "    <tr>\n",
       "      <th>1</th>\n",
       "      <td>2</td>\n",
       "      <td>numb_rating:numb_rating:&lt;35.0</td>\n",
       "      <td>genres:genres:Drama</td>\n",
       "    </tr>\n",
       "    <tr>\n",
       "      <th>2</th>\n",
       "      <td>3</td>\n",
       "      <td>numb_rating:numb_rating:35.0 - 70.5</td>\n",
       "      <td>genres:genres:Drama</td>\n",
       "    </tr>\n",
       "    <tr>\n",
       "      <th>3</th>\n",
       "      <td>4</td>\n",
       "      <td>numb_rating:numb_rating:168.0 - 367.5</td>\n",
       "      <td>genres:genres:Drama</td>\n",
       "    </tr>\n",
       "    <tr>\n",
       "      <th>4</th>\n",
       "      <td>5</td>\n",
       "      <td>numb_rating:numb_rating:35.0 - 70.5</td>\n",
       "      <td>genres:genres:Drama</td>\n",
       "    </tr>\n",
       "  </tbody>\n",
       "</table>\n",
       "</div>"
      ],
      "text/plain": [
       "   userId                            numb_rating                genres\n",
       "0       1  numb_rating:numb_rating:168.0 - 367.5  genres:genres:Action\n",
       "1       2          numb_rating:numb_rating:<35.0   genres:genres:Drama\n",
       "2       3    numb_rating:numb_rating:35.0 - 70.5   genres:genres:Drama\n",
       "3       4  numb_rating:numb_rating:168.0 - 367.5   genres:genres:Drama\n",
       "4       5    numb_rating:numb_rating:35.0 - 70.5   genres:genres:Drama"
      ]
     },
     "execution_count": 204,
     "metadata": {},
     "output_type": "execute_result"
    }
   ],
   "source": [
    "user_feature.head()"
   ]
  },
  {
   "cell_type": "code",
   "execution_count": 205,
   "id": "ff93389b",
   "metadata": {},
   "outputs": [],
   "source": [
    "# STORE THE VALUES OF EACH FEATURE AS LIST\n",
    "for i in user_feature.columns[1:]:\n",
    "    dataset.fit_partial(user_features = [j for j in user_feature[i] if pd.isnull(j) == False])\n",
    "    \n",
    "# BUILD USER FEATURE => [(userId,{features}), ....]\n",
    "user_features = [(i[0],{j for j in i[1:] if pd.isnull(j) == False}) for i in user_feature.values]\n",
    "user_features = dataset.build_user_features(user_features, normalize = True)"
   ]
  },
  {
   "cell_type": "code",
   "execution_count": 206,
   "id": "374fe020",
   "metadata": {},
   "outputs": [
    {
     "data": {
      "text/plain": [
       "array([[0.33333334, 0.        , 0.        , ..., 0.        , 0.        ,\n",
       "        0.        ],\n",
       "       [0.        , 0.33333334, 0.        , ..., 0.        , 0.        ,\n",
       "        0.        ],\n",
       "       [0.        , 0.        , 0.33333334, ..., 0.        , 0.        ,\n",
       "        0.        ],\n",
       "       ...,\n",
       "       [0.        , 0.        , 0.        , ..., 0.        , 0.        ,\n",
       "        0.        ],\n",
       "       [0.        , 0.        , 0.        , ..., 0.        , 0.        ,\n",
       "        0.        ],\n",
       "       [0.        , 0.        , 0.        , ..., 0.        , 0.        ,\n",
       "        0.        ]], dtype=float32)"
      ]
     },
     "execution_count": 206,
     "metadata": {},
     "output_type": "execute_result"
    }
   ],
   "source": [
    "user_features.toarray()"
   ]
  },
  {
   "cell_type": "markdown",
   "id": "43a07e74",
   "metadata": {},
   "source": [
    "### Create Item Feature LightFM Dataset <a class='anchor' id='prep_lfmdataset_if'></a>"
   ]
  },
  {
   "cell_type": "code",
   "execution_count": 207,
   "id": "e55938b5",
   "metadata": {},
   "outputs": [],
   "source": [
    "# you can store items who have no interactions if any\n",
    "dataset.fit_partial(items = mv_feature['movieId'].unique())"
   ]
  },
  {
   "cell_type": "code",
   "execution_count": 208,
   "id": "48cc29a8",
   "metadata": {},
   "outputs": [],
   "source": [
    "#ADD COLUMN NAME BEFORE THE VALUE OF EACH FEATURE\n",
    "\n",
    "def add_column_name_for_multiplevalues(str_multival, col_name, sep = \"|\"):\n",
    "    try:\n",
    "        split_multival = str_multival.split(sep)\n",
    "        named_multival = [col_name+\":\"+i for i in split_multival]\n",
    "        return \"|\".join(named_multival)\n",
    "    except:\n",
    "        return str_multival\n",
    "\n",
    "mv_feature['genres'] = mv_feature['genres'].apply(lambda genre : add_column_name_for_multiplevalues(genre,'genres'))\n",
    "mv_feature['release_year'] = \"release_year\" + \":\" + mv_feature['release_year']"
   ]
  },
  {
   "cell_type": "code",
   "execution_count": 209,
   "id": "b8c6c299",
   "metadata": {},
   "outputs": [],
   "source": [
    "# STORE THE VALUES OF EACH FEATURE AS LIST\n",
    "dataset.fit_partial(item_features = \"|\".join([i for i in mv_feature['genres'] if pd.isnull(i) == False]).split(\"|\"))\n",
    "dataset.fit_partial(item_features = [i for i in mv_feature['release_year'] if pd.isnull(i) == False])\n",
    "    \n",
    "# BUILD ITEM FEATURE => [(MovieId,{features}), ....]\n",
    "item_features = [(i[0],{j for j in \"|\".join\n",
    "                        ([k for k in i[1:] if pd.isnull(k) == False]).split(\"|\") if j != ''}) for i in mv_feature.values]\n",
    "item_features = dataset.build_item_features(item_features, normalize = True)"
   ]
  },
  {
   "cell_type": "code",
   "execution_count": 210,
   "id": "fde131fb",
   "metadata": {},
   "outputs": [
    {
     "data": {
      "text/plain": [
       "array([[0.14285715, 0.        , 0.        , ..., 0.        , 0.        ,\n",
       "        0.        ],\n",
       "       [0.        , 0.25      , 0.        , ..., 0.        , 0.        ,\n",
       "        0.        ],\n",
       "       [0.        , 0.        , 0.2       , ..., 0.        , 0.        ,\n",
       "        0.        ],\n",
       "       ...,\n",
       "       [0.        , 0.        , 0.        , ..., 0.        , 0.        ,\n",
       "        0.        ],\n",
       "       [0.        , 0.        , 0.        , ..., 0.        , 0.        ,\n",
       "        0.        ],\n",
       "       [0.        , 0.        , 0.        , ..., 0.        , 0.25      ,\n",
       "        0.        ]], dtype=float32)"
      ]
     },
     "execution_count": 210,
     "metadata": {},
     "output_type": "execute_result"
    }
   ],
   "source": [
    "item_features.toarray()"
   ]
  },
  {
   "cell_type": "markdown",
   "id": "e3752d94",
   "metadata": {},
   "source": [
    "### Take a Look At LightFM Dataset <a class='anchor' id='prep_lfmdataset_look'></a>\n",
    "\n",
    "Complete LightFM dataset contains 4 dictionary:\n",
    "- **user mapping**, contains map of userId (index = 0)\n",
    "- **user feature mapping**, contains map of user feature (index = 1)\n",
    "- **item mapping**, contains map of item Id (index = 2)\n",
    "- **item feature mapping**, contains map of item feature (index = 3)"
   ]
  },
  {
   "cell_type": "code",
   "execution_count": 215,
   "id": "d410c6fc",
   "metadata": {},
   "outputs": [],
   "source": [
    "userId_map, user_feature_map, item_map, item_feature_map = dataset.mapping()"
   ]
  },
  {
   "cell_type": "code",
   "execution_count": 248,
   "id": "d94cb508",
   "metadata": {},
   "outputs": [
    {
     "name": "stdout",
     "output_type": "stream",
     "text": [
      "First 10 :  [(1, 0), (2, 1), (3, 2), (4, 3), (5, 4), (6, 5), (7, 6), (8, 7), (9, 8), (10, 9)]\n",
      "Last 10 :  [(601, 600), (602, 601), (603, 602), (604, 603), (605, 604), (606, 605), (607, 606), (608, 607), (609, 608), (610, 609)]\n"
     ]
    }
   ],
   "source": [
    "# userId Map\n",
    "print(\"First 10 : \",list(userId_map.items())[:10])\n",
    "print(\"Last 10 : \",list(userId_map.items())[-10:])"
   ]
  },
  {
   "cell_type": "code",
   "execution_count": 249,
   "id": "7c3d1441",
   "metadata": {},
   "outputs": [
    {
     "name": "stdout",
     "output_type": "stream",
     "text": [
      "First 10 :  [(1, 0), (2, 1), (3, 2), (4, 3), (5, 4), (6, 5), (7, 6), (8, 7), (9, 8), (10, 9)]\n",
      "Last 10 :  [('genres:genres:Thriller|Comedy|Adventure', 633), ('genres:genres:Thriller|Drama', 634), ('genres:genres:Crime|Drama', 635), ('genres:genres:Drama|Comedy', 636), ('genres:genres:Animation', 637), ('genres:genres:Comedy|Drama|Adventure|Action', 638), ('genres:genres:Horror', 639), ('genres:genres:Adventure|Fantasy', 640), ('genres:genres:Adventure|Drama', 641), ('genres:genres:Fantasy', 642)]\n"
     ]
    }
   ],
   "source": [
    "# user feature Map\n",
    "print(\"First 10 : \",list(user_feature_map.items())[:10])\n",
    "print(\"Last 10 : \",list(user_feature_map.items())[-10:])"
   ]
  },
  {
   "cell_type": "code",
   "execution_count": 250,
   "id": "3f7ca97b",
   "metadata": {},
   "outputs": [
    {
     "name": "stdout",
     "output_type": "stream",
     "text": [
      "First 10 :  [(1, 0), (3, 1), (6, 2), (47, 3), (50, 4), (70, 5), (101, 6), (110, 7), (151, 8), (157, 9)]\n",
      "Last 10 :  [(7020, 9732), (7792, 9733), (8765, 9734), (25855, 9735), (26085, 9736), (30892, 9737), (32160, 9738), (32371, 9739), (34482, 9740), (85565, 9741)]\n"
     ]
    }
   ],
   "source": [
    "# item map\n",
    "print(\"First 10 : \",list(item_map.items())[:10])\n",
    "print(\"Last 10 : \",list(item_map.items())[-10:])"
   ]
  },
  {
   "cell_type": "code",
   "execution_count": 252,
   "id": "0a5e856f",
   "metadata": {},
   "outputs": [
    {
     "name": "stdout",
     "output_type": "stream",
     "text": [
      "First 10 :  [(1, 0), (3, 1), (6, 2), (47, 3), (50, 4), (70, 5), (101, 6), (110, 7), (151, 8), (157, 9)]\n",
      "Last 10 :  [('genres:genres:Musical', 9756), ('genres:genres:Documentary', 9757), ('genres:genres:IMAX', 9758), ('genres:genres:Western', 9759), ('genres:genres:Film-Noir', 9760), ('release_year:release_year:1990 - 2000', 9761), ('release_year:release_year:<1990', 9762), ('release_year:release_year:2000 - 2010', 9763), ('release_year:release_year:2010 - 2015', 9764), ('release_year:release_year:2015 - 2020', 9765)]\n"
     ]
    }
   ],
   "source": [
    "# item feature map\n",
    "print(\"First 10 : \",list(item_feature_map.items())[:10])\n",
    "print(\"Last 10 : \",list(item_feature_map.items())[-10:])"
   ]
  },
  {
   "cell_type": "markdown",
   "id": "a2429f94",
   "metadata": {},
   "source": [
    "# Modeling <a class='anchor' id='model'></a>"
   ]
  },
  {
   "cell_type": "markdown",
   "id": "f0ba2e70",
   "metadata": {},
   "source": [
    "## Hyperparameter Tuning <a class='anchor' id='model_tuning'></a>\n",
    "\n",
    "We will use random searh to do the hyperparameter tuning. We can choose any evaluation method for tuning as long as the method is supported by LightFM. See <a href = 'https://making.lyst.com/lightfm/docs/lightfm.evaluation.html' target = '_blank'>documentaion</a> to know available evaluation methods."
   ]
  },
  {
   "cell_type": "code",
   "execution_count": 270,
   "id": "96fe5a2f",
   "metadata": {},
   "outputs": [],
   "source": [
    "def sample_hyperparameters():\n",
    "    \"\"\"\n",
    "    Yield possible hyperparameter choices.\n",
    "    \"\"\"\n",
    "\n",
    "    while True:\n",
    "        yield {\n",
    "            \"no_components\": np.random.randint(16, 64),\n",
    "            \"learning_schedule\": np.random.choice([\"adagrad\", \"adadelta\"]),\n",
    "            \"loss\": np.random.choice([\"bpr\", \"warp\", \"warp-kos\"]),\n",
    "            \"learning_rate\": np.random.exponential(0.05),\n",
    "            \"item_alpha\": np.random.exponential(1e-8),\n",
    "            \"user_alpha\": np.random.exponential(1e-8),\n",
    "            \"max_sampled\": np.random.randint(5, 15),\n",
    "            \"num_epochs\": np.random.randint(5, 50),\n",
    "        }\n",
    "\n",
    "def random_search(train, test, item_features = None, user_features = None, evaluation_method = 'recall_at_k',num_samples=10, num_threads = 1):\n",
    "    \"\"\"\n",
    "    Sample random hyperparameters, fit a LightFM model, and evaluate it\n",
    "    on the test set.\n",
    "\n",
    "    Parameters\n",
    "    ----------\n",
    "\n",
    "    train: np.float32 coo_matrix of shape [n_users, n_items]\n",
    "        Training data.\n",
    "    test: np.float32 coo_matrix of shape [n_users, n_items]\n",
    "        Test data.\n",
    "    evaluation_method = str, optional choose one of ['recall_at_k','precision_at_k','auc_score','reciprocal_rank']\n",
    "        method to evaluate the model \n",
    "    num_samples: int, optional\n",
    "        Number of hyperparameter choices to evaluate.\n",
    "    num_threads: int, optional\n",
    "        Number of threads\n",
    "\n",
    "\n",
    "    Returns\n",
    "    -------\n",
    "\n",
    "    generator of (evaluation_score, hyperparameter dict)\n",
    "\n",
    "    \"\"\"\n",
    "    results = []\n",
    "    for hyperparams in itertools.islice(sample_hyperparameters(), num_samples):\n",
    "        num_epochs = hyperparams.pop(\"num_epochs\")\n",
    "\n",
    "        model = LightFM(**hyperparams)\n",
    "        model.fit(train, \n",
    "                  item_features = item_features, \n",
    "                  user_features = user_features,\n",
    "                  epochs=num_epochs, \n",
    "                  num_threads=num_threads)\n",
    "\n",
    "        if evaluation_method == 'recall_at_k':\n",
    "            score = recall_at_k(model, test, train_interactions=train,item_features=item_features,user_features=user_features, num_threads=num_threads).mean()\n",
    "        elif evaluation_method == 'precision_at_k':\n",
    "            score = precision_at_k(model, test, train_interactions=train,item_features=item_features,user_features=user_features, num_threads=num_threads).mean()\n",
    "        elif evaluation_method == 'auc_score':\n",
    "            score = auc_score(model, test, train_interactions=train,item_features=item_features,user_features=user_features, num_threads=num_threads).mean()\n",
    "        elif evaluation_method == 'reciprocal_rank':\n",
    "            score = reciprocal_rank(model, test, train_interactions=train,item_features=item_features,user_features=user_features, num_threads=num_threads).mean()\n",
    "        else:\n",
    "            print(\"available evaluation method = ['recall_at_k','precision_at_k','auc_score','reciprocal_rank']\")\n",
    "            return (0,{})\n",
    "\n",
    "        hyperparams[\"num_epochs\"] = num_epochs\n",
    "        results.append(tuple([score,hyperparams]))\n",
    "\n",
    "    return max(results, key = lambda x:x[0])"
   ]
  },
  {
   "cell_type": "code",
   "execution_count": 271,
   "id": "9b443c77",
   "metadata": {},
   "outputs": [],
   "source": [
    "(train, test) = random_train_test_split(interactions=interactions, test_percentage=0.2)"
   ]
  },
  {
   "cell_type": "code",
   "execution_count": 272,
   "id": "6afe82be",
   "metadata": {},
   "outputs": [],
   "source": [
    "score,hyperparameter = random_search(train,\n",
    "                                     test,\n",
    "                                     item_features = item_features,\n",
    "                                     user_features = user_features,\n",
    "                                     evaluation_method='recall_at_k',\n",
    "                                     num_threads = os.cpu_count())"
   ]
  },
  {
   "cell_type": "code",
   "execution_count": 273,
   "id": "c1abc868",
   "metadata": {},
   "outputs": [
    {
     "name": "stdout",
     "output_type": "stream",
     "text": [
      "score =  0.11259901687886416\n",
      "\n",
      "hyperparameter =  \n",
      "{'no_components': 57, 'learning_schedule': 'adadelta', 'loss': 'warp-kos', 'learning_rate': 0.029479367712465857, 'item_alpha': 3.9639333271664814e-10, 'user_alpha': 8.708878975209094e-09, 'max_sampled': 11, 'num_epochs': 46}\n"
     ]
    }
   ],
   "source": [
    "print(\"score = \",score)\n",
    "print()\n",
    "print(\"hyperparameter =  \")\n",
    "print(hyperparameter)"
   ]
  },
  {
   "cell_type": "markdown",
   "id": "9f677f17",
   "metadata": {},
   "source": [
    "## Training <a class='anchor' id='model_train'></a>\n",
    "\n",
    "We will use <a href = 'https://making.lyst.com/lightfm/docs/lightfm.html' target = '_blank'>LightFM Method</a> from LightFM library."
   ]
  },
  {
   "cell_type": "code",
   "execution_count": 274,
   "id": "b8c80786",
   "metadata": {},
   "outputs": [
    {
     "data": {
      "text/plain": [
       "<lightfm.lightfm.LightFM at 0x7fd3cea15550>"
      ]
     },
     "execution_count": 274,
     "metadata": {},
     "output_type": "execute_result"
    }
   ],
   "source": [
    "model = LightFM()\n",
    "\n",
    "epoch = hyperparameter.pop('num_epochs')\n",
    "model.set_params(**hyperparameter)"
   ]
  },
  {
   "cell_type": "code",
   "execution_count": 279,
   "id": "aa8956d6",
   "metadata": {},
   "outputs": [
    {
     "data": {
      "text/plain": [
       "<lightfm.lightfm.LightFM at 0x7fd3cea15550>"
      ]
     },
     "execution_count": 279,
     "metadata": {},
     "output_type": "execute_result"
    }
   ],
   "source": [
    "model.fit(interactions, \n",
    "          item_features = item_features, \n",
    "          user_features = user_features,\n",
    "          epochs=epoch, \n",
    "          num_threads=os.cpu_count())"
   ]
  },
  {
   "cell_type": "markdown",
   "id": "e8c2cd31",
   "metadata": {},
   "source": [
    "## Evaluation <a class='anchor' id='model_eval'></a>\n",
    "\n",
    "There are two types of evaluation in recommender system, namely online evaluation and offline evaluation. We will use offline evaluation and calculate the recall_at_k, precision_at_k, auc_score, and reciprocal_rank. Check <a href = 'https://making.lyst.com/lightfm/docs/lightfm.evaluation.html' target = '_blank'>documentaion</a> to know more about model evaluation in LightFM"
   ]
  },
  {
   "cell_type": "code",
   "execution_count": 281,
   "id": "a56234cd",
   "metadata": {},
   "outputs": [
    {
     "data": {
      "text/plain": [
       "0.30032897"
      ]
     },
     "execution_count": 281,
     "metadata": {},
     "output_type": "execute_result"
    }
   ],
   "source": [
    "# PRECISION_AT_K\n",
    "precision_at_k(model, test, train_interactions=train,item_features=item_features,user_features=user_features, num_threads=os.cpu_count()).mean()"
   ]
  },
  {
   "cell_type": "code",
   "execution_count": 282,
   "id": "5262106e",
   "metadata": {},
   "outputs": [
    {
     "data": {
      "text/plain": [
       "0.15421254492619657"
      ]
     },
     "execution_count": 282,
     "metadata": {},
     "output_type": "execute_result"
    }
   ],
   "source": [
    "# RECALL_AT_K\n",
    "recall_at_k(model, test, train_interactions=train,item_features=item_features,user_features=user_features, num_threads=os.cpu_count()).mean()"
   ]
  },
  {
   "cell_type": "code",
   "execution_count": 283,
   "id": "56c4e285",
   "metadata": {},
   "outputs": [
    {
     "data": {
      "text/plain": [
       "0.94467086"
      ]
     },
     "execution_count": 283,
     "metadata": {},
     "output_type": "execute_result"
    }
   ],
   "source": [
    "# AUC_SCORE\n",
    "auc_score(model, test, train_interactions=train,item_features=item_features,user_features=user_features, num_threads=os.cpu_count()).mean()"
   ]
  },
  {
   "cell_type": "code",
   "execution_count": 284,
   "id": "1df32a0d",
   "metadata": {},
   "outputs": [
    {
     "data": {
      "text/plain": [
       "0.52448004"
      ]
     },
     "execution_count": 284,
     "metadata": {},
     "output_type": "execute_result"
    }
   ],
   "source": [
    "# RECIPROCAL_RANK\n",
    "reciprocal_rank(model, test, train_interactions=train,item_features=item_features,user_features=user_features, num_threads=os.cpu_count()).mean()"
   ]
  },
  {
   "cell_type": "markdown",
   "id": "8650d7fd",
   "metadata": {},
   "source": [
    "The evaluation results of our model are quite good! We have small recall but don't worry it's because there are so many positive items that user have in test set. If you want to know the definition of each calculation go check the <a href = 'https://making.lyst.com/lightfm/docs/lightfm.evaluation.html' target = '_blank'>documentaion</a>"
   ]
  },
  {
   "cell_type": "markdown",
   "id": "1e0bf88e",
   "metadata": {},
   "source": [
    "# Generate Recommendation <a class='anchor' id='generate'></a>\n",
    "\n",
    "We will generate top n recommendation for every user by predict the rating of the unrated user-item pairs (data test). In LightFM we need to input the user index and item index (from LightFM Dataset we built before) to get the recommendation score. Check the predict method in <a href='https://making.lyst.com/lightfm/docs/lightfm.html?highlight=predict#lightfm.LightFM.predict' target='_blank'>documentation</a> to know more."
   ]
  },
  {
   "cell_type": "code",
   "execution_count": null,
   "id": "4ac8cd8c",
   "metadata": {},
   "outputs": [],
   "source": [
    "def generate_data_test(user_df, mv_df, rated_pair_df):\n",
    "    temp_user = user_df.copy()\n",
    "    temp_user['key'] = 1\n",
    "\n",
    "    temp_mv = mv_df.copy()\n",
    "    temp_mv['key'] = 1\n",
    "\n",
    "    #cross join temp_user and temp_mv\n",
    "    data_test = temp_user.merge(temp_mv,on='key').drop('key',axis=1)\n",
    "\n",
    "    #join data test and a data that contains rated user-item pairs to get the rating\n",
    "    data_test = data_test.merge(rated_pair_df, how='left', on=['userId','movieId'])\n",
    "\n",
    "    #exclude rated data on data test\n",
    "    data_test = data_test[data_test['rating'].isna()]\n",
    "    \n",
    "    return data_test"
   ]
  },
  {
   "cell_type": "code",
   "execution_count": 288,
   "id": "4b9ade55",
   "metadata": {},
   "outputs": [],
   "source": [
    "# create user data\n",
    "user_df = pd.DataFrame({'userId':list(dataset.mapping()[0].keys()),\n",
    "                        'user_index':list(dataset.mapping()[0].values())})\n",
    "\n",
    "# create movie data\n",
    "mv_df = pd.DataFrame({'movieId':list(dataset.mapping()[2].keys()),\n",
    "                      'movie_index':list(dataset.mapping()[2].values())})"
   ]
  },
  {
   "cell_type": "code",
   "execution_count": 290,
   "id": "f7553f5b",
   "metadata": {},
   "outputs": [
    {
     "data": {
      "text/html": [
       "<div>\n",
       "<style scoped>\n",
       "    .dataframe tbody tr th:only-of-type {\n",
       "        vertical-align: middle;\n",
       "    }\n",
       "\n",
       "    .dataframe tbody tr th {\n",
       "        vertical-align: top;\n",
       "    }\n",
       "\n",
       "    .dataframe thead th {\n",
       "        text-align: right;\n",
       "    }\n",
       "</style>\n",
       "<table border=\"1\" class=\"dataframe\">\n",
       "  <thead>\n",
       "    <tr style=\"text-align: right;\">\n",
       "      <th></th>\n",
       "      <th>userId</th>\n",
       "      <th>user_index</th>\n",
       "    </tr>\n",
       "  </thead>\n",
       "  <tbody>\n",
       "    <tr>\n",
       "      <th>0</th>\n",
       "      <td>1</td>\n",
       "      <td>0</td>\n",
       "    </tr>\n",
       "    <tr>\n",
       "      <th>1</th>\n",
       "      <td>2</td>\n",
       "      <td>1</td>\n",
       "    </tr>\n",
       "    <tr>\n",
       "      <th>2</th>\n",
       "      <td>3</td>\n",
       "      <td>2</td>\n",
       "    </tr>\n",
       "    <tr>\n",
       "      <th>3</th>\n",
       "      <td>4</td>\n",
       "      <td>3</td>\n",
       "    </tr>\n",
       "    <tr>\n",
       "      <th>4</th>\n",
       "      <td>5</td>\n",
       "      <td>4</td>\n",
       "    </tr>\n",
       "  </tbody>\n",
       "</table>\n",
       "</div>"
      ],
      "text/plain": [
       "   userId  user_index\n",
       "0       1           0\n",
       "1       2           1\n",
       "2       3           2\n",
       "3       4           3\n",
       "4       5           4"
      ]
     },
     "execution_count": 290,
     "metadata": {},
     "output_type": "execute_result"
    }
   ],
   "source": [
    "user_df.head()"
   ]
  },
  {
   "cell_type": "code",
   "execution_count": 291,
   "id": "9425e408",
   "metadata": {},
   "outputs": [
    {
     "data": {
      "text/html": [
       "<div>\n",
       "<style scoped>\n",
       "    .dataframe tbody tr th:only-of-type {\n",
       "        vertical-align: middle;\n",
       "    }\n",
       "\n",
       "    .dataframe tbody tr th {\n",
       "        vertical-align: top;\n",
       "    }\n",
       "\n",
       "    .dataframe thead th {\n",
       "        text-align: right;\n",
       "    }\n",
       "</style>\n",
       "<table border=\"1\" class=\"dataframe\">\n",
       "  <thead>\n",
       "    <tr style=\"text-align: right;\">\n",
       "      <th></th>\n",
       "      <th>movieId</th>\n",
       "      <th>movie_index</th>\n",
       "    </tr>\n",
       "  </thead>\n",
       "  <tbody>\n",
       "    <tr>\n",
       "      <th>0</th>\n",
       "      <td>1</td>\n",
       "      <td>0</td>\n",
       "    </tr>\n",
       "    <tr>\n",
       "      <th>1</th>\n",
       "      <td>3</td>\n",
       "      <td>1</td>\n",
       "    </tr>\n",
       "    <tr>\n",
       "      <th>2</th>\n",
       "      <td>6</td>\n",
       "      <td>2</td>\n",
       "    </tr>\n",
       "    <tr>\n",
       "      <th>3</th>\n",
       "      <td>47</td>\n",
       "      <td>3</td>\n",
       "    </tr>\n",
       "    <tr>\n",
       "      <th>4</th>\n",
       "      <td>50</td>\n",
       "      <td>4</td>\n",
       "    </tr>\n",
       "  </tbody>\n",
       "</table>\n",
       "</div>"
      ],
      "text/plain": [
       "   movieId  movie_index\n",
       "0        1            0\n",
       "1        3            1\n",
       "2        6            2\n",
       "3       47            3\n",
       "4       50            4"
      ]
     },
     "execution_count": 291,
     "metadata": {},
     "output_type": "execute_result"
    }
   ],
   "source": [
    "mv_df.head()"
   ]
  },
  {
   "cell_type": "code",
   "execution_count": 292,
   "id": "7fe135d5",
   "metadata": {},
   "outputs": [
    {
     "data": {
      "text/plain": [
       "[0, 100, 200, 300, 400, 500, 600, 610]"
      ]
     },
     "execution_count": 292,
     "metadata": {},
     "output_type": "execute_result"
    }
   ],
   "source": [
    "# create batch (we will predict 100 by 100 users)\n",
    "\n",
    "batch = list(range(0,len(user_df['userId']),100)) + [len(user_df['userId'])]\n",
    "batch"
   ]
  },
  {
   "cell_type": "code",
   "execution_count": null,
   "id": "3588ba45",
   "metadata": {},
   "outputs": [],
   "source": [
    "model.predict(df_user_batch['user_index'].values, df_user_batch['course_index'].values,item_features=item_features, user_features=user_features)"
   ]
  },
  {
   "cell_type": "code",
   "execution_count": 294,
   "id": "13665c27",
   "metadata": {},
   "outputs": [
    {
     "name": "stderr",
     "output_type": "stream",
     "text": [
      "100%|██████████| 7/7 [00:04<00:00,  1.68it/s]\n"
     ]
    }
   ],
   "source": [
    "n_recommendation = 10 #get top 10 recommendation\n",
    "res_recommendation = pd.DataFrame()\n",
    "\n",
    "for i in tqdm(range(1,len(batch))):\n",
    "    #generate data test\n",
    "    data_test = generate_data_test(user_df.loc[batch[i-1]:batch[i]],mv_df,data_interaction)\n",
    "    \n",
    "    #predict\n",
    "    data_test['prediction'] = model.predict(data_test['user_index'].values, \n",
    "                                            data_test['movie_index'].values,\n",
    "                                            item_features=item_features, \n",
    "                                            user_features=user_features,\n",
    "                                            num_threads=os.cpu_count())\n",
    "    \n",
    "    #sort to get top n\n",
    "    data_test = data_test.sort_values('prediction',ascending=False).reset_index(drop=True)\n",
    "    data_test = data_test.groupby('userId').head(10)\n",
    "    \n",
    "    res_recommendation = res_recommendation.append(data_test[['userId','movieId','prediction']])"
   ]
  },
  {
   "cell_type": "code",
   "execution_count": 299,
   "id": "8e7f77fb",
   "metadata": {},
   "outputs": [],
   "source": [
    "res_recommendation = res_recommendation.sort_values(['userId','prediction'],ascending=[True,False]).reset_index(drop=True)"
   ]
  },
  {
   "cell_type": "code",
   "execution_count": 301,
   "id": "cf320980",
   "metadata": {},
   "outputs": [
    {
     "data": {
      "text/html": [
       "<div>\n",
       "<style scoped>\n",
       "    .dataframe tbody tr th:only-of-type {\n",
       "        vertical-align: middle;\n",
       "    }\n",
       "\n",
       "    .dataframe tbody tr th {\n",
       "        vertical-align: top;\n",
       "    }\n",
       "\n",
       "    .dataframe thead th {\n",
       "        text-align: right;\n",
       "    }\n",
       "</style>\n",
       "<table border=\"1\" class=\"dataframe\">\n",
       "  <thead>\n",
       "    <tr style=\"text-align: right;\">\n",
       "      <th></th>\n",
       "      <th>userId</th>\n",
       "      <th>movieId</th>\n",
       "      <th>prediction</th>\n",
       "    </tr>\n",
       "  </thead>\n",
       "  <tbody>\n",
       "    <tr>\n",
       "      <th>0</th>\n",
       "      <td>1</td>\n",
       "      <td>1200</td>\n",
       "      <td>-4161.587402</td>\n",
       "    </tr>\n",
       "    <tr>\n",
       "      <th>1</th>\n",
       "      <td>1</td>\n",
       "      <td>858</td>\n",
       "      <td>-4161.893066</td>\n",
       "    </tr>\n",
       "    <tr>\n",
       "      <th>2</th>\n",
       "      <td>1</td>\n",
       "      <td>588</td>\n",
       "      <td>-4161.947754</td>\n",
       "    </tr>\n",
       "    <tr>\n",
       "      <th>3</th>\n",
       "      <td>1</td>\n",
       "      <td>3114</td>\n",
       "      <td>-4162.174805</td>\n",
       "    </tr>\n",
       "    <tr>\n",
       "      <th>4</th>\n",
       "      <td>1</td>\n",
       "      <td>1610</td>\n",
       "      <td>-4162.375488</td>\n",
       "    </tr>\n",
       "    <tr>\n",
       "      <th>5</th>\n",
       "      <td>1</td>\n",
       "      <td>551</td>\n",
       "      <td>-4162.431152</td>\n",
       "    </tr>\n",
       "    <tr>\n",
       "      <th>6</th>\n",
       "      <td>1</td>\n",
       "      <td>1036</td>\n",
       "      <td>-4162.446289</td>\n",
       "    </tr>\n",
       "    <tr>\n",
       "      <th>7</th>\n",
       "      <td>1</td>\n",
       "      <td>589</td>\n",
       "      <td>-4162.474121</td>\n",
       "    </tr>\n",
       "    <tr>\n",
       "      <th>8</th>\n",
       "      <td>1</td>\n",
       "      <td>2</td>\n",
       "      <td>-4162.498535</td>\n",
       "    </tr>\n",
       "    <tr>\n",
       "      <th>9</th>\n",
       "      <td>1</td>\n",
       "      <td>2791</td>\n",
       "      <td>-4162.636230</td>\n",
       "    </tr>\n",
       "  </tbody>\n",
       "</table>\n",
       "</div>"
      ],
      "text/plain": [
       "   userId  movieId   prediction\n",
       "0       1     1200 -4161.587402\n",
       "1       1      858 -4161.893066\n",
       "2       1      588 -4161.947754\n",
       "3       1     3114 -4162.174805\n",
       "4       1     1610 -4162.375488\n",
       "5       1      551 -4162.431152\n",
       "6       1     1036 -4162.446289\n",
       "7       1      589 -4162.474121\n",
       "8       1        2 -4162.498535\n",
       "9       1     2791 -4162.636230"
      ]
     },
     "execution_count": 301,
     "metadata": {},
     "output_type": "execute_result"
    }
   ],
   "source": [
    "res_recommendation.head(10)"
   ]
  },
  {
   "cell_type": "code",
   "execution_count": 302,
   "id": "e7c23302",
   "metadata": {},
   "outputs": [
    {
     "data": {
      "text/html": [
       "<div>\n",
       "<style scoped>\n",
       "    .dataframe tbody tr th:only-of-type {\n",
       "        vertical-align: middle;\n",
       "    }\n",
       "\n",
       "    .dataframe tbody tr th {\n",
       "        vertical-align: top;\n",
       "    }\n",
       "\n",
       "    .dataframe thead th {\n",
       "        text-align: right;\n",
       "    }\n",
       "</style>\n",
       "<table border=\"1\" class=\"dataframe\">\n",
       "  <thead>\n",
       "    <tr style=\"text-align: right;\">\n",
       "      <th></th>\n",
       "      <th>userId</th>\n",
       "      <th>movieId</th>\n",
       "      <th>prediction</th>\n",
       "    </tr>\n",
       "  </thead>\n",
       "  <tbody>\n",
       "    <tr>\n",
       "      <th>6040</th>\n",
       "      <td>600</td>\n",
       "      <td>1968</td>\n",
       "      <td>-10644.774414</td>\n",
       "    </tr>\n",
       "    <tr>\n",
       "      <th>6041</th>\n",
       "      <td>600</td>\n",
       "      <td>586</td>\n",
       "      <td>-10645.720703</td>\n",
       "    </tr>\n",
       "    <tr>\n",
       "      <th>6042</th>\n",
       "      <td>600</td>\n",
       "      <td>1580</td>\n",
       "      <td>-10645.880859</td>\n",
       "    </tr>\n",
       "    <tr>\n",
       "      <th>6043</th>\n",
       "      <td>600</td>\n",
       "      <td>333</td>\n",
       "      <td>-10645.952148</td>\n",
       "    </tr>\n",
       "    <tr>\n",
       "      <th>6044</th>\n",
       "      <td>600</td>\n",
       "      <td>785</td>\n",
       "      <td>-10646.072266</td>\n",
       "    </tr>\n",
       "    <tr>\n",
       "      <th>6045</th>\n",
       "      <td>600</td>\n",
       "      <td>1777</td>\n",
       "      <td>-10646.223633</td>\n",
       "    </tr>\n",
       "    <tr>\n",
       "      <th>6046</th>\n",
       "      <td>600</td>\n",
       "      <td>597</td>\n",
       "      <td>-10646.237305</td>\n",
       "    </tr>\n",
       "    <tr>\n",
       "      <th>6047</th>\n",
       "      <td>600</td>\n",
       "      <td>2396</td>\n",
       "      <td>-10646.295898</td>\n",
       "    </tr>\n",
       "    <tr>\n",
       "      <th>6048</th>\n",
       "      <td>600</td>\n",
       "      <td>3363</td>\n",
       "      <td>-10646.397461</td>\n",
       "    </tr>\n",
       "    <tr>\n",
       "      <th>6049</th>\n",
       "      <td>600</td>\n",
       "      <td>2100</td>\n",
       "      <td>-10646.549805</td>\n",
       "    </tr>\n",
       "  </tbody>\n",
       "</table>\n",
       "</div>"
      ],
      "text/plain": [
       "      userId  movieId    prediction\n",
       "6040     600     1968 -10644.774414\n",
       "6041     600      586 -10645.720703\n",
       "6042     600     1580 -10645.880859\n",
       "6043     600      333 -10645.952148\n",
       "6044     600      785 -10646.072266\n",
       "6045     600     1777 -10646.223633\n",
       "6046     600      597 -10646.237305\n",
       "6047     600     2396 -10646.295898\n",
       "6048     600     3363 -10646.397461\n",
       "6049     600     2100 -10646.549805"
      ]
     },
     "execution_count": 302,
     "metadata": {},
     "output_type": "execute_result"
    }
   ],
   "source": [
    "res_recommendation[res_recommendation['userId'] == 600]"
   ]
  },
  {
   "cell_type": "markdown",
   "id": "72918201",
   "metadata": {},
   "source": [
    "Here it is! in our results we have userId, movieId, and prediction as recommendation score"
   ]
  },
  {
   "cell_type": "code",
   "execution_count": null,
   "id": "53224ee0",
   "metadata": {},
   "outputs": [],
   "source": []
  }
 ],
 "metadata": {
  "kernelspec": {
   "display_name": "Python 3 (ipykernel)",
   "language": "python",
   "name": "python3"
  },
  "language_info": {
   "codemirror_mode": {
    "name": "ipython",
    "version": 3
   },
   "file_extension": ".py",
   "mimetype": "text/x-python",
   "name": "python",
   "nbconvert_exporter": "python",
   "pygments_lexer": "ipython3",
   "version": "3.9.7"
  }
 },
 "nbformat": 4,
 "nbformat_minor": 5
}
