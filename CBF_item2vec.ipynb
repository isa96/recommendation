{
 "cells": [
  {
   "cell_type": "markdown",
   "metadata": {
    "toc": true
   },
   "source": [
    "# Item2Vec Recommender System\n",
    "\n",
    "# Table of Contents\n",
    "- [1. Background](#bg)\n",
    "- [2. Import Package](#package)\n",
    "- [3. Import Data](#data)\n",
    "- [4. Data Preprocessing](#prep)\n",
    "    - [4.1. Create Rated Movie List (Vector)](#prep_ratedmv)\n",
    "    - [4.2. Train and Test Split](#prep_split)\n",
    "- [5. Modeling](#model)\n",
    "    - [5.1. Training](#model_train)\n",
    "    - [5.2. Loss Evaluation](#model_loss)\n",
    "    - [5.3. Vector Visualization](#model_viz)\n",
    "- [6. Generate Recommendation](#generate)\n",
    "    - [6.1. Show Recommendation for One User](#generate_example)\n",
    "    - [6.2. Generate Recommendation for All Users](#generate_all)"
   ]
  },
  {
   "cell_type": "markdown",
   "metadata": {},
   "source": [
    "# Background <a class='anchor' id='bg'></a>"
   ]
  },
  {
   "cell_type": "markdown",
   "metadata": {},
   "source": [
    "We will create a content based filtering recommender system. In this case we use Word2Vec to find similarity between item. We pretend a list of rated item by each user as a text and the item in the list as a word.\n",
    "\n",
    "Okay, so you might wonder what is Word2Vec actually? Developed by [Tomas Mikolov](https://arxiv.org/pdf/1310.4546.pdf) in 2013 at Google, it is one of the most common technique to do word embeddings in several Natural Language Processing (NLP) cases using shallow neural network. Word embeddings is just a fancy way of saying a numerical representation of words. A good analogy would be how colors are represented with a RGB values. These set of values is then called as a **vector**. For example, \"black\" can be associated with (0,0,0) and \"white\" with (255,255,255) as their pixel intensity values."
   ]
  },
  {
   "cell_type": "markdown",
   "metadata": {},
   "source": [
    "# Import Package <a class='anchor' id='package'></a>"
   ]
  },
  {
   "cell_type": "markdown",
   "metadata": {},
   "source": [
    "we use <a href = 'https://radimrehurek.com/gensim/auto_examples/tutorials/run_word2vec.html#sphx-glr-auto-examples-tutorials-run-word2vec-py' target = '_blank'>gensim for Word2Vec</a> library"
   ]
  },
  {
   "cell_type": "code",
   "execution_count": 34,
   "metadata": {},
   "outputs": [],
   "source": [
    "# Data Analysis\n",
    "import pandas as pd\n",
    "import numpy as np\n",
    "\n",
    "# Visualization\n",
    "import matplotlib.pyplot as plt\n",
    "from mpl_toolkits.mplot3d import Axes3D\n",
    "import seaborn as sns\n",
    "plt.style.use('seaborn')\n",
    "sns.set_style(\"whitegrid\")\n",
    "\n",
    "# Modeling\n",
    "from gensim.models import Word2Vec\n",
    "from gensim.models.callbacks import CallbackAny2Vec\n",
    "from sklearn.model_selection import train_test_split\n",
    "from scipy import stats\n",
    "\n",
    "# Additional\n",
    "import math\n",
    "import random\n",
    "import itertools\n",
    "import multiprocessing\n",
    "from tqdm import tqdm\n",
    "from time import time\n",
    "import logging\n",
    "import pickle"
   ]
  },
  {
   "cell_type": "markdown",
   "metadata": {},
   "source": [
    "# Import Data <a class='anchor' id='data'></a>\n",
    "\n",
    "We use Movie Recommender System Dataset from <a href = 'https://www.kaggle.com/datasets/gargmanas/movierecommenderdataset' target = '_blank'>Kaggle</a>"
   ]
  },
  {
   "cell_type": "code",
   "execution_count": 2,
   "metadata": {},
   "outputs": [],
   "source": [
    "data_mv = pd.read_csv('Data/movies.csv')\n",
    "data_rating = pd.read_csv('Data/ratings.csv')"
   ]
  },
  {
   "cell_type": "code",
   "execution_count": 3,
   "metadata": {},
   "outputs": [
    {
     "data": {
      "text/html": [
       "<div>\n",
       "<style scoped>\n",
       "    .dataframe tbody tr th:only-of-type {\n",
       "        vertical-align: middle;\n",
       "    }\n",
       "\n",
       "    .dataframe tbody tr th {\n",
       "        vertical-align: top;\n",
       "    }\n",
       "\n",
       "    .dataframe thead th {\n",
       "        text-align: right;\n",
       "    }\n",
       "</style>\n",
       "<table border=\"1\" class=\"dataframe\">\n",
       "  <thead>\n",
       "    <tr style=\"text-align: right;\">\n",
       "      <th></th>\n",
       "      <th>movieId</th>\n",
       "      <th>title</th>\n",
       "      <th>genres</th>\n",
       "    </tr>\n",
       "  </thead>\n",
       "  <tbody>\n",
       "    <tr>\n",
       "      <th>0</th>\n",
       "      <td>1</td>\n",
       "      <td>Toy Story (1995)</td>\n",
       "      <td>Adventure|Animation|Children|Comedy|Fantasy</td>\n",
       "    </tr>\n",
       "    <tr>\n",
       "      <th>1</th>\n",
       "      <td>2</td>\n",
       "      <td>Jumanji (1995)</td>\n",
       "      <td>Adventure|Children|Fantasy</td>\n",
       "    </tr>\n",
       "    <tr>\n",
       "      <th>2</th>\n",
       "      <td>3</td>\n",
       "      <td>Grumpier Old Men (1995)</td>\n",
       "      <td>Comedy|Romance</td>\n",
       "    </tr>\n",
       "    <tr>\n",
       "      <th>3</th>\n",
       "      <td>4</td>\n",
       "      <td>Waiting to Exhale (1995)</td>\n",
       "      <td>Comedy|Drama|Romance</td>\n",
       "    </tr>\n",
       "    <tr>\n",
       "      <th>4</th>\n",
       "      <td>5</td>\n",
       "      <td>Father of the Bride Part II (1995)</td>\n",
       "      <td>Comedy</td>\n",
       "    </tr>\n",
       "    <tr>\n",
       "      <th>5</th>\n",
       "      <td>6</td>\n",
       "      <td>Heat (1995)</td>\n",
       "      <td>Action|Crime|Thriller</td>\n",
       "    </tr>\n",
       "    <tr>\n",
       "      <th>6</th>\n",
       "      <td>7</td>\n",
       "      <td>Sabrina (1995)</td>\n",
       "      <td>Comedy|Romance</td>\n",
       "    </tr>\n",
       "    <tr>\n",
       "      <th>7</th>\n",
       "      <td>8</td>\n",
       "      <td>Tom and Huck (1995)</td>\n",
       "      <td>Adventure|Children</td>\n",
       "    </tr>\n",
       "    <tr>\n",
       "      <th>8</th>\n",
       "      <td>9</td>\n",
       "      <td>Sudden Death (1995)</td>\n",
       "      <td>Action</td>\n",
       "    </tr>\n",
       "    <tr>\n",
       "      <th>9</th>\n",
       "      <td>10</td>\n",
       "      <td>GoldenEye (1995)</td>\n",
       "      <td>Action|Adventure|Thriller</td>\n",
       "    </tr>\n",
       "  </tbody>\n",
       "</table>\n",
       "</div>"
      ],
      "text/plain": [
       "   movieId                               title  \\\n",
       "0        1                    Toy Story (1995)   \n",
       "1        2                      Jumanji (1995)   \n",
       "2        3             Grumpier Old Men (1995)   \n",
       "3        4            Waiting to Exhale (1995)   \n",
       "4        5  Father of the Bride Part II (1995)   \n",
       "5        6                         Heat (1995)   \n",
       "6        7                      Sabrina (1995)   \n",
       "7        8                 Tom and Huck (1995)   \n",
       "8        9                 Sudden Death (1995)   \n",
       "9       10                    GoldenEye (1995)   \n",
       "\n",
       "                                        genres  \n",
       "0  Adventure|Animation|Children|Comedy|Fantasy  \n",
       "1                   Adventure|Children|Fantasy  \n",
       "2                               Comedy|Romance  \n",
       "3                         Comedy|Drama|Romance  \n",
       "4                                       Comedy  \n",
       "5                        Action|Crime|Thriller  \n",
       "6                               Comedy|Romance  \n",
       "7                           Adventure|Children  \n",
       "8                                       Action  \n",
       "9                    Action|Adventure|Thriller  "
      ]
     },
     "execution_count": 3,
     "metadata": {},
     "output_type": "execute_result"
    }
   ],
   "source": [
    "data_mv.head(10)"
   ]
  },
  {
   "cell_type": "code",
   "execution_count": 6,
   "metadata": {},
   "outputs": [
    {
     "data": {
      "text/html": [
       "<div>\n",
       "<style scoped>\n",
       "    .dataframe tbody tr th:only-of-type {\n",
       "        vertical-align: middle;\n",
       "    }\n",
       "\n",
       "    .dataframe tbody tr th {\n",
       "        vertical-align: top;\n",
       "    }\n",
       "\n",
       "    .dataframe thead th {\n",
       "        text-align: right;\n",
       "    }\n",
       "</style>\n",
       "<table border=\"1\" class=\"dataframe\">\n",
       "  <thead>\n",
       "    <tr style=\"text-align: right;\">\n",
       "      <th></th>\n",
       "      <th>userId</th>\n",
       "      <th>movieId</th>\n",
       "      <th>rating</th>\n",
       "      <th>timestamp</th>\n",
       "    </tr>\n",
       "  </thead>\n",
       "  <tbody>\n",
       "    <tr>\n",
       "      <th>0</th>\n",
       "      <td>1</td>\n",
       "      <td>1</td>\n",
       "      <td>4.0</td>\n",
       "      <td>964982703</td>\n",
       "    </tr>\n",
       "    <tr>\n",
       "      <th>1</th>\n",
       "      <td>1</td>\n",
       "      <td>3</td>\n",
       "      <td>4.0</td>\n",
       "      <td>964981247</td>\n",
       "    </tr>\n",
       "    <tr>\n",
       "      <th>2</th>\n",
       "      <td>1</td>\n",
       "      <td>6</td>\n",
       "      <td>4.0</td>\n",
       "      <td>964982224</td>\n",
       "    </tr>\n",
       "    <tr>\n",
       "      <th>3</th>\n",
       "      <td>1</td>\n",
       "      <td>47</td>\n",
       "      <td>5.0</td>\n",
       "      <td>964983815</td>\n",
       "    </tr>\n",
       "    <tr>\n",
       "      <th>4</th>\n",
       "      <td>1</td>\n",
       "      <td>50</td>\n",
       "      <td>5.0</td>\n",
       "      <td>964982931</td>\n",
       "    </tr>\n",
       "    <tr>\n",
       "      <th>5</th>\n",
       "      <td>1</td>\n",
       "      <td>70</td>\n",
       "      <td>3.0</td>\n",
       "      <td>964982400</td>\n",
       "    </tr>\n",
       "    <tr>\n",
       "      <th>6</th>\n",
       "      <td>1</td>\n",
       "      <td>101</td>\n",
       "      <td>5.0</td>\n",
       "      <td>964980868</td>\n",
       "    </tr>\n",
       "    <tr>\n",
       "      <th>7</th>\n",
       "      <td>1</td>\n",
       "      <td>110</td>\n",
       "      <td>4.0</td>\n",
       "      <td>964982176</td>\n",
       "    </tr>\n",
       "    <tr>\n",
       "      <th>8</th>\n",
       "      <td>1</td>\n",
       "      <td>151</td>\n",
       "      <td>5.0</td>\n",
       "      <td>964984041</td>\n",
       "    </tr>\n",
       "    <tr>\n",
       "      <th>9</th>\n",
       "      <td>1</td>\n",
       "      <td>157</td>\n",
       "      <td>5.0</td>\n",
       "      <td>964984100</td>\n",
       "    </tr>\n",
       "  </tbody>\n",
       "</table>\n",
       "</div>"
      ],
      "text/plain": [
       "   userId  movieId  rating  timestamp\n",
       "0       1        1     4.0  964982703\n",
       "1       1        3     4.0  964981247\n",
       "2       1        6     4.0  964982224\n",
       "3       1       47     5.0  964983815\n",
       "4       1       50     5.0  964982931\n",
       "5       1       70     3.0  964982400\n",
       "6       1      101     5.0  964980868\n",
       "7       1      110     4.0  964982176\n",
       "8       1      151     5.0  964984041\n",
       "9       1      157     5.0  964984100"
      ]
     },
     "execution_count": 6,
     "metadata": {},
     "output_type": "execute_result"
    }
   ],
   "source": [
    "data_rating.head(10)"
   ]
  },
  {
   "cell_type": "markdown",
   "metadata": {},
   "source": [
    "# Data Preprocessing <a class='anchor' id='prep'></a>\n",
    "\n",
    "We will create list(vector) that contains all rated movie of each user and then we split the data into train and test (by user)"
   ]
  },
  {
   "cell_type": "markdown",
   "metadata": {},
   "source": [
    "## Create Rated Movie List (Vector) <a class='anchor' id='prep_ratedmv'></a>"
   ]
  },
  {
   "cell_type": "code",
   "execution_count": 20,
   "metadata": {},
   "outputs": [],
   "source": [
    "rated_mv_ls = data_rating.copy()\n",
    "\n",
    "rated_mv_ls['movieId'] = rated_mv_ls['movieId'].astype(str) + \"|\"\n",
    "rated_mv_ls = rated_mv_ls.groupby('userId').agg(movie_ls = ('movieId','sum')).reset_index()\n",
    "rated_mv_ls['movie_ls'] = rated_mv_ls['movie_ls'].str[:-1]\n",
    "rated_mv_ls['movie_ls'] = rated_mv_ls['movie_ls'].str.split(\"|\")"
   ]
  },
  {
   "cell_type": "code",
   "execution_count": 29,
   "metadata": {},
   "outputs": [
    {
     "data": {
      "text/html": [
       "<div>\n",
       "<style scoped>\n",
       "    .dataframe tbody tr th:only-of-type {\n",
       "        vertical-align: middle;\n",
       "    }\n",
       "\n",
       "    .dataframe tbody tr th {\n",
       "        vertical-align: top;\n",
       "    }\n",
       "\n",
       "    .dataframe thead th {\n",
       "        text-align: right;\n",
       "    }\n",
       "</style>\n",
       "<table border=\"1\" class=\"dataframe\">\n",
       "  <thead>\n",
       "    <tr style=\"text-align: right;\">\n",
       "      <th></th>\n",
       "      <th>userId</th>\n",
       "      <th>movie_ls</th>\n",
       "    </tr>\n",
       "  </thead>\n",
       "  <tbody>\n",
       "    <tr>\n",
       "      <th>0</th>\n",
       "      <td>1</td>\n",
       "      <td>[1, 3, 6, 47, 50, 70, 101, 110, 151, 157, 163,...</td>\n",
       "    </tr>\n",
       "    <tr>\n",
       "      <th>1</th>\n",
       "      <td>2</td>\n",
       "      <td>[318, 333, 1704, 3578, 6874, 8798, 46970, 4851...</td>\n",
       "    </tr>\n",
       "    <tr>\n",
       "      <th>2</th>\n",
       "      <td>3</td>\n",
       "      <td>[31, 527, 647, 688, 720, 849, 914, 1093, 1124,...</td>\n",
       "    </tr>\n",
       "    <tr>\n",
       "      <th>3</th>\n",
       "      <td>4</td>\n",
       "      <td>[21, 32, 45, 47, 52, 58, 106, 125, 126, 162, 1...</td>\n",
       "    </tr>\n",
       "    <tr>\n",
       "      <th>4</th>\n",
       "      <td>5</td>\n",
       "      <td>[1, 21, 34, 36, 39, 50, 58, 110, 150, 153, 232...</td>\n",
       "    </tr>\n",
       "    <tr>\n",
       "      <th>5</th>\n",
       "      <td>6</td>\n",
       "      <td>[2, 3, 4, 5, 6, 7, 8, 10, 11, 13, 15, 16, 17, ...</td>\n",
       "    </tr>\n",
       "    <tr>\n",
       "      <th>6</th>\n",
       "      <td>7</td>\n",
       "      <td>[1, 50, 58, 150, 165, 260, 356, 380, 466, 480,...</td>\n",
       "    </tr>\n",
       "    <tr>\n",
       "      <th>7</th>\n",
       "      <td>8</td>\n",
       "      <td>[2, 10, 11, 21, 32, 34, 39, 47, 50, 110, 141, ...</td>\n",
       "    </tr>\n",
       "    <tr>\n",
       "      <th>8</th>\n",
       "      <td>9</td>\n",
       "      <td>[41, 187, 223, 371, 627, 922, 923, 1037, 1095,...</td>\n",
       "    </tr>\n",
       "    <tr>\n",
       "      <th>9</th>\n",
       "      <td>10</td>\n",
       "      <td>[296, 356, 588, 597, 912, 1028, 1088, 1247, 13...</td>\n",
       "    </tr>\n",
       "  </tbody>\n",
       "</table>\n",
       "</div>"
      ],
      "text/plain": [
       "   userId                                           movie_ls\n",
       "0       1  [1, 3, 6, 47, 50, 70, 101, 110, 151, 157, 163,...\n",
       "1       2  [318, 333, 1704, 3578, 6874, 8798, 46970, 4851...\n",
       "2       3  [31, 527, 647, 688, 720, 849, 914, 1093, 1124,...\n",
       "3       4  [21, 32, 45, 47, 52, 58, 106, 125, 126, 162, 1...\n",
       "4       5  [1, 21, 34, 36, 39, 50, 58, 110, 150, 153, 232...\n",
       "5       6  [2, 3, 4, 5, 6, 7, 8, 10, 11, 13, 15, 16, 17, ...\n",
       "6       7  [1, 50, 58, 150, 165, 260, 356, 380, 466, 480,...\n",
       "7       8  [2, 10, 11, 21, 32, 34, 39, 47, 50, 110, 141, ...\n",
       "8       9  [41, 187, 223, 371, 627, 922, 923, 1037, 1095,...\n",
       "9      10  [296, 356, 588, 597, 912, 1028, 1088, 1247, 13..."
      ]
     },
     "execution_count": 29,
     "metadata": {},
     "output_type": "execute_result"
    }
   ],
   "source": [
    "rated_mv_ls.head(10)"
   ]
  },
  {
   "cell_type": "markdown",
   "metadata": {},
   "source": [
    "## Train and Test Split <a class='anchor' id='prep_split'></a>"
   ]
  },
  {
   "cell_type": "code",
   "execution_count": 31,
   "metadata": {},
   "outputs": [],
   "source": [
    "ratedls_train, ratedls_test = train_test_split(rated_mv_ls, test_size = 0.1,\n",
    "                                               shuffle = True, random_state = 42)"
   ]
  },
  {
   "cell_type": "markdown",
   "metadata": {},
   "source": [
    "# Modeling <a class='anchor' id='model'></a>\n",
    "\n",
    "We will create Word2Vec model to train our rated movie list of each user. After that, we will have a little analysis before continue to the next step."
   ]
  },
  {
   "cell_type": "code",
   "execution_count": 35,
   "metadata": {},
   "outputs": [],
   "source": [
    "logging.basicConfig(format=\"%(asctime)s : %(levelname)s : %(message)s\", level=logging.INFO)\n",
    "\n",
    "class Callback(CallbackAny2Vec):\n",
    "    def __init__(self):\n",
    "        self.epoch = 1\n",
    "        self.training_loss = []\n",
    "\n",
    "    def on_epoch_end(self, model):\n",
    "        loss = model.get_latest_training_loss()\n",
    "        if self.epoch == 1:\n",
    "            current_loss = loss\n",
    "        else:\n",
    "            current_loss = loss - self.loss_previous_step\n",
    "        print(f\"Loss after epoch {self.epoch}: {current_loss}\")\n",
    "        self.training_loss.append(current_loss)\n",
    "        self.epoch += 1\n",
    "        self.loss_previous_step = loss"
   ]
  },
  {
   "cell_type": "markdown",
   "metadata": {},
   "source": [
    "## Training <a class='anchor' id='model_train'></a>"
   ]
  },
  {
   "cell_type": "markdown",
   "metadata": {},
   "source": [
    "By using `gensim`, the training process can be separated into **three distinctive steps**: \n",
    "\n",
    "First, the instance of `Word2Vec()` is created to set up the parameters of the model and leave the model uninitialized.\n",
    "- `size`: dimensionality of the song vectors\n",
    "- `window`: maximum distance between context and target\n",
    "- `min_count`: frequency cut-off for a song to be considered in the model\n",
    "- `sg = 0`: using CBOW architecture\n",
    "- `negative`: negative sampling data\n",
    "- `workers`: number of CPU used to train the model"
   ]
  },
  {
   "cell_type": "code",
   "execution_count": 37,
   "metadata": {},
   "outputs": [
    {
     "name": "stderr",
     "output_type": "stream",
     "text": [
      "2022-06-24 16:47:47,677 : INFO : Word2Vec lifecycle event {'params': 'Word2Vec<vocab=0, vector_size=256, alpha=0.025>', 'datetime': '2022-06-24T16:47:47.677891', 'gensim': '4.2.0', 'python': '3.9.7 | packaged by conda-forge | (default, Sep 29 2021, 19:20:46) \\n[GCC 9.4.0]', 'platform': 'Linux-5.3.0-61-generic-x86_64-with-glibc2.27', 'event': 'created'}\n"
     ]
    },
    {
     "name": "stdout",
     "output_type": "stream",
     "text": [
      "Word2Vec<vocab=0, vector_size=256, alpha=0.025>\n"
     ]
    }
   ],
   "source": [
    "model = Word2Vec(\n",
    "    vector_size = 256,\n",
    "    window = 10,\n",
    "    min_count = 1,\n",
    "    sg = 0,\n",
    "    negative = 20,\n",
    "    workers = multiprocessing.cpu_count()-1)\n",
    "print(model)"
   ]
  },
  {
   "cell_type": "markdown",
   "metadata": {},
   "source": [
    "Secondly, the method `.build_vocab()` is called to build the vocabulary from a sequence of playlists and thus initialized the model."
   ]
  },
  {
   "cell_type": "code",
   "execution_count": 38,
   "metadata": {
    "scrolled": false
   },
   "outputs": [
    {
     "name": "stderr",
     "output_type": "stream",
     "text": [
      "2022-06-24 16:48:45,755 : INFO : collecting all words and their counts\n",
      "2022-06-24 16:48:45,758 : INFO : PROGRESS: at sentence #0, processed 0 words, keeping 0 word types\n",
      "2022-06-24 16:48:45,786 : INFO : collected 8964 word types from a corpus of 86650 raw words and 549 sentences\n",
      "2022-06-24 16:48:45,787 : INFO : Creating a fresh vocabulary\n",
      "2022-06-24 16:48:45,837 : INFO : Word2Vec lifecycle event {'msg': 'effective_min_count=1 retains 8964 unique words (100.00% of original 8964, drops 0)', 'datetime': '2022-06-24T16:48:45.837241', 'gensim': '4.2.0', 'python': '3.9.7 | packaged by conda-forge | (default, Sep 29 2021, 19:20:46) \\n[GCC 9.4.0]', 'platform': 'Linux-5.3.0-61-generic-x86_64-with-glibc2.27', 'event': 'prepare_vocab'}\n",
      "2022-06-24 16:48:45,838 : INFO : Word2Vec lifecycle event {'msg': 'effective_min_count=1 leaves 86650 word corpus (100.00% of original 86650, drops 0)', 'datetime': '2022-06-24T16:48:45.838283', 'gensim': '4.2.0', 'python': '3.9.7 | packaged by conda-forge | (default, Sep 29 2021, 19:20:46) \\n[GCC 9.4.0]', 'platform': 'Linux-5.3.0-61-generic-x86_64-with-glibc2.27', 'event': 'prepare_vocab'}\n",
      "2022-06-24 16:48:45,908 : INFO : deleting the raw counts dictionary of 8964 items\n",
      "2022-06-24 16:48:45,909 : INFO : sample=0.001 downsamples 5 most-common words\n",
      "2022-06-24 16:48:45,910 : INFO : Word2Vec lifecycle event {'msg': 'downsampling leaves estimated 86509.0679360629 word corpus (99.8%% of prior 86650)', 'datetime': '2022-06-24T16:48:45.910690', 'gensim': '4.2.0', 'python': '3.9.7 | packaged by conda-forge | (default, Sep 29 2021, 19:20:46) \\n[GCC 9.4.0]', 'platform': 'Linux-5.3.0-61-generic-x86_64-with-glibc2.27', 'event': 'prepare_vocab'}\n",
      "2022-06-24 16:48:46,036 : INFO : estimated required memory for 8964 words and 256 dimensions: 22840272 bytes\n",
      "2022-06-24 16:48:46,037 : INFO : resetting layer weights\n",
      "2022-06-24 16:48:46,067 : INFO : Word2Vec lifecycle event {'update': False, 'trim_rule': 'None', 'datetime': '2022-06-24T16:48:46.067604', 'gensim': '4.2.0', 'python': '3.9.7 | packaged by conda-forge | (default, Sep 29 2021, 19:20:46) \\n[GCC 9.4.0]', 'platform': 'Linux-5.3.0-61-generic-x86_64-with-glibc2.27', 'event': 'build_vocab'}\n"
     ]
    },
    {
     "name": "stdout",
     "output_type": "stream",
     "text": [
      "Time to build vocab: 0.31 seconds\n"
     ]
    }
   ],
   "source": [
    "logging.disable(logging.NOTSET) # enable logging\n",
    "t = time()\n",
    "\n",
    "model.build_vocab(ratedls_train['movie_ls'].values)\n",
    "\n",
    "print(f\"Time to build vocab: {round((time() - t), 2)} seconds\")"
   ]
  },
  {
   "cell_type": "markdown",
   "metadata": {},
   "source": [
    "Finally, `.train()` trains the model. The loggings here are mainly useful for monitoring the loss after each epoch.\n",
    "- `total_examples`: count of unique vocabulary (songs)\n",
    "- `epochs`: number of iterations over the dataset (whole playlist)\n",
    "- `compute_loss`: track model loss"
   ]
  },
  {
   "cell_type": "code",
   "execution_count": 39,
   "metadata": {
    "scrolled": true
   },
   "outputs": [
    {
     "name": "stdout",
     "output_type": "stream",
     "text": [
      "Loss after epoch 1: 62817.35546875\n",
      "Loss after epoch 2: 36495.81640625\n",
      "Loss after epoch 3: 32651.546875\n",
      "Loss after epoch 4: 24894.921875\n",
      "Loss after epoch 5: 21541.0625\n",
      "Loss after epoch 6: 19856.953125\n",
      "Loss after epoch 7: 20424.1875\n",
      "Loss after epoch 8: 17887.328125\n",
      "Loss after epoch 9: 17124.1875\n",
      "Loss after epoch 10: 18005.984375\n",
      "Loss after epoch 11: 16301.78125\n",
      "Loss after epoch 12: 15572.1875\n",
      "Loss after epoch 13: 16206.09375\n",
      "Loss after epoch 14: 16243.6875\n",
      "Loss after epoch 15: 16059.65625\n",
      "Loss after epoch 16: 15818.4375\n",
      "Loss after epoch 17: 13874.21875\n",
      "Loss after epoch 18: 14830.28125\n",
      "Loss after epoch 19: 14582.5\n",
      "Loss after epoch 20: 14661.65625\n",
      "Loss after epoch 21: 14357.34375\n",
      "Loss after epoch 22: 14206.875\n",
      "Loss after epoch 23: 13970.28125\n",
      "Loss after epoch 24: 13666.59375\n",
      "Loss after epoch 25: 12351.375\n",
      "Loss after epoch 26: 14179.40625\n",
      "Loss after epoch 27: 13287.9375\n",
      "Loss after epoch 28: 12908.53125\n",
      "Loss after epoch 29: 12629.8125\n",
      "Loss after epoch 30: 12844.3125\n",
      "Loss after epoch 31: 12464.625\n",
      "Loss after epoch 32: 12225.3125\n",
      "Loss after epoch 33: 12315.25\n",
      "Loss after epoch 34: 11852.8125\n",
      "Loss after epoch 35: 11046.3125\n",
      "Loss after epoch 36: 10975.25\n",
      "Loss after epoch 37: 11807.6875\n",
      "Loss after epoch 38: 10742.875\n",
      "Loss after epoch 39: 11971.0625\n",
      "Loss after epoch 40: 11447.75\n",
      "Loss after epoch 41: 11170.875\n",
      "Loss after epoch 42: 11364.5\n",
      "Loss after epoch 43: 12337.8125\n",
      "Loss after epoch 44: 11060.6875\n",
      "Loss after epoch 45: 12269.125\n",
      "Loss after epoch 46: 11216.9375\n",
      "Loss after epoch 47: 11278.1875\n",
      "Loss after epoch 48: 10046.3125\n",
      "Loss after epoch 49: 10637.625\n",
      "Loss after epoch 50: 11557.9375\n",
      "Loss after epoch 51: 11339.25\n",
      "Loss after epoch 52: 10613.375\n",
      "Loss after epoch 53: 10268.1875\n",
      "Loss after epoch 54: 10521.8125\n",
      "Loss after epoch 55: 9643.0625\n",
      "Loss after epoch 56: 11334.1875\n",
      "Loss after epoch 57: 11321.4375\n",
      "Loss after epoch 58: 10051.0\n",
      "Loss after epoch 59: 11376.875\n",
      "Loss after epoch 60: 10002.25\n",
      "Loss after epoch 61: 9364.75\n",
      "Loss after epoch 62: 9233.5\n",
      "Loss after epoch 63: 9593.0625\n",
      "Loss after epoch 64: 10740.0625\n",
      "Loss after epoch 65: 7414.4375\n",
      "Loss after epoch 66: 10391.0\n",
      "Loss after epoch 67: 9347.5\n",
      "Loss after epoch 68: 10131.0625\n",
      "Loss after epoch 69: 9137.5\n",
      "Loss after epoch 70: 10012.4375\n",
      "Loss after epoch 71: 10626.0625\n",
      "Loss after epoch 72: 8841.5625\n",
      "Loss after epoch 73: 8835.9375\n",
      "Loss after epoch 74: 10044.625\n",
      "Loss after epoch 75: 9918.5\n",
      "Loss after epoch 76: 8597.8125\n",
      "Loss after epoch 77: 8799.125\n",
      "Loss after epoch 78: 9704.875\n",
      "Loss after epoch 79: 8503.375\n",
      "Loss after epoch 80: 9466.625\n",
      "Loss after epoch 81: 8085.75\n",
      "Loss after epoch 82: 9451.875\n",
      "Loss after epoch 83: 8561.125\n",
      "Loss after epoch 84: 9381.375\n",
      "Loss after epoch 85: 8173.5\n",
      "Loss after epoch 86: 7900.25\n",
      "Loss after epoch 87: 8335.625\n",
      "Loss after epoch 88: 8313.5\n",
      "Loss after epoch 89: 7854.625\n",
      "Loss after epoch 90: 7855.25\n",
      "Loss after epoch 91: 8123.5\n",
      "Loss after epoch 92: 8830.0\n",
      "Loss after epoch 93: 8059.875\n",
      "Loss after epoch 94: 8542.125\n",
      "Loss after epoch 95: 7744.875\n",
      "Loss after epoch 96: 8755.625\n",
      "Loss after epoch 97: 8186.0\n",
      "Loss after epoch 98: 8636.0\n",
      "Loss after epoch 99: 7837.0\n",
      "Loss after epoch 100: 7784.125\n",
      "Time to train the model: 18.16 seconds\n"
     ]
    }
   ],
   "source": [
    "logging.disable(logging.INFO) # disable logging\n",
    "callback = Callback() # instead, print out loss for each epoch\n",
    "t = time()\n",
    "\n",
    "model.train(ratedls_train['movie_ls'].values,\n",
    "            total_examples = model.corpus_count,\n",
    "            epochs = 100,\n",
    "            compute_loss = True,\n",
    "            callbacks = [callback]) \n",
    "\n",
    "print(f\"Time to train the model: {round((time() - t), 2)} seconds\")"
   ]
  },
  {
   "cell_type": "code",
   "execution_count": 40,
   "metadata": {},
   "outputs": [
    {
     "name": "stdout",
     "output_type": "stream",
     "text": [
      "Word2Vec<vocab=8964, vector_size=256, alpha=0.025>\n"
     ]
    }
   ],
   "source": [
    "print(model)"
   ]
  },
  {
   "cell_type": "markdown",
   "metadata": {},
   "source": [
    "## Loss Evaluation <a class='anchor' id='model_loss'></a>"
   ]
  },
  {
   "cell_type": "markdown",
   "metadata": {},
   "source": [
    "Plot the training loss, making sure it decreases after each epoch. The closer the loss to a zero value, the better the model is in predicting a target song given surrounding context songs. Thus, the produced song vectors are more meaningful."
   ]
  },
  {
   "cell_type": "code",
   "execution_count": 41,
   "metadata": {
    "scrolled": true
   },
   "outputs": [],
   "source": [
    "logging.disable(logging.INFO) # disable logging"
   ]
  },
  {
   "cell_type": "code",
   "execution_count": 65,
   "metadata": {
    "scrolled": false
   },
   "outputs": [
    {
     "data": {
      "image/png": "[encoded data removed]",
      "text/plain": [
       "<Figure size 576x396 with 1 Axes>"
      ]
     },
     "metadata": {},
     "output_type": "display_data"
    }
   ],
   "source": [
    "plt.plot(range(1, model.epochs+1), callback.training_loss)\n",
    "plt.xlabel(\"Epoch\")\n",
    "plt.ylabel(\"Loss\")\n",
    "plt.title(\"Training Loss\", fontweight = \"bold\")\n",
    "plt.show()"
   ]
  },
  {
   "cell_type": "markdown",
   "metadata": {},
   "source": [
    "## Vectors Visualization <a class='anchor' id='model_viz'></a>\n",
    "\n",
    "The movie vectors can be visualized using a gradient of colors. The model is trained using 256 dimensions, therefore there will be 256 color bars for each song, representing element values in the vector. The similarity between movies is calculated using **cosine similarity**:\n",
    "\n",
    "$similarity(A,B) = cos(\\theta) = \\frac{A.B}{\\|A\\| \\|B\\|}$\n",
    "\n",
    "Mathematically it measures the cosine of the angle between two vectors $A$ and $B$ which projected in a multi-dimensional space. movie vectors with similar context occupy close spatial positions; the cosine between such vectors should be close to 1, i.e. angle is closer to 0. The smaller the angle, the cosine similarity will be higher."
   ]
  },
  {
   "cell_type": "code",
   "execution_count": 76,
   "metadata": {
    "scrolled": true
   },
   "outputs": [
    {
     "data": {
      "image/png": "[encoded data removed]",
      "text/plain": [
       "<Figure size 3600x2160 with 6 Axes>"
      ]
     },
     "metadata": {},
     "output_type": "display_data"
    }
   ],
   "source": [
    "fig, axes = plt.subplots(6, 1, figsize = (50, 30))\n",
    "\n",
    "slug = '193583'\n",
    "mv_id_list = [(slug, \"Main Movie\"), *[t for t in model.wv.most_similar(slug)[:5]]] \n",
    "\n",
    "for ax, (mv_id, sim) in zip(axes.flat, mv_id_list):\n",
    "    ax.imshow([model.wv[mv_id]], cmap = \"binary\", aspect = \"auto\")\n",
    "    ax.set_title(data_mv.set_index('movieId').loc[int(mv_id), \"title\"], fontsize = 50)\n",
    "    ax.yaxis.set_label_position(\"right\")\n",
    "    ax.set_ylabel(f\"Similarity:\\n{sim:.3f}\" if sim != mv_id_list[0][1] else sim,\n",
    "                  rotation = \"horizontal\", ha = \"left\", va = \"center\", fontsize = 50)\n",
    "    ax.set_xticks([])\n",
    "    ax.set_yticks([])\n",
    "plt.show()"
   ]
  },
  {
   "cell_type": "markdown",
   "metadata": {},
   "source": [
    "The plot above shows five most similar movies to `movieId = '193583'` (No Game No Life: Zero (2019)). Up until now, the model can be used for recommending new movies using cosine similarity, but only based on one main movie."
   ]
  },
  {
   "cell_type": "markdown",
   "metadata": {},
   "source": [
    "# Generate Recommendation <a class='anchor' id='generate'></a>\n",
    "\n",
    "We are finally ready with the embeddings for every movie that exists in `ratedls_train`. How these movie vectors are then used to suggest similar movies based on a certain movie list? One way is to calculate a **movie list vector** for each movie list by averaging together all the movie vectors in that movie list. These vectors then become the query to find similar movies based on cosine similarity. Here is an illustration using a users' rated movie list:\n",
    "\n",
    "For each movie list in `ratedls_test`, calculate the average vectors using `meanVectors()` function. If the movie hasn't been embedded before, neglect the movie instead."
   ]
  },
  {
   "cell_type": "code",
   "execution_count": 78,
   "metadata": {},
   "outputs": [],
   "source": [
    "def meanVectors(mv_list):\n",
    "    vec = []\n",
    "    for mv_id in mv_list:\n",
    "        try:\n",
    "            vec.append(model.wv[mv_id])\n",
    "        except KeyError:\n",
    "            continue\n",
    "    return np.mean(vec, axis=0)"
   ]
  },
  {
   "cell_type": "markdown",
   "metadata": {},
   "source": [
    "For each movie list vector, recommend top $n$ similar movies based on the cosine similarity."
   ]
  },
  {
   "cell_type": "code",
   "execution_count": 81,
   "metadata": {},
   "outputs": [],
   "source": [
    "def similarMoviesByVector(vec, n = 10, by_name = True):\n",
    "    # extract most similar movies for the input vector\n",
    "    similar_movies = model.wv.similar_by_vector(vec, topn = n)\n",
    "    \n",
    "    # extract name and similarity score of the similar products\n",
    "    if by_name:\n",
    "        similar_movies = [(data_mv.loc[int(mv_id), \"title\"], sim)\n",
    "                              for mv_id, sim in similar_movies]\n",
    "    \n",
    "    return similar_movies"
   ]
  },
  {
   "cell_type": "markdown",
   "metadata": {},
   "source": [
    "## Show Recommendation for One User <a class='anchor' id='generate_example'></a>\n",
    "\n",
    "et's test the movie embeddings to recommend top 10 movies for `ratedls_test` in for userId `82`."
   ]
  },
  {
   "cell_type": "code",
   "execution_count": 103,
   "metadata": {},
   "outputs": [],
   "source": [
    "def print_recommended_movies(userId, mv_list, n):\n",
    "    print(\"============================\")\n",
    "    print(\"Movie List\")\n",
    "    print(\"============================\")\n",
    "    for mv_id in mv_list.set_index('userId').loc[int(userId)]['movie_ls']:\n",
    "        print(data_mv.loc[int(mv_id), \"title\"])\n",
    "    print()\n",
    "    print(\"============================\")\n",
    "    print(f\"TOP {n} RECOMMENDED MOVIES\")\n",
    "    print(\"============================\")\n",
    "    for movie, sim in similarMoviesByVector(meanVectors(mv_list.set_index('userId').loc[userId]['movie_ls']), n):\n",
    "        print(f\"[Similarity: {sim:.3f}] {movie}\")\n",
    "    print(\"============================\")"
   ]
  },
  {
   "cell_type": "code",
   "execution_count": 104,
   "metadata": {},
   "outputs": [
    {
     "name": "stdout",
     "output_type": "stream",
     "text": [
      "============================\n",
      "Movie List\n",
      "============================\n",
      "Jumanji (1995)\n",
      "Grumpier Old Men (1995)\n",
      "Sabrina (1995)\n",
      "American President, The (1995)\n",
      "It Takes Two (1995)\n",
      "Mighty Aphrodite (1995)\n",
      "Steal Big, Steal Little (1995)\n",
      "Jupiter's Wife (1994)\n",
      "Judge Dredd (1995)\n",
      "Mighty Morphin Power Rangers: The Movie (1995)\n",
      "Party Girl (1995)\n",
      "Showgirls (1995)\n",
      "Something to Talk About (1995)\n",
      "Total Eclipse (1995)\n",
      "Babysitter, The (1995)\n",
      "Dolores Claiborne (1995)\n",
      "My Crazy Life (Mi vida loca) (1993)\n",
      "Quiz Show (1994)\n",
      "Underneath (1995)\n",
      "Adventures of Priscilla, Queen of the Desert, The (1994)\n",
      "I Like It Like That (1994)\n",
      "True Lies (1994)\n",
      "Low Down Dirty Shame, A (1994)\n",
      "Age of Innocence, The (1993)\n",
      "Airheads (1994)\n",
      "Beverly Hills Cop III (1994)\n",
      "Blown Away (1994)\n",
      "Blue Chips (1994)\n",
      "Body Snatchers (1993)\n",
      "Color of Night (1994)\n",
      "Killing Zoe (1994)\n",
      "Perfect World, A (1993)\n",
      "RoboCop 3 (1993)\n",
      "Shadow, The (1994)\n",
      "Terminal Velocity (1994)\n",
      "Great White Hype, The (1996)\n",
      "Last Dance (1996)\n",
      "Cold Comfort Farm (1995)\n",
      "Rock, The (1996)\n",
      "Barb Wire (1996)\n",
      "Chain Reaction (1996)\n",
      "It's a Wonderful Life (1946)\n",
      "Cinderella (1950)\n",
      "Robin Hood: Prince of Thieves (1991)\n",
      "Bedknobs and Broomsticks (1971)\n",
      "Doors, The (1991)\n",
      "Escape from New York (1981)\n",
      "Nosferatu (Nosferatu, eine Symphonie des Grauens) (1922)\n",
      "Jingle All the Way (1996)\n",
      "Mother (1996)\n",
      "Portrait of a Lady, The (1996)\n",
      "Underworld (1996)\n",
      "Jungle2Jungle (a.k.a. Jungle 2 Jungle) (1997)\n",
      "Picture Perfect (1997)\n",
      "Career Girls (1997)\n",
      "Desperate Measures (1998)\n",
      "Steel (1997)\n",
      "187 (One Eight Seven) (1997)\n",
      "Star Maps (1997)\n",
      "Soul Food (1997)\n",
      "I Love You, I Love You Not (1996)\n",
      "Titanic (1997)\n",
      "Tarzan and the Lost City (1998)\n",
      "Clockwatchers (1997)\n",
      "Quest for Camelot (1998)\n",
      "Almost Heroes (1998)\n",
      "Dream for an Insomniac (1996)\n",
      "Metropolis (1927)\n",
      "Great Mouse Detective, The (1986)\n",
      "Parent Trap, The (1998)\n",
      "Lady and the Tramp (1955)\n",
      "Rescuers Down Under, The (1990)\n",
      "Return to Oz (1985)\n",
      "Song of the South (1946)\n",
      "Man with Two Brains, The (1983)\n",
      "Maximum Overdrive (1986)\n",
      "Gods Must Be Crazy, The (1980)\n",
      "Untouchables, The (1987)\n",
      "One True Thing (1998)\n",
      "Elephant Man, The (1980)\n",
      "Stepford Wives, The (1975)\n",
      "Pale Rider (1985)\n",
      "Last Days, The (1998)\n",
      "Dead Ringers (1988)\n",
      "It Came from Outer Space (1953)\n",
      "War of the Worlds, The (1953)\n",
      "Swamp Thing (1982)\n",
      "Run Silent Run Deep (1958)\n",
      "Buena Vista Social Club (1999)\n",
      "Free Enterprise (1998)\n",
      "South Park: Bigger, Longer and Uncut (1999)\n",
      "Perfect Blue (1997)\n",
      "Creepshow (1982)\n",
      "Toy Story 2 (1999)\n",
      "Bicentennial Man (1999)\n",
      "Emperor and the Assassin, The (Jing ke ci qin wang) (1999)\n",
      "Fantasia 2000 (1999)\n",
      "Onegin (1999)\n",
      "Simpatico (1999)\n",
      "Last Detail, The (1973)\n",
      "Drowning Mona (2000)\n",
      "Teenage Mutant Ninja Turtles II: The Secret of the Ooze (1991)\n",
      "Road to El Dorado, The (2000)\n",
      "My Life (1993)\n",
      "Joe Gould's Secret (2000)\n",
      "Battlefield Earth (2000)\n",
      "Mission: Impossible II (2000)\n",
      "Shanghai Noon (2000)\n",
      "Firestarter (1984)\n",
      "Contender, The (2000)\n",
      "Bounty, The (1984)\n",
      "Big Easy, The (1987)\n",
      "Cannonball Run, The (1981)\n",
      "Wet Hot American Summer (2001)\n",
      "Paint Your Wagon (1969)\n",
      "Spy Game (2001)\n",
      "Incredible Shrinking Man, The (1957)\n",
      "Not Another Teen Movie (2001)\n",
      "Vanilla Sky (2001)\n",
      "Lord of the Rings: The Fellowship of the Ring, The (2001)\n",
      "John Q (2002)\n",
      "Monsoon Wedding (2001)\n",
      "Oh, God! (1977)\n",
      "Road to Morocco (1942)\n",
      "Changing Lanes (2002)\n",
      "Rome, Open City (a.k.a. Open City) (Roma, città aperta) (1945)\n",
      "Dark Blue World (Tmavomodrý svet) (2001)\n",
      "Snipes (2001)\n",
      "Banger Sisters, The (2002)\n",
      "Punch-Drunk Love (2002)\n",
      "Ring, The (2002)\n",
      "Real Women Have Curves (2002)\n",
      "Grave of the Fireflies (Hotaru no haka) (1988)\n",
      "Houseboat (1958)\n",
      "Madame Bovary (1991)\n",
      "War and Peace (1956)\n",
      "Red Badge of Courage, The (1951)\n",
      "Open Hearts (Elsker dig for evigt) (2002)\n",
      "Volcano High (Whasango) (2001)\n",
      "Equus (1977)\n",
      "Bulletproof Monk (2003)\n",
      "Malibu's Most Wanted (2003)\n",
      "Chorus Line, A (1985)\n",
      "Nevada Smith (1966)\n",
      "Silk Stockings (1957)\n",
      "Man with the Movie Camera, The (Chelovek s kino-apparatom) (1929)\n",
      "This Boy's Life (1993)\n",
      "Passenger 57 (1992)\n",
      "High Heels (Tacones lejanos) (1991)\n",
      "Crimson Gold (Talaye sorgh) (2003)\n",
      "Club Dread (2004)\n",
      "Look Who's Talking Too (1990)\n",
      "Animal Crackers (1930)\n",
      "Through a Glass Darkly (Såsom i en spegel) (1961)\n",
      "Stendhal Syndrome, The (Sindrome di Stendhal, La) (1996)\n",
      "Mean Streets (1973)\n",
      "Sunrise: A Song of Two Humans (1927)\n",
      "Silent Movie (1976)\n",
      "Anna Christie (1930)\n",
      "Dr. Jekyll and Mr. Hyde (1931)\n",
      "Sherlock Holmes and the Secret Weapon (1942)\n",
      "Manchurian Candidate, The (2004)\n",
      "Shall We Dance? (2004)\n",
      "Control Room (2004)\n",
      "Fury (1936)\n",
      "Stage Door (1937)\n",
      "Human Condition II, The (Ningen no joken II) (1959)\n",
      "Advise and Consent (1962)\n",
      "Major Dundee (1965)\n",
      "Dr. Phibes Rises Again (1972)\n",
      "Love at First Bite (1979)\n",
      "Animatrix, The (2003)\n",
      "In Hell (2003)\n",
      "Sons of the Desert (1933)\n",
      "Hitchhiker's Guide to the Galaxy, The (2005)\n",
      "Mutant Aliens (2001)\n",
      "Divorce - Italian Style (Divorzio all'italiana) (1961)\n",
      "New Police Story (Xin jing cha gu shi) (2004)\n",
      "Green Street Hooligans (a.k.a. Hooligans) (2005)\n",
      "MirrorMask (2005)\n",
      "Inside Man (2006)\n",
      "Tsotsi (2005)\n",
      "Aquamarine (2006)\n",
      "Little Man (2006)\n",
      "Zoom (2006)\n",
      "Wind That Shakes the Barley, The (2006)\n",
      "Perfume: The Story of a Murderer (2006)\n",
      "Notes on a Scandal (2006)\n",
      "Letters from Iwo Jima (2006)\n",
      "Black Christmas (2006)\n",
      "The Return of Don Camillo (1953)\n",
      "Wheels on Meals (Kuai can che) (1984)\n",
      "Starcrash (a.k.a. Star Crash) (1978)\n",
      "Bourne Ultimatum, The (2007)\n",
      "Tell No One (Ne le dis à personne) (2006)\n",
      "Superbad (2007)\n",
      "Rush Hour 3 (2007)\n",
      "Balls of Fury (2007)\n",
      "Halloween (2007)\n",
      "2 Days in Paris (2007)\n",
      "4 Months, 3 Weeks and 2 Days (4 luni, 3 saptamâni si 2 zile) (2007)\n",
      "Brave One, The (2007)\n",
      "Darjeeling Limited, The (2007)\n",
      "Gone Baby Gone (2007)\n",
      "Weirdsville (2007)\n",
      "Step Up 2 the Streets (2008)\n",
      "Other Boleyn Girl, The (2008)\n",
      "Diary of the Dead (2007)\n",
      "Snow Angels (2007)\n",
      "Bella (2006)\n",
      "Shelter (2007)\n",
      "Stuck (2007)\n",
      "20,000 Leagues Under the Sea (1916)\n",
      "Angus, Thongs and Perfect Snogging (2008)\n",
      "Futurama: Bender's Game (2008)\n",
      "Quantum of Solace (2008)\n",
      "Role Models (2008)\n",
      "Tokyo! (2008)\n",
      "Earthsea (Legend of Earthsea) (2004)\n",
      "Bride Wars (2009)\n",
      "Battle in Seattle (2007)\n",
      "Revenge of the Nerds III: The Next Generation (1992)\n",
      "Still Walking (Aruitemo aruitemo) (2008)\n",
      "Haunted World of El Superbeasto, The (2009)\n",
      "Surrogates (2009)\n",
      "Zombieland (2009)\n",
      "MacGruber (2010)\n",
      "\n",
      "============================\n",
      "TOP 10 RECOMMENDED MOVIES\n",
      "============================\n",
      "[Similarity: 0.602] Flags of Our Fathers (2006)\n",
      "[Similarity: 0.530] Grave of the Fireflies (Hotaru no haka) (1988)\n",
      "[Similarity: 0.518] Inside Man (2006)\n",
      "[Similarity: 0.505] Moonlight Mile (2002)\n",
      "[Similarity: 0.504] Batman/Superman Movie, The (1998)\n",
      "[Similarity: 0.481] China Blue (2005)\n",
      "[Similarity: 0.479] 20,000 Leagues Under the Sea (1916)\n",
      "[Similarity: 0.478] Ring, The (2002)\n",
      "[Similarity: 0.478] Starcrash (a.k.a. Star Crash) (1978)\n",
      "[Similarity: 0.477] Norbit (2007)\n",
      "============================\n"
     ]
    }
   ],
   "source": [
    "print_recommended_movies(userId = 82, mv_list = ratedls_test, n = 10)"
   ]
  },
  {
   "cell_type": "markdown",
   "metadata": {},
   "source": [
    "## Generate Recommendation for All Users <a class='anchor' id='generate_all'></a>\n",
    "\n",
    "Let's generate 10 recommendation for all user. We must make sure that we're not give the rated item as the recommendation for user"
   ]
  },
  {
   "cell_type": "code",
   "execution_count": 128,
   "metadata": {},
   "outputs": [],
   "source": [
    "def generate_recommendation(mv_ls, n_avail_mv, n_recommendation = 10):\n",
    "    mean_vec = meanVectors(mv_ls)\n",
    "    all_possible_rec = similarMoviesByVector(mean_vec,n = n_avail_mv, by_name=False)\n",
    "    possible_rec = [(mv_id,score) for mv_id,score in all_possible_rec if str(mv_id) not in mv_ls]\n",
    "    return possible_rec[:10]\n",
    "\n",
    "ratedls_test['prediction'] = ratedls_test['movie_ls'].apply(lambda ls : generate_recommendation(ls,data_mv['movieId'].nunique(),10))"
   ]
  },
  {
   "cell_type": "code",
   "execution_count": 132,
   "metadata": {},
   "outputs": [
    {
     "data": {
      "text/html": [
       "<div>\n",
       "<style scoped>\n",
       "    .dataframe tbody tr th:only-of-type {\n",
       "        vertical-align: middle;\n",
       "    }\n",
       "\n",
       "    .dataframe tbody tr th {\n",
       "        vertical-align: top;\n",
       "    }\n",
       "\n",
       "    .dataframe thead th {\n",
       "        text-align: right;\n",
       "    }\n",
       "</style>\n",
       "<table border=\"1\" class=\"dataframe\">\n",
       "  <thead>\n",
       "    <tr style=\"text-align: right;\">\n",
       "      <th></th>\n",
       "      <th>userId</th>\n",
       "      <th>movie_ls</th>\n",
       "      <th>prediction</th>\n",
       "    </tr>\n",
       "  </thead>\n",
       "  <tbody>\n",
       "    <tr>\n",
       "      <th>81</th>\n",
       "      <td>82</td>\n",
       "      <td>[1, 2, 6, 10, 34, 47, 104, 110, 145, 153, 158,...</td>\n",
       "      <td>[(6332, 0.6020281314849854), (3988, 0.50497102...</td>\n",
       "    </tr>\n",
       "    <tr>\n",
       "      <th>218</th>\n",
       "      <td>219</td>\n",
       "      <td>[1, 2, 6, 10, 19, 21, 32, 44, 47, 50, 65, 95, ...</td>\n",
       "      <td>[(49130, 0.5477033257484436), (55854, 0.526558...</td>\n",
       "    </tr>\n",
       "    <tr>\n",
       "      <th>55</th>\n",
       "      <td>56</td>\n",
       "      <td>[10, 11, 19, 39, 47, 69, 110, 153, 160, 161, 1...</td>\n",
       "      <td>[(339, 0.6226528286933899), (247, 0.6134948730...</td>\n",
       "    </tr>\n",
       "    <tr>\n",
       "      <th>598</th>\n",
       "      <td>599</td>\n",
       "      <td>[1, 2, 3, 6, 7, 9, 10, 11, 12, 15, 16, 17, 18,...</td>\n",
       "      <td>[(120919, 0.8023521900177002), (897, 0.7921096...</td>\n",
       "    </tr>\n",
       "    <tr>\n",
       "      <th>264</th>\n",
       "      <td>265</td>\n",
       "      <td>[25, 32, 36, 79, 110, 111, 150, 196, 230, 253,...</td>\n",
       "      <td>[(1372, 0.560987114906311), (1352, 0.501146793...</td>\n",
       "    </tr>\n",
       "  </tbody>\n",
       "</table>\n",
       "</div>"
      ],
      "text/plain": [
       "     userId                                           movie_ls  \\\n",
       "81       82  [1, 2, 6, 10, 34, 47, 104, 110, 145, 153, 158,...   \n",
       "218     219  [1, 2, 6, 10, 19, 21, 32, 44, 47, 50, 65, 95, ...   \n",
       "55       56  [10, 11, 19, 39, 47, 69, 110, 153, 160, 161, 1...   \n",
       "598     599  [1, 2, 3, 6, 7, 9, 10, 11, 12, 15, 16, 17, 18,...   \n",
       "264     265  [25, 32, 36, 79, 110, 111, 150, 196, 230, 253,...   \n",
       "\n",
       "                                            prediction  \n",
       "81   [(6332, 0.6020281314849854), (3988, 0.50497102...  \n",
       "218  [(49130, 0.5477033257484436), (55854, 0.526558...  \n",
       "55   [(339, 0.6226528286933899), (247, 0.6134948730...  \n",
       "598  [(120919, 0.8023521900177002), (897, 0.7921096...  \n",
       "264  [(1372, 0.560987114906311), (1352, 0.501146793...  "
      ]
     },
     "execution_count": 132,
     "metadata": {},
     "output_type": "execute_result"
    }
   ],
   "source": [
    "ratedls_test.head()"
   ]
  },
  {
   "cell_type": "code",
   "execution_count": 163,
   "metadata": {},
   "outputs": [],
   "source": [
    "results = ratedls_test.drop(['movie_ls'],axis=1).copy()\n",
    "results = results.explode('prediction', ignore_index=True)\n",
    "results['movieId'] = results['prediction'].str[0].astype(int)\n",
    "results['prediction'] = results['prediction'].str[1].astype(float)"
   ]
  },
  {
   "cell_type": "code",
   "execution_count": 168,
   "metadata": {},
   "outputs": [
    {
     "data": {
      "text/html": [
       "<div>\n",
       "<style scoped>\n",
       "    .dataframe tbody tr th:only-of-type {\n",
       "        vertical-align: middle;\n",
       "    }\n",
       "\n",
       "    .dataframe tbody tr th {\n",
       "        vertical-align: top;\n",
       "    }\n",
       "\n",
       "    .dataframe thead th {\n",
       "        text-align: right;\n",
       "    }\n",
       "</style>\n",
       "<table border=\"1\" class=\"dataframe\">\n",
       "  <thead>\n",
       "    <tr style=\"text-align: right;\">\n",
       "      <th></th>\n",
       "      <th>userId</th>\n",
       "      <th>prediction</th>\n",
       "      <th>movieId</th>\n",
       "    </tr>\n",
       "  </thead>\n",
       "  <tbody>\n",
       "    <tr>\n",
       "      <th>0</th>\n",
       "      <td>82</td>\n",
       "      <td>0.602028</td>\n",
       "      <td>6332</td>\n",
       "    </tr>\n",
       "    <tr>\n",
       "      <th>1</th>\n",
       "      <td>82</td>\n",
       "      <td>0.504971</td>\n",
       "      <td>3988</td>\n",
       "    </tr>\n",
       "    <tr>\n",
       "      <th>2</th>\n",
       "      <td>82</td>\n",
       "      <td>0.504015</td>\n",
       "      <td>5620</td>\n",
       "    </tr>\n",
       "    <tr>\n",
       "      <th>3</th>\n",
       "      <td>82</td>\n",
       "      <td>0.481227</td>\n",
       "      <td>6535</td>\n",
       "    </tr>\n",
       "    <tr>\n",
       "      <th>4</th>\n",
       "      <td>82</td>\n",
       "      <td>0.476887</td>\n",
       "      <td>6402</td>\n",
       "    </tr>\n",
       "    <tr>\n",
       "      <th>5</th>\n",
       "      <td>82</td>\n",
       "      <td>0.476451</td>\n",
       "      <td>6619</td>\n",
       "    </tr>\n",
       "    <tr>\n",
       "      <th>6</th>\n",
       "      <td>82</td>\n",
       "      <td>0.473885</td>\n",
       "      <td>3990</td>\n",
       "    </tr>\n",
       "    <tr>\n",
       "      <th>7</th>\n",
       "      <td>82</td>\n",
       "      <td>0.473819</td>\n",
       "      <td>6410</td>\n",
       "    </tr>\n",
       "    <tr>\n",
       "      <th>8</th>\n",
       "      <td>82</td>\n",
       "      <td>0.472291</td>\n",
       "      <td>6424</td>\n",
       "    </tr>\n",
       "    <tr>\n",
       "      <th>9</th>\n",
       "      <td>82</td>\n",
       "      <td>0.464820</td>\n",
       "      <td>6427</td>\n",
       "    </tr>\n",
       "  </tbody>\n",
       "</table>\n",
       "</div>"
      ],
      "text/plain": [
       "   userId  prediction  movieId\n",
       "0      82    0.602028     6332\n",
       "1      82    0.504971     3988\n",
       "2      82    0.504015     5620\n",
       "3      82    0.481227     6535\n",
       "4      82    0.476887     6402\n",
       "5      82    0.476451     6619\n",
       "6      82    0.473885     3990\n",
       "7      82    0.473819     6410\n",
       "8      82    0.472291     6424\n",
       "9      82    0.464820     6427"
      ]
     },
     "execution_count": 168,
     "metadata": {},
     "output_type": "execute_result"
    }
   ],
   "source": [
    "results.head(10)"
   ]
  },
  {
   "cell_type": "code",
   "execution_count": 170,
   "metadata": {},
   "outputs": [
    {
     "data": {
      "text/html": [
       "<div>\n",
       "<style scoped>\n",
       "    .dataframe tbody tr th:only-of-type {\n",
       "        vertical-align: middle;\n",
       "    }\n",
       "\n",
       "    .dataframe tbody tr th {\n",
       "        vertical-align: top;\n",
       "    }\n",
       "\n",
       "    .dataframe thead th {\n",
       "        text-align: right;\n",
       "    }\n",
       "</style>\n",
       "<table border=\"1\" class=\"dataframe\">\n",
       "  <thead>\n",
       "    <tr style=\"text-align: right;\">\n",
       "      <th></th>\n",
       "      <th>userId</th>\n",
       "      <th>prediction</th>\n",
       "      <th>movieId</th>\n",
       "    </tr>\n",
       "  </thead>\n",
       "  <tbody>\n",
       "    <tr>\n",
       "      <th>530</th>\n",
       "      <td>83</td>\n",
       "      <td>0.492626</td>\n",
       "      <td>66097</td>\n",
       "    </tr>\n",
       "    <tr>\n",
       "      <th>531</th>\n",
       "      <td>83</td>\n",
       "      <td>0.489892</td>\n",
       "      <td>71033</td>\n",
       "    </tr>\n",
       "    <tr>\n",
       "      <th>532</th>\n",
       "      <td>83</td>\n",
       "      <td>0.488987</td>\n",
       "      <td>74458</td>\n",
       "    </tr>\n",
       "    <tr>\n",
       "      <th>533</th>\n",
       "      <td>83</td>\n",
       "      <td>0.458987</td>\n",
       "      <td>69481</td>\n",
       "    </tr>\n",
       "    <tr>\n",
       "      <th>534</th>\n",
       "      <td>83</td>\n",
       "      <td>0.458252</td>\n",
       "      <td>39516</td>\n",
       "    </tr>\n",
       "    <tr>\n",
       "      <th>535</th>\n",
       "      <td>83</td>\n",
       "      <td>0.448915</td>\n",
       "      <td>68157</td>\n",
       "    </tr>\n",
       "    <tr>\n",
       "      <th>536</th>\n",
       "      <td>83</td>\n",
       "      <td>0.448295</td>\n",
       "      <td>73854</td>\n",
       "    </tr>\n",
       "    <tr>\n",
       "      <th>537</th>\n",
       "      <td>83</td>\n",
       "      <td>0.444530</td>\n",
       "      <td>69604</td>\n",
       "    </tr>\n",
       "    <tr>\n",
       "      <th>538</th>\n",
       "      <td>83</td>\n",
       "      <td>0.443989</td>\n",
       "      <td>4980</td>\n",
       "    </tr>\n",
       "    <tr>\n",
       "      <th>539</th>\n",
       "      <td>83</td>\n",
       "      <td>0.443169</td>\n",
       "      <td>69134</td>\n",
       "    </tr>\n",
       "  </tbody>\n",
       "</table>\n",
       "</div>"
      ],
      "text/plain": [
       "     userId  prediction  movieId\n",
       "530      83    0.492626    66097\n",
       "531      83    0.489892    71033\n",
       "532      83    0.488987    74458\n",
       "533      83    0.458987    69481\n",
       "534      83    0.458252    39516\n",
       "535      83    0.448915    68157\n",
       "536      83    0.448295    73854\n",
       "537      83    0.444530    69604\n",
       "538      83    0.443989     4980\n",
       "539      83    0.443169    69134"
      ]
     },
     "execution_count": 170,
     "metadata": {},
     "output_type": "execute_result"
    }
   ],
   "source": [
    "results[results['userId'] == 83]"
   ]
  },
  {
   "cell_type": "markdown",
   "metadata": {},
   "source": [
    "Now we have the results! We dont create the evaluation yet but sooner or later I will update the script. Bye!"
   ]
  },
  {
   "cell_type": "code",
   "execution_count": null,
   "metadata": {},
   "outputs": [],
   "source": []
  }
 ],
 "metadata": {
  "kernelspec": {
   "display_name": "Python 3 (ipykernel)",
   "language": "python",
   "name": "python3"
  },
  "language_info": {
   "codemirror_mode": {
    "name": "ipython",
    "version": 3
   },
   "file_extension": ".py",
   "mimetype": "text/x-python",
   "name": "python",
   "nbconvert_exporter": "python",
   "pygments_lexer": "ipython3",
   "version": "3.9.7"
  },
  "toc": {
   "base_numbering": 1,
   "nav_menu": {},
   "number_sections": true,
   "sideBar": true,
   "skip_h1_title": true,
   "title_cell": "Table of Contents",
   "title_sidebar": "Contents",
   "toc_cell": true,
   "toc_position": {
    "height": "398px",
    "left": "22px",
    "top": "110px",
    "width": "165px"
   },
   "toc_section_display": true,
   "toc_window_display": true
  },
  "varInspector": {
   "cols": {
    "lenName": 16,
    "lenType": 16,
    "lenVar": 40
   },
   "kernels_config": {
    "python": {
     "delete_cmd_postfix": "",
     "delete_cmd_prefix": "del ",
     "library": "var_list.py",
     "varRefreshCmd": "print(var_dic_list())"
    },
    "r": {
     "delete_cmd_postfix": ") ",
     "delete_cmd_prefix": "rm(",
     "library": "var_list.r",
     "varRefreshCmd": "cat(var_dic_list()) "
    }
   },
   "types_to_exclude": [
    "module",
    "function",
    "builtin_function_or_method",
    "instance",
    "_Feature"
   ],
   "window_display": false
  }
 },
 "nbformat": 4,
 "nbformat_minor": 4
}
