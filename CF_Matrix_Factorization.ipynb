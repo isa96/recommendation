{
 "cells": [
  {
   "cell_type": "markdown",
   "id": "ca37dcbf",
   "metadata": {},
   "source": [
    "# Recommender System - Matrix Factorization\n",
    "\n",
    "# Table of Contents\n",
    "\n",
    "- [1. Import Package](#package)\n",
    "- [2. Import Data](#data)\n",
    "- [3. Data Analysis](#analysis)\n",
    "    - [3.1. Shape of Data](#analysis_shape)\n",
    "    - [3.2. The Number of User and Movie](#analysis_numbof)\n",
    "    - [3.3. How Much Rating Given by User](#analysis_ratinguser)\n",
    "    - [3.4. How Much Rater of Each Movie](#analysis_rater)\n",
    "- [4. Data Preprocessing](#prep)\n",
    "    - [4.1. Create Data Train and Data Test](#prep_train_test)\n",
    "    - [4.2. Convert Dataframe to Surprise Data Autofold Type](#prep_daf)\n",
    "- [5. Modeling](#model)\n",
    "    - [5.1. Training](#model_train)\n",
    "    - [5.2. Evaluation](#model_eval)\n",
    "- [6. Generate Recommendation](#generate)"
   ]
  },
  {
   "cell_type": "markdown",
   "id": "9948550c",
   "metadata": {},
   "source": [
    "# Import Package <a class='anchor' id='package'></a>\n",
    "\n",
    "We use <a href = 'https://surprise.readthedocs.io/en/stable/getting_started.html' target = '_blank'>surprise</a> library to calculate matrix factorization"
   ]
  },
  {
   "cell_type": "code",
   "execution_count": 2,
   "id": "09eaf79f",
   "metadata": {},
   "outputs": [],
   "source": [
    "import pymysql\n",
    "from sqlalchemy import create_engine\n",
    "\n",
    "import pandas as pd\n",
    "import numpy as np\n",
    "from tqdm import tqdm\n",
    "from collections import defaultdict\n",
    "\n",
    "from surprise.prediction_algorithms.matrix_factorization import SVD\n",
    "from surprise import Dataset\n",
    "from surprise import Reader\n",
    "from surprise.model_selection import KFold\n",
    "from surprise import accuracy\n",
    "\n",
    "import pickle\n",
    "import random"
   ]
  },
  {
   "cell_type": "markdown",
   "id": "c80ec539",
   "metadata": {},
   "source": [
    "# Import Data <a class='anchor' id='data'></a>\n",
    "\n",
    "We use Movie Recommender System Dataset from <a href = 'https://www.kaggle.com/datasets/gargmanas/movierecommenderdataset' target = '_blank'>Kaggle</a>"
   ]
  },
  {
   "cell_type": "code",
   "execution_count": 3,
   "id": "160151f4",
   "metadata": {},
   "outputs": [],
   "source": [
    "data_mv = pd.read_csv('Data/movies.csv')\n",
    "data_rating = pd.read_csv('Data/ratings.csv')"
   ]
  },
  {
   "cell_type": "code",
   "execution_count": 4,
   "id": "b4d4a2f8",
   "metadata": {},
   "outputs": [
    {
     "data": {
      "text/html": [
       "<div>\n",
       "<style scoped>\n",
       "    .dataframe tbody tr th:only-of-type {\n",
       "        vertical-align: middle;\n",
       "    }\n",
       "\n",
       "    .dataframe tbody tr th {\n",
       "        vertical-align: top;\n",
       "    }\n",
       "\n",
       "    .dataframe thead th {\n",
       "        text-align: right;\n",
       "    }\n",
       "</style>\n",
       "<table border=\"1\" class=\"dataframe\">\n",
       "  <thead>\n",
       "    <tr style=\"text-align: right;\">\n",
       "      <th></th>\n",
       "      <th>movieId</th>\n",
       "      <th>title</th>\n",
       "      <th>genres</th>\n",
       "    </tr>\n",
       "  </thead>\n",
       "  <tbody>\n",
       "    <tr>\n",
       "      <th>0</th>\n",
       "      <td>1</td>\n",
       "      <td>Toy Story (1995)</td>\n",
       "      <td>Adventure|Animation|Children|Comedy|Fantasy</td>\n",
       "    </tr>\n",
       "    <tr>\n",
       "      <th>1</th>\n",
       "      <td>2</td>\n",
       "      <td>Jumanji (1995)</td>\n",
       "      <td>Adventure|Children|Fantasy</td>\n",
       "    </tr>\n",
       "    <tr>\n",
       "      <th>2</th>\n",
       "      <td>3</td>\n",
       "      <td>Grumpier Old Men (1995)</td>\n",
       "      <td>Comedy|Romance</td>\n",
       "    </tr>\n",
       "    <tr>\n",
       "      <th>3</th>\n",
       "      <td>4</td>\n",
       "      <td>Waiting to Exhale (1995)</td>\n",
       "      <td>Comedy|Drama|Romance</td>\n",
       "    </tr>\n",
       "    <tr>\n",
       "      <th>4</th>\n",
       "      <td>5</td>\n",
       "      <td>Father of the Bride Part II (1995)</td>\n",
       "      <td>Comedy</td>\n",
       "    </tr>\n",
       "    <tr>\n",
       "      <th>5</th>\n",
       "      <td>6</td>\n",
       "      <td>Heat (1995)</td>\n",
       "      <td>Action|Crime|Thriller</td>\n",
       "    </tr>\n",
       "    <tr>\n",
       "      <th>6</th>\n",
       "      <td>7</td>\n",
       "      <td>Sabrina (1995)</td>\n",
       "      <td>Comedy|Romance</td>\n",
       "    </tr>\n",
       "    <tr>\n",
       "      <th>7</th>\n",
       "      <td>8</td>\n",
       "      <td>Tom and Huck (1995)</td>\n",
       "      <td>Adventure|Children</td>\n",
       "    </tr>\n",
       "    <tr>\n",
       "      <th>8</th>\n",
       "      <td>9</td>\n",
       "      <td>Sudden Death (1995)</td>\n",
       "      <td>Action</td>\n",
       "    </tr>\n",
       "    <tr>\n",
       "      <th>9</th>\n",
       "      <td>10</td>\n",
       "      <td>GoldenEye (1995)</td>\n",
       "      <td>Action|Adventure|Thriller</td>\n",
       "    </tr>\n",
       "  </tbody>\n",
       "</table>\n",
       "</div>"
      ],
      "text/plain": [
       "   movieId                               title  \\\n",
       "0        1                    Toy Story (1995)   \n",
       "1        2                      Jumanji (1995)   \n",
       "2        3             Grumpier Old Men (1995)   \n",
       "3        4            Waiting to Exhale (1995)   \n",
       "4        5  Father of the Bride Part II (1995)   \n",
       "5        6                         Heat (1995)   \n",
       "6        7                      Sabrina (1995)   \n",
       "7        8                 Tom and Huck (1995)   \n",
       "8        9                 Sudden Death (1995)   \n",
       "9       10                    GoldenEye (1995)   \n",
       "\n",
       "                                        genres  \n",
       "0  Adventure|Animation|Children|Comedy|Fantasy  \n",
       "1                   Adventure|Children|Fantasy  \n",
       "2                               Comedy|Romance  \n",
       "3                         Comedy|Drama|Romance  \n",
       "4                                       Comedy  \n",
       "5                        Action|Crime|Thriller  \n",
       "6                               Comedy|Romance  \n",
       "7                           Adventure|Children  \n",
       "8                                       Action  \n",
       "9                    Action|Adventure|Thriller  "
      ]
     },
     "execution_count": 4,
     "metadata": {},
     "output_type": "execute_result"
    }
   ],
   "source": [
    "data_mv.head(10)"
   ]
  },
  {
   "cell_type": "code",
   "execution_count": 5,
   "id": "775007e4",
   "metadata": {},
   "outputs": [
    {
     "data": {
      "text/html": [
       "<div>\n",
       "<style scoped>\n",
       "    .dataframe tbody tr th:only-of-type {\n",
       "        vertical-align: middle;\n",
       "    }\n",
       "\n",
       "    .dataframe tbody tr th {\n",
       "        vertical-align: top;\n",
       "    }\n",
       "\n",
       "    .dataframe thead th {\n",
       "        text-align: right;\n",
       "    }\n",
       "</style>\n",
       "<table border=\"1\" class=\"dataframe\">\n",
       "  <thead>\n",
       "    <tr style=\"text-align: right;\">\n",
       "      <th></th>\n",
       "      <th>userId</th>\n",
       "      <th>movieId</th>\n",
       "      <th>rating</th>\n",
       "      <th>timestamp</th>\n",
       "    </tr>\n",
       "  </thead>\n",
       "  <tbody>\n",
       "    <tr>\n",
       "      <th>0</th>\n",
       "      <td>1</td>\n",
       "      <td>1</td>\n",
       "      <td>4.0</td>\n",
       "      <td>964982703</td>\n",
       "    </tr>\n",
       "    <tr>\n",
       "      <th>1</th>\n",
       "      <td>1</td>\n",
       "      <td>3</td>\n",
       "      <td>4.0</td>\n",
       "      <td>964981247</td>\n",
       "    </tr>\n",
       "    <tr>\n",
       "      <th>2</th>\n",
       "      <td>1</td>\n",
       "      <td>6</td>\n",
       "      <td>4.0</td>\n",
       "      <td>964982224</td>\n",
       "    </tr>\n",
       "    <tr>\n",
       "      <th>3</th>\n",
       "      <td>1</td>\n",
       "      <td>47</td>\n",
       "      <td>5.0</td>\n",
       "      <td>964983815</td>\n",
       "    </tr>\n",
       "    <tr>\n",
       "      <th>4</th>\n",
       "      <td>1</td>\n",
       "      <td>50</td>\n",
       "      <td>5.0</td>\n",
       "      <td>964982931</td>\n",
       "    </tr>\n",
       "    <tr>\n",
       "      <th>5</th>\n",
       "      <td>1</td>\n",
       "      <td>70</td>\n",
       "      <td>3.0</td>\n",
       "      <td>964982400</td>\n",
       "    </tr>\n",
       "    <tr>\n",
       "      <th>6</th>\n",
       "      <td>1</td>\n",
       "      <td>101</td>\n",
       "      <td>5.0</td>\n",
       "      <td>964980868</td>\n",
       "    </tr>\n",
       "    <tr>\n",
       "      <th>7</th>\n",
       "      <td>1</td>\n",
       "      <td>110</td>\n",
       "      <td>4.0</td>\n",
       "      <td>964982176</td>\n",
       "    </tr>\n",
       "    <tr>\n",
       "      <th>8</th>\n",
       "      <td>1</td>\n",
       "      <td>151</td>\n",
       "      <td>5.0</td>\n",
       "      <td>964984041</td>\n",
       "    </tr>\n",
       "    <tr>\n",
       "      <th>9</th>\n",
       "      <td>1</td>\n",
       "      <td>157</td>\n",
       "      <td>5.0</td>\n",
       "      <td>964984100</td>\n",
       "    </tr>\n",
       "  </tbody>\n",
       "</table>\n",
       "</div>"
      ],
      "text/plain": [
       "   userId  movieId  rating  timestamp\n",
       "0       1        1     4.0  964982703\n",
       "1       1        3     4.0  964981247\n",
       "2       1        6     4.0  964982224\n",
       "3       1       47     5.0  964983815\n",
       "4       1       50     5.0  964982931\n",
       "5       1       70     3.0  964982400\n",
       "6       1      101     5.0  964980868\n",
       "7       1      110     4.0  964982176\n",
       "8       1      151     5.0  964984041\n",
       "9       1      157     5.0  964984100"
      ]
     },
     "execution_count": 5,
     "metadata": {},
     "output_type": "execute_result"
    }
   ],
   "source": [
    "data_rating.head(10)"
   ]
  },
  {
   "cell_type": "markdown",
   "id": "41e3bd65",
   "metadata": {},
   "source": [
    "# Data Analysis <a class='anchor' id='analysis'></a>"
   ]
  },
  {
   "cell_type": "markdown",
   "id": "2e556d23",
   "metadata": {},
   "source": [
    "## Shape of Data <a class='anchor' id='analysis_shape'></a>"
   ]
  },
  {
   "cell_type": "code",
   "execution_count": 6,
   "id": "53008d66",
   "metadata": {},
   "outputs": [
    {
     "name": "stdout",
     "output_type": "stream",
     "text": [
      "shape of data movie :  (9742, 3)\n",
      "shape of data rating :  (100836, 4)\n"
     ]
    }
   ],
   "source": [
    "print(\"shape of data movie : \", data_mv.shape)\n",
    "print(\"shape of data rating : \", data_rating.shape)"
   ]
  },
  {
   "cell_type": "markdown",
   "id": "83068735",
   "metadata": {},
   "source": [
    "## Number of User and Movie <a class='anchor' id='analysis_numbof'></a>"
   ]
  },
  {
   "cell_type": "code",
   "execution_count": 7,
   "id": "e584a0ea",
   "metadata": {},
   "outputs": [
    {
     "name": "stdout",
     "output_type": "stream",
     "text": [
      "number of user :  610\n",
      "number of movie :  9742\n"
     ]
    }
   ],
   "source": [
    "print(\"number of user : \", data_rating['userId'].nunique())\n",
    "print(\"number of movie : \", data_mv['movieId'].nunique())"
   ]
  },
  {
   "cell_type": "markdown",
   "id": "93d133d2",
   "metadata": {},
   "source": [
    "## How Much Rating Given by User <a class='anchor' id='analysis_ratinguser'></a>"
   ]
  },
  {
   "cell_type": "code",
   "execution_count": 8,
   "id": "266ac12f",
   "metadata": {},
   "outputs": [],
   "source": [
    "ratingbyuser = data_rating.groupby('userId')[['rating']].count().sort_values('rating').reset_index()"
   ]
  },
  {
   "cell_type": "code",
   "execution_count": 9,
   "id": "6e019dcf",
   "metadata": {},
   "outputs": [
    {
     "data": {
      "text/html": [
       "<div>\n",
       "<style scoped>\n",
       "    .dataframe tbody tr th:only-of-type {\n",
       "        vertical-align: middle;\n",
       "    }\n",
       "\n",
       "    .dataframe tbody tr th {\n",
       "        vertical-align: top;\n",
       "    }\n",
       "\n",
       "    .dataframe thead th {\n",
       "        text-align: right;\n",
       "    }\n",
       "</style>\n",
       "<table border=\"1\" class=\"dataframe\">\n",
       "  <thead>\n",
       "    <tr style=\"text-align: right;\">\n",
       "      <th></th>\n",
       "      <th>userId</th>\n",
       "      <th>rating</th>\n",
       "    </tr>\n",
       "  </thead>\n",
       "  <tbody>\n",
       "    <tr>\n",
       "      <th>0</th>\n",
       "      <td>442</td>\n",
       "      <td>20</td>\n",
       "    </tr>\n",
       "    <tr>\n",
       "      <th>1</th>\n",
       "      <td>406</td>\n",
       "      <td>20</td>\n",
       "    </tr>\n",
       "    <tr>\n",
       "      <th>2</th>\n",
       "      <td>147</td>\n",
       "      <td>20</td>\n",
       "    </tr>\n",
       "    <tr>\n",
       "      <th>3</th>\n",
       "      <td>194</td>\n",
       "      <td>20</td>\n",
       "    </tr>\n",
       "    <tr>\n",
       "      <th>4</th>\n",
       "      <td>569</td>\n",
       "      <td>20</td>\n",
       "    </tr>\n",
       "    <tr>\n",
       "      <th>5</th>\n",
       "      <td>576</td>\n",
       "      <td>20</td>\n",
       "    </tr>\n",
       "    <tr>\n",
       "      <th>6</th>\n",
       "      <td>431</td>\n",
       "      <td>20</td>\n",
       "    </tr>\n",
       "    <tr>\n",
       "      <th>7</th>\n",
       "      <td>207</td>\n",
       "      <td>20</td>\n",
       "    </tr>\n",
       "    <tr>\n",
       "      <th>8</th>\n",
       "      <td>278</td>\n",
       "      <td>20</td>\n",
       "    </tr>\n",
       "    <tr>\n",
       "      <th>9</th>\n",
       "      <td>320</td>\n",
       "      <td>20</td>\n",
       "    </tr>\n",
       "  </tbody>\n",
       "</table>\n",
       "</div>"
      ],
      "text/plain": [
       "   userId  rating\n",
       "0     442      20\n",
       "1     406      20\n",
       "2     147      20\n",
       "3     194      20\n",
       "4     569      20\n",
       "5     576      20\n",
       "6     431      20\n",
       "7     207      20\n",
       "8     278      20\n",
       "9     320      20"
      ]
     },
     "execution_count": 9,
     "metadata": {},
     "output_type": "execute_result"
    }
   ],
   "source": [
    "ratingbyuser.head(10)"
   ]
  },
  {
   "cell_type": "code",
   "execution_count": 10,
   "id": "90930e74",
   "metadata": {},
   "outputs": [
    {
     "data": {
      "text/html": [
       "<div>\n",
       "<style scoped>\n",
       "    .dataframe tbody tr th:only-of-type {\n",
       "        vertical-align: middle;\n",
       "    }\n",
       "\n",
       "    .dataframe tbody tr th {\n",
       "        vertical-align: top;\n",
       "    }\n",
       "\n",
       "    .dataframe thead th {\n",
       "        text-align: right;\n",
       "    }\n",
       "</style>\n",
       "<table border=\"1\" class=\"dataframe\">\n",
       "  <thead>\n",
       "    <tr style=\"text-align: right;\">\n",
       "      <th></th>\n",
       "      <th>userId</th>\n",
       "      <th>rating</th>\n",
       "    </tr>\n",
       "  </thead>\n",
       "  <tbody>\n",
       "    <tr>\n",
       "      <th>600</th>\n",
       "      <td>288</td>\n",
       "      <td>1055</td>\n",
       "    </tr>\n",
       "    <tr>\n",
       "      <th>601</th>\n",
       "      <td>606</td>\n",
       "      <td>1115</td>\n",
       "    </tr>\n",
       "    <tr>\n",
       "      <th>602</th>\n",
       "      <td>380</td>\n",
       "      <td>1218</td>\n",
       "    </tr>\n",
       "    <tr>\n",
       "      <th>603</th>\n",
       "      <td>68</td>\n",
       "      <td>1260</td>\n",
       "    </tr>\n",
       "    <tr>\n",
       "      <th>604</th>\n",
       "      <td>610</td>\n",
       "      <td>1302</td>\n",
       "    </tr>\n",
       "    <tr>\n",
       "      <th>605</th>\n",
       "      <td>274</td>\n",
       "      <td>1346</td>\n",
       "    </tr>\n",
       "    <tr>\n",
       "      <th>606</th>\n",
       "      <td>448</td>\n",
       "      <td>1864</td>\n",
       "    </tr>\n",
       "    <tr>\n",
       "      <th>607</th>\n",
       "      <td>474</td>\n",
       "      <td>2108</td>\n",
       "    </tr>\n",
       "    <tr>\n",
       "      <th>608</th>\n",
       "      <td>599</td>\n",
       "      <td>2478</td>\n",
       "    </tr>\n",
       "    <tr>\n",
       "      <th>609</th>\n",
       "      <td>414</td>\n",
       "      <td>2698</td>\n",
       "    </tr>\n",
       "  </tbody>\n",
       "</table>\n",
       "</div>"
      ],
      "text/plain": [
       "     userId  rating\n",
       "600     288    1055\n",
       "601     606    1115\n",
       "602     380    1218\n",
       "603      68    1260\n",
       "604     610    1302\n",
       "605     274    1346\n",
       "606     448    1864\n",
       "607     474    2108\n",
       "608     599    2478\n",
       "609     414    2698"
      ]
     },
     "execution_count": 10,
     "metadata": {},
     "output_type": "execute_result"
    }
   ],
   "source": [
    "ratingbyuser.tail(10)"
   ]
  },
  {
   "cell_type": "code",
   "execution_count": 11,
   "id": "d37f5c1e",
   "metadata": {},
   "outputs": [
    {
     "data": {
      "text/html": [
       "<div>\n",
       "<style scoped>\n",
       "    .dataframe tbody tr th:only-of-type {\n",
       "        vertical-align: middle;\n",
       "    }\n",
       "\n",
       "    .dataframe tbody tr th {\n",
       "        vertical-align: top;\n",
       "    }\n",
       "\n",
       "    .dataframe thead th {\n",
       "        text-align: right;\n",
       "    }\n",
       "</style>\n",
       "<table border=\"1\" class=\"dataframe\">\n",
       "  <thead>\n",
       "    <tr style=\"text-align: right;\">\n",
       "      <th></th>\n",
       "      <th>rating</th>\n",
       "    </tr>\n",
       "  </thead>\n",
       "  <tbody>\n",
       "    <tr>\n",
       "      <th>count</th>\n",
       "      <td>610.000000</td>\n",
       "    </tr>\n",
       "    <tr>\n",
       "      <th>mean</th>\n",
       "      <td>165.304918</td>\n",
       "    </tr>\n",
       "    <tr>\n",
       "      <th>std</th>\n",
       "      <td>269.480584</td>\n",
       "    </tr>\n",
       "    <tr>\n",
       "      <th>min</th>\n",
       "      <td>20.000000</td>\n",
       "    </tr>\n",
       "    <tr>\n",
       "      <th>25%</th>\n",
       "      <td>35.000000</td>\n",
       "    </tr>\n",
       "    <tr>\n",
       "      <th>50%</th>\n",
       "      <td>70.500000</td>\n",
       "    </tr>\n",
       "    <tr>\n",
       "      <th>75%</th>\n",
       "      <td>168.000000</td>\n",
       "    </tr>\n",
       "    <tr>\n",
       "      <th>max</th>\n",
       "      <td>2698.000000</td>\n",
       "    </tr>\n",
       "  </tbody>\n",
       "</table>\n",
       "</div>"
      ],
      "text/plain": [
       "            rating\n",
       "count   610.000000\n",
       "mean    165.304918\n",
       "std     269.480584\n",
       "min      20.000000\n",
       "25%      35.000000\n",
       "50%      70.500000\n",
       "75%     168.000000\n",
       "max    2698.000000"
      ]
     },
     "execution_count": 11,
     "metadata": {},
     "output_type": "execute_result"
    }
   ],
   "source": [
    "ratingbyuser[['rating']].describe()"
   ]
  },
  {
   "cell_type": "markdown",
   "id": "1e0f3335",
   "metadata": {},
   "source": [
    "## How Much Rater of Each Movie <a class='anchor' id='analysis_rater'></a>"
   ]
  },
  {
   "cell_type": "code",
   "execution_count": 12,
   "id": "eadb80e5",
   "metadata": {},
   "outputs": [],
   "source": [
    "rater = data_rating.groupby('movieId')[['rating']].count().sort_values('rating').reset_index()"
   ]
  },
  {
   "cell_type": "code",
   "execution_count": 13,
   "id": "3de91b92",
   "metadata": {},
   "outputs": [
    {
     "data": {
      "text/html": [
       "<div>\n",
       "<style scoped>\n",
       "    .dataframe tbody tr th:only-of-type {\n",
       "        vertical-align: middle;\n",
       "    }\n",
       "\n",
       "    .dataframe tbody tr th {\n",
       "        vertical-align: top;\n",
       "    }\n",
       "\n",
       "    .dataframe thead th {\n",
       "        text-align: right;\n",
       "    }\n",
       "</style>\n",
       "<table border=\"1\" class=\"dataframe\">\n",
       "  <thead>\n",
       "    <tr style=\"text-align: right;\">\n",
       "      <th></th>\n",
       "      <th>movieId</th>\n",
       "      <th>rating</th>\n",
       "    </tr>\n",
       "  </thead>\n",
       "  <tbody>\n",
       "    <tr>\n",
       "      <th>0</th>\n",
       "      <td>193609</td>\n",
       "      <td>1</td>\n",
       "    </tr>\n",
       "    <tr>\n",
       "      <th>1</th>\n",
       "      <td>4032</td>\n",
       "      <td>1</td>\n",
       "    </tr>\n",
       "    <tr>\n",
       "      <th>2</th>\n",
       "      <td>57526</td>\n",
       "      <td>1</td>\n",
       "    </tr>\n",
       "    <tr>\n",
       "      <th>3</th>\n",
       "      <td>57522</td>\n",
       "      <td>1</td>\n",
       "    </tr>\n",
       "    <tr>\n",
       "      <th>4</th>\n",
       "      <td>57502</td>\n",
       "      <td>1</td>\n",
       "    </tr>\n",
       "    <tr>\n",
       "      <th>5</th>\n",
       "      <td>57499</td>\n",
       "      <td>1</td>\n",
       "    </tr>\n",
       "    <tr>\n",
       "      <th>6</th>\n",
       "      <td>57421</td>\n",
       "      <td>1</td>\n",
       "    </tr>\n",
       "    <tr>\n",
       "      <th>7</th>\n",
       "      <td>57326</td>\n",
       "      <td>1</td>\n",
       "    </tr>\n",
       "    <tr>\n",
       "      <th>8</th>\n",
       "      <td>57147</td>\n",
       "      <td>1</td>\n",
       "    </tr>\n",
       "    <tr>\n",
       "      <th>9</th>\n",
       "      <td>4046</td>\n",
       "      <td>1</td>\n",
       "    </tr>\n",
       "  </tbody>\n",
       "</table>\n",
       "</div>"
      ],
      "text/plain": [
       "   movieId  rating\n",
       "0   193609       1\n",
       "1     4032       1\n",
       "2    57526       1\n",
       "3    57522       1\n",
       "4    57502       1\n",
       "5    57499       1\n",
       "6    57421       1\n",
       "7    57326       1\n",
       "8    57147       1\n",
       "9     4046       1"
      ]
     },
     "execution_count": 13,
     "metadata": {},
     "output_type": "execute_result"
    }
   ],
   "source": [
    "rater.head(10)"
   ]
  },
  {
   "cell_type": "code",
   "execution_count": 14,
   "id": "c70b2a91",
   "metadata": {},
   "outputs": [
    {
     "data": {
      "text/html": [
       "<div>\n",
       "<style scoped>\n",
       "    .dataframe tbody tr th:only-of-type {\n",
       "        vertical-align: middle;\n",
       "    }\n",
       "\n",
       "    .dataframe tbody tr th {\n",
       "        vertical-align: top;\n",
       "    }\n",
       "\n",
       "    .dataframe thead th {\n",
       "        text-align: right;\n",
       "    }\n",
       "</style>\n",
       "<table border=\"1\" class=\"dataframe\">\n",
       "  <thead>\n",
       "    <tr style=\"text-align: right;\">\n",
       "      <th></th>\n",
       "      <th>movieId</th>\n",
       "      <th>rating</th>\n",
       "    </tr>\n",
       "  </thead>\n",
       "  <tbody>\n",
       "    <tr>\n",
       "      <th>9714</th>\n",
       "      <td>527</td>\n",
       "      <td>220</td>\n",
       "    </tr>\n",
       "    <tr>\n",
       "      <th>9715</th>\n",
       "      <td>589</td>\n",
       "      <td>224</td>\n",
       "    </tr>\n",
       "    <tr>\n",
       "      <th>9716</th>\n",
       "      <td>110</td>\n",
       "      <td>237</td>\n",
       "    </tr>\n",
       "    <tr>\n",
       "      <th>9717</th>\n",
       "      <td>480</td>\n",
       "      <td>238</td>\n",
       "    </tr>\n",
       "    <tr>\n",
       "      <th>9718</th>\n",
       "      <td>260</td>\n",
       "      <td>251</td>\n",
       "    </tr>\n",
       "    <tr>\n",
       "      <th>9719</th>\n",
       "      <td>2571</td>\n",
       "      <td>278</td>\n",
       "    </tr>\n",
       "    <tr>\n",
       "      <th>9720</th>\n",
       "      <td>593</td>\n",
       "      <td>279</td>\n",
       "    </tr>\n",
       "    <tr>\n",
       "      <th>9721</th>\n",
       "      <td>296</td>\n",
       "      <td>307</td>\n",
       "    </tr>\n",
       "    <tr>\n",
       "      <th>9722</th>\n",
       "      <td>318</td>\n",
       "      <td>317</td>\n",
       "    </tr>\n",
       "    <tr>\n",
       "      <th>9723</th>\n",
       "      <td>356</td>\n",
       "      <td>329</td>\n",
       "    </tr>\n",
       "  </tbody>\n",
       "</table>\n",
       "</div>"
      ],
      "text/plain": [
       "      movieId  rating\n",
       "9714      527     220\n",
       "9715      589     224\n",
       "9716      110     237\n",
       "9717      480     238\n",
       "9718      260     251\n",
       "9719     2571     278\n",
       "9720      593     279\n",
       "9721      296     307\n",
       "9722      318     317\n",
       "9723      356     329"
      ]
     },
     "execution_count": 14,
     "metadata": {},
     "output_type": "execute_result"
    }
   ],
   "source": [
    "rater.tail(10)"
   ]
  },
  {
   "cell_type": "code",
   "execution_count": 15,
   "id": "410d9590",
   "metadata": {},
   "outputs": [
    {
     "data": {
      "text/html": [
       "<div>\n",
       "<style scoped>\n",
       "    .dataframe tbody tr th:only-of-type {\n",
       "        vertical-align: middle;\n",
       "    }\n",
       "\n",
       "    .dataframe tbody tr th {\n",
       "        vertical-align: top;\n",
       "    }\n",
       "\n",
       "    .dataframe thead th {\n",
       "        text-align: right;\n",
       "    }\n",
       "</style>\n",
       "<table border=\"1\" class=\"dataframe\">\n",
       "  <thead>\n",
       "    <tr style=\"text-align: right;\">\n",
       "      <th></th>\n",
       "      <th>rating</th>\n",
       "    </tr>\n",
       "  </thead>\n",
       "  <tbody>\n",
       "    <tr>\n",
       "      <th>count</th>\n",
       "      <td>9724.000000</td>\n",
       "    </tr>\n",
       "    <tr>\n",
       "      <th>mean</th>\n",
       "      <td>10.369807</td>\n",
       "    </tr>\n",
       "    <tr>\n",
       "      <th>std</th>\n",
       "      <td>22.401005</td>\n",
       "    </tr>\n",
       "    <tr>\n",
       "      <th>min</th>\n",
       "      <td>1.000000</td>\n",
       "    </tr>\n",
       "    <tr>\n",
       "      <th>25%</th>\n",
       "      <td>1.000000</td>\n",
       "    </tr>\n",
       "    <tr>\n",
       "      <th>50%</th>\n",
       "      <td>3.000000</td>\n",
       "    </tr>\n",
       "    <tr>\n",
       "      <th>75%</th>\n",
       "      <td>9.000000</td>\n",
       "    </tr>\n",
       "    <tr>\n",
       "      <th>max</th>\n",
       "      <td>329.000000</td>\n",
       "    </tr>\n",
       "  </tbody>\n",
       "</table>\n",
       "</div>"
      ],
      "text/plain": [
       "            rating\n",
       "count  9724.000000\n",
       "mean     10.369807\n",
       "std      22.401005\n",
       "min       1.000000\n",
       "25%       1.000000\n",
       "50%       3.000000\n",
       "75%       9.000000\n",
       "max     329.000000"
      ]
     },
     "execution_count": 15,
     "metadata": {},
     "output_type": "execute_result"
    }
   ],
   "source": [
    "rater[['rating']].describe()"
   ]
  },
  {
   "cell_type": "markdown",
   "id": "27f7890c",
   "metadata": {},
   "source": [
    "# Data Preprocessing <a class='anchor' id='prep'></a>\n",
    "\n",
    "Matrix factorization is a part of collaborative filtering recommender system so we only need the user-item rating data for training process. We will create two kinds of data, namely data train and data test\n",
    "\n",
    "- data train : all historical user-item rating data that we have\n",
    "- data test  : all unrated user-item pairs (we will predict the rating of those pairs)\n",
    "\n",
    "we have 610 users and 9742 movies so to create the data test we need to create all user-item pair data. If it is too large then we can divide the data into several batches in the predict process later, while now we can create a function to generate the data test.\n",
    "\n",
    "Surprise library has its own data type for its input, so we need to convert our data from dataframe to the surprise data autofold type using <a href = 'https://surprise.readthedocs.io/en/stable/reader.html' target = '_blank'>reader method</a>."
   ]
  },
  {
   "cell_type": "markdown",
   "id": "2796d52c",
   "metadata": {},
   "source": [
    "## Create Data Train and Data Test <a class='anchor' id='prep_train_test'></a>"
   ]
  },
  {
   "cell_type": "code",
   "execution_count": 16,
   "id": "1aed4e13",
   "metadata": {},
   "outputs": [],
   "source": [
    "# CREATE DATA TRAIN\n",
    "\n",
    "data_train = data_rating[['userId','movieId','rating']].copy()"
   ]
  },
  {
   "cell_type": "code",
   "execution_count": 17,
   "id": "ef6ec6a0",
   "metadata": {},
   "outputs": [],
   "source": [
    "# CREATE DATA TEST\n",
    "def generate_data_test(user_df, mv_df, rated_pair_df):\n",
    "    temp_user = user_df[['userId']].copy()\n",
    "    temp_user['key'] = 1\n",
    "\n",
    "    temp_mv = mv_df[['movieId']].copy()\n",
    "    temp_mv['key'] = 1\n",
    "\n",
    "    #cross join temp_user and temp_mv\n",
    "    data_test = temp_user.merge(temp_mv,on='key').drop('key',axis=1)\n",
    "\n",
    "    #join data test and a data that contains rated user-item pairs to get the rating\n",
    "    data_test = data_test.merge(rated_pair_df, how='left', on=['userId','movieId'])\n",
    "\n",
    "    #exclude rated data on data test\n",
    "    data_test = data_test[data_test['rating'].isna()]\n",
    "    \n",
    "    return data_test"
   ]
  },
  {
   "cell_type": "markdown",
   "id": "5a61efab",
   "metadata": {},
   "source": [
    "## Convert Dataframe to Surprise Data Autofold Type <a class='anchor' id='prep_daf'></a>"
   ]
  },
  {
   "cell_type": "code",
   "execution_count": 18,
   "id": "70bd6b27",
   "metadata": {},
   "outputs": [],
   "source": [
    "def read_DAF(df, rating_scale = (1,5)):\n",
    "    reader = Reader(rating_scale = rating_scale)\n",
    "    daf = Dataset.load_from_df(df, reader)\n",
    "    return daf"
   ]
  },
  {
   "cell_type": "code",
   "execution_count": 19,
   "id": "2824ec09",
   "metadata": {},
   "outputs": [],
   "source": [
    "daf_train = read_DAF(data_train)\n",
    "trainset = daf_train.build_full_trainset()"
   ]
  },
  {
   "cell_type": "code",
   "execution_count": 20,
   "id": "46f283ff",
   "metadata": {},
   "outputs": [
    {
     "data": {
      "text/plain": [
       "<surprise.dataset.DatasetAutoFolds at 0x7fc256a16280>"
      ]
     },
     "execution_count": 20,
     "metadata": {},
     "output_type": "execute_result"
    }
   ],
   "source": [
    "daf_train"
   ]
  },
  {
   "cell_type": "code",
   "execution_count": 21,
   "id": "a108a1b2",
   "metadata": {},
   "outputs": [
    {
     "data": {
      "text/plain": [
       "<surprise.trainset.Trainset at 0x7fc256a63eb0>"
      ]
     },
     "execution_count": 21,
     "metadata": {},
     "output_type": "execute_result"
    }
   ],
   "source": [
    "trainset"
   ]
  },
  {
   "cell_type": "markdown",
   "id": "a2429f94",
   "metadata": {},
   "source": [
    "# Modeling <a class='anchor' id='model'></a>"
   ]
  },
  {
   "cell_type": "markdown",
   "id": "9f677f17",
   "metadata": {},
   "source": [
    "## Training <a class='anchor' id='model_train'></a>\n",
    "\n",
    "We will use <a href = 'https://surprise.readthedocs.io/en/stable/matrix_factorization.html' target = '_blank'>SVD</a> model from surprise library."
   ]
  },
  {
   "cell_type": "code",
   "execution_count": 22,
   "id": "b8c80786",
   "metadata": {},
   "outputs": [],
   "source": [
    "model = SVD(n_factors= 50, n_epochs= 30, lr_all= 0.01, reg_all= 0.1)"
   ]
  },
  {
   "cell_type": "code",
   "execution_count": 23,
   "id": "aa8956d6",
   "metadata": {},
   "outputs": [
    {
     "data": {
      "text/plain": [
       "<surprise.prediction_algorithms.matrix_factorization.SVD at 0x7fc256a16e20>"
      ]
     },
     "execution_count": 23,
     "metadata": {},
     "output_type": "execute_result"
    }
   ],
   "source": [
    "model.fit(trainset)"
   ]
  },
  {
   "cell_type": "markdown",
   "id": "e8c2cd31",
   "metadata": {},
   "source": [
    "## Evaluation <a class='anchor' id='model_eval'></a>\n",
    "\n",
    "There are two types of evaluation in recommender system, namely online evaluation and offline evaluation. We will use offline evaluation and calculate the <a href = 'https://surprise.readthedocs.io/en/stable/FAQ.html?highlight=precision#how-to-compute-precision-k-and-recall-k' target = '_blank'>precision, recall</a>, and <a href = 'https://surprise.readthedocs.io/en/stable/accuracy.html#surprise.accuracy.rmse' target = '_blank'>RMSE</a>. To evaluate our model we will use K-fold cross validation with <a href = 'https://surprise.readthedocs.io/en/stable/model_selection.html' target = '_blank'>model_selection package</a> in surprise library."
   ]
  },
  {
   "cell_type": "code",
   "execution_count": 24,
   "id": "b83c310c",
   "metadata": {},
   "outputs": [],
   "source": [
    "def precision_recall_at_k(predictions, k=10, threshold=3.5):\n",
    "    # First map the predictions to each user.\n",
    "    user_est_true = defaultdict(list)\n",
    "    for uid, _, true_r, est, _ in predictions:\n",
    "        user_est_true[uid].append((est, true_r))\n",
    "\n",
    "    precisions = dict()\n",
    "    recalls = dict()\n",
    "    for uid, user_ratings in user_est_true.items():\n",
    "\n",
    "        # Sort user ratings by estimated value\n",
    "        user_ratings.sort(key=lambda x: x[0], reverse=True)\n",
    "\n",
    "        # Number of relevant items\n",
    "        n_rel = sum((true_r >= threshold) for (_, true_r) in user_ratings)\n",
    "\n",
    "        # Number of recommended items in top k\n",
    "        n_rec_k = sum((est >= threshold) for (est, _) in user_ratings[:k])\n",
    "\n",
    "        # Number of relevant and recommended items in top k\n",
    "        n_rel_and_rec_k = sum(((true_r >= threshold) and (est >= threshold))\n",
    "                              for (est, true_r) in user_ratings[:k])\n",
    "\n",
    "        # Precision@K: Proportion of recommended items that are relevant\n",
    "        # When n_rec_k is 0, Precision is undefined. We here set it to 0.\n",
    "\n",
    "        precisions[uid] = n_rel_and_rec_k / n_rec_k if n_rec_k != 0 else 0\n",
    "\n",
    "        # Recall@K: Proportion of relevant items that are recommended\n",
    "        # When n_rel is 0, Recall is undefined. We here set it to 0.\n",
    "\n",
    "        recalls[uid] = n_rel_and_rec_k / n_rel if n_rel != 0 else 0\n",
    "\n",
    "    return precisions, recalls"
   ]
  },
  {
   "cell_type": "code",
   "execution_count": 25,
   "id": "454e8815",
   "metadata": {},
   "outputs": [],
   "source": [
    "def model_evaluation(daf_train, model, n_fold=5, k=10, rating_threshold = 4):\n",
    "    evaluation = {\"rmse\":[],\n",
    "                  \"precision_k\":[],\n",
    "                  \"recall_k\":[]}\n",
    "    kf = KFold(n_fold,random_state=42)\n",
    "    i = 1\n",
    "\n",
    "    for trainset, testset in kf.split(daf_train):\n",
    "        model.fit(trainset)\n",
    "        predictions = model.test(testset)\n",
    "\n",
    "        rmse = accuracy.rmse(predictions)\n",
    "        precisions, recalls = precision_recall_at_k(predictions, k, threshold=rating_threshold)\n",
    "\n",
    "        print(\"--------Fold {}--------\".format(i))\n",
    "        #compute RMSE\n",
    "        print(\"RMSE : \",rmse)\n",
    "\n",
    "#             Precision and recall can then be averaged over all users\n",
    "        print(\"Precision : \", sum(prec for prec in precisions.values()) / len(precisions))\n",
    "        print(\"Recall :\",sum(rec for rec in recalls.values()) / len(recalls))\n",
    "\n",
    "        evaluation['rmse'].append(rmse)\n",
    "        evaluation['precision_k'].append(sum(prec for prec in precisions.values()) / len(precisions))\n",
    "        evaluation['recall_k'].append(sum(rec for rec in recalls.values()) / len(recalls))\n",
    "\n",
    "        i += 1\n",
    "\n",
    "    return evaluation"
   ]
  },
  {
   "cell_type": "code",
   "execution_count": 36,
   "id": "d72c88db",
   "metadata": {},
   "outputs": [
    {
     "name": "stdout",
     "output_type": "stream",
     "text": [
      "RMSE: 0.8667\n",
      "--------Fold 1--------\n",
      "RMSE :  0.8667433037398852\n",
      "Precision :  0.5615755919854287\n",
      "Recall : 0.28656963730142954\n",
      "RMSE: 0.8517\n",
      "--------Fold 2--------\n",
      "RMSE :  0.8516753553171849\n",
      "Precision :  0.5786184984702288\n",
      "Recall : 0.2975460372380142\n",
      "RMSE: 0.8478\n",
      "--------Fold 3--------\n",
      "RMSE :  0.8478187945932568\n",
      "Precision :  0.5848189850652906\n",
      "Recall : 0.2874227828704104\n",
      "RMSE: 0.8534\n",
      "--------Fold 4--------\n",
      "RMSE :  0.8534323844152234\n",
      "Precision :  0.5631115014311738\n",
      "Recall : 0.2845462021563749\n",
      "RMSE: 0.8631\n",
      "--------Fold 5--------\n",
      "RMSE :  0.8631255510011435\n",
      "Precision :  0.5624108769190739\n",
      "Recall : 0.28245406832428116\n"
     ]
    },
    {
     "data": {
      "text/plain": [
       "{'rmse': [0.8667433037398852,\n",
       "  0.8516753553171849,\n",
       "  0.8478187945932568,\n",
       "  0.8534323844152234,\n",
       "  0.8631255510011435],\n",
       " 'precision_k': [0.5615755919854287,\n",
       "  0.5786184984702288,\n",
       "  0.5848189850652906,\n",
       "  0.5631115014311738,\n",
       "  0.5624108769190739],\n",
       " 'recall_k': [0.28656963730142954,\n",
       "  0.2975460372380142,\n",
       "  0.2874227828704104,\n",
       "  0.2845462021563749,\n",
       "  0.28245406832428116]}"
      ]
     },
     "execution_count": 36,
     "metadata": {},
     "output_type": "execute_result"
    }
   ],
   "source": [
    "# EVALUATE USING 5 FOLD CROSS VALIDATION\n",
    "\n",
    "model_evaluation(daf_train,SVD(n_factors= 50, n_epochs= 30, lr_all= 0.01, reg_all= 0.1))"
   ]
  },
  {
   "cell_type": "markdown",
   "id": "8650d7fd",
   "metadata": {},
   "source": [
    "The evaluation results of our model are not so good, we can use hyperparameter tuning to fix that but for now let's continue to the next part :)"
   ]
  },
  {
   "cell_type": "code",
   "execution_count": 26,
   "id": "2e149b33",
   "metadata": {},
   "outputs": [
    {
     "data": {
      "text/plain": [
       "<surprise.prediction_algorithms.matrix_factorization.SVD at 0x7fc256a16e20>"
      ]
     },
     "execution_count": 26,
     "metadata": {},
     "output_type": "execute_result"
    }
   ],
   "source": [
    "model.fit(trainset)"
   ]
  },
  {
   "cell_type": "markdown",
   "id": "1e0bf88e",
   "metadata": {},
   "source": [
    "# Generate Recommendation <a class='anchor' id='generate'></a>\n",
    "\n",
    "We will generate top n recommendation for every user by predict the rating of the unrated user-item pairs (data test)."
   ]
  },
  {
   "cell_type": "code",
   "execution_count": 46,
   "id": "4b9ade55",
   "metadata": {},
   "outputs": [],
   "source": [
    "# create user data\n",
    "user_df = data_rating[['userId']].copy()\n",
    "user_df = user_df.drop_duplicates().reset_index(drop=True)\n",
    "\n",
    "# create movie data\n",
    "mv_df = data_mv[['movieId']].copy()\n",
    "mv_df = mv_df.drop_duplicates().reset_index(drop=True)"
   ]
  },
  {
   "cell_type": "code",
   "execution_count": 52,
   "id": "7fe135d5",
   "metadata": {},
   "outputs": [
    {
     "data": {
      "text/plain": [
       "[0, 100, 200, 300, 400, 500, 600, 610]"
      ]
     },
     "execution_count": 52,
     "metadata": {},
     "output_type": "execute_result"
    }
   ],
   "source": [
    "# create batch (we will predict 100 by 100 users)\n",
    "\n",
    "batch = list(range(0,len(user_df['userId']),100)) + [len(user_df['userId'])]\n",
    "batch"
   ]
  },
  {
   "cell_type": "code",
   "execution_count": 61,
   "id": "13665c27",
   "metadata": {},
   "outputs": [
    {
     "name": "stderr",
     "output_type": "stream",
     "text": [
      "100%|██████████| 7/7 [01:21<00:00, 11.62s/it]\n"
     ]
    }
   ],
   "source": [
    "n_recommendation = 10 #get top 10 recommendation\n",
    "res_recommendation = pd.DataFrame()\n",
    "\n",
    "for i in tqdm(range(1,len(batch))):\n",
    "    #generate data test\n",
    "    data_test = generate_data_test(user_df.loc[batch[i-1]:batch[i]],mv_df,data_train)\n",
    "    \n",
    "    #read to data auto fold\n",
    "    daf_user_test = read_DAF(data_test)\n",
    "    testset = daf_user_test.build_full_trainset().build_testset()\n",
    "    \n",
    "    #predict\n",
    "    user_predicted = model.test(testset)\n",
    "    df_user_predicted = pd.DataFrame(user_predicted)\n",
    "    \n",
    "    #sort to get top n\n",
    "    df_user_predicted.sort_values(['est'],ascending=False,ignore_index=True)\n",
    "    df_user_predicted = df_user_predicted.groupby('uid').head(n_recommendation).reset_index(drop=True)\n",
    "    \n",
    "    res_recommendation = res_recommendation.append(df_user_predicted)"
   ]
  },
  {
   "cell_type": "code",
   "execution_count": 63,
   "id": "8e7f77fb",
   "metadata": {},
   "outputs": [
    {
     "data": {
      "text/html": [
       "<div>\n",
       "<style scoped>\n",
       "    .dataframe tbody tr th:only-of-type {\n",
       "        vertical-align: middle;\n",
       "    }\n",
       "\n",
       "    .dataframe tbody tr th {\n",
       "        vertical-align: top;\n",
       "    }\n",
       "\n",
       "    .dataframe thead th {\n",
       "        text-align: right;\n",
       "    }\n",
       "</style>\n",
       "<table border=\"1\" class=\"dataframe\">\n",
       "  <thead>\n",
       "    <tr style=\"text-align: right;\">\n",
       "      <th></th>\n",
       "      <th>uid</th>\n",
       "      <th>iid</th>\n",
       "      <th>r_ui</th>\n",
       "      <th>est</th>\n",
       "      <th>details</th>\n",
       "    </tr>\n",
       "  </thead>\n",
       "  <tbody>\n",
       "    <tr>\n",
       "      <th>0</th>\n",
       "      <td>1</td>\n",
       "      <td>2</td>\n",
       "      <td>NaN</td>\n",
       "      <td>4.072420</td>\n",
       "      <td>{'was_impossible': False}</td>\n",
       "    </tr>\n",
       "    <tr>\n",
       "      <th>1</th>\n",
       "      <td>1</td>\n",
       "      <td>4</td>\n",
       "      <td>NaN</td>\n",
       "      <td>3.474170</td>\n",
       "      <td>{'was_impossible': False}</td>\n",
       "    </tr>\n",
       "    <tr>\n",
       "      <th>2</th>\n",
       "      <td>1</td>\n",
       "      <td>5</td>\n",
       "      <td>NaN</td>\n",
       "      <td>3.747182</td>\n",
       "      <td>{'was_impossible': False}</td>\n",
       "    </tr>\n",
       "    <tr>\n",
       "      <th>3</th>\n",
       "      <td>1</td>\n",
       "      <td>7</td>\n",
       "      <td>NaN</td>\n",
       "      <td>3.794301</td>\n",
       "      <td>{'was_impossible': False}</td>\n",
       "    </tr>\n",
       "    <tr>\n",
       "      <th>4</th>\n",
       "      <td>1</td>\n",
       "      <td>8</td>\n",
       "      <td>NaN</td>\n",
       "      <td>3.941982</td>\n",
       "      <td>{'was_impossible': False}</td>\n",
       "    </tr>\n",
       "    <tr>\n",
       "      <th>...</th>\n",
       "      <td>...</td>\n",
       "      <td>...</td>\n",
       "      <td>...</td>\n",
       "      <td>...</td>\n",
       "      <td>...</td>\n",
       "    </tr>\n",
       "    <tr>\n",
       "      <th>95</th>\n",
       "      <td>610</td>\n",
       "      <td>8</td>\n",
       "      <td>NaN</td>\n",
       "      <td>3.278242</td>\n",
       "      <td>{'was_impossible': False}</td>\n",
       "    </tr>\n",
       "    <tr>\n",
       "      <th>96</th>\n",
       "      <td>610</td>\n",
       "      <td>9</td>\n",
       "      <td>NaN</td>\n",
       "      <td>3.020849</td>\n",
       "      <td>{'was_impossible': False}</td>\n",
       "    </tr>\n",
       "    <tr>\n",
       "      <th>97</th>\n",
       "      <td>610</td>\n",
       "      <td>10</td>\n",
       "      <td>NaN</td>\n",
       "      <td>3.557651</td>\n",
       "      <td>{'was_impossible': False}</td>\n",
       "    </tr>\n",
       "    <tr>\n",
       "      <th>98</th>\n",
       "      <td>610</td>\n",
       "      <td>11</td>\n",
       "      <td>NaN</td>\n",
       "      <td>3.696350</td>\n",
       "      <td>{'was_impossible': False}</td>\n",
       "    </tr>\n",
       "    <tr>\n",
       "      <th>99</th>\n",
       "      <td>610</td>\n",
       "      <td>12</td>\n",
       "      <td>NaN</td>\n",
       "      <td>2.614661</td>\n",
       "      <td>{'was_impossible': False}</td>\n",
       "    </tr>\n",
       "  </tbody>\n",
       "</table>\n",
       "<p>6160 rows × 5 columns</p>\n",
       "</div>"
      ],
      "text/plain": [
       "    uid  iid  r_ui       est                    details\n",
       "0     1    2   NaN  4.072420  {'was_impossible': False}\n",
       "1     1    4   NaN  3.474170  {'was_impossible': False}\n",
       "2     1    5   NaN  3.747182  {'was_impossible': False}\n",
       "3     1    7   NaN  3.794301  {'was_impossible': False}\n",
       "4     1    8   NaN  3.941982  {'was_impossible': False}\n",
       "..  ...  ...   ...       ...                        ...\n",
       "95  610    8   NaN  3.278242  {'was_impossible': False}\n",
       "96  610    9   NaN  3.020849  {'was_impossible': False}\n",
       "97  610   10   NaN  3.557651  {'was_impossible': False}\n",
       "98  610   11   NaN  3.696350  {'was_impossible': False}\n",
       "99  610   12   NaN  2.614661  {'was_impossible': False}\n",
       "\n",
       "[6160 rows x 5 columns]"
      ]
     },
     "execution_count": 63,
     "metadata": {},
     "output_type": "execute_result"
    }
   ],
   "source": [
    "res_recommendation"
   ]
  },
  {
   "cell_type": "markdown",
   "id": "72918201",
   "metadata": {},
   "source": [
    "Here it is! in our results we have uid, iid, r_ui, est, and details. uid means user id, iid means item id, r_ui means real rating, est means estimated rating, and details contains the details of calculation results"
   ]
  },
  {
   "cell_type": "code",
   "execution_count": null,
   "id": "53224ee0",
   "metadata": {},
   "outputs": [],
   "source": []
  }
 ],
 "metadata": {
  "kernelspec": {
   "display_name": "Python 3 (ipykernel)",
   "language": "python",
   "name": "python3"
  },
  "language_info": {
   "codemirror_mode": {
    "name": "ipython",
    "version": 3
   },
   "file_extension": ".py",
   "mimetype": "text/x-python",
   "name": "python",
   "nbconvert_exporter": "python",
   "pygments_lexer": "ipython3",
   "version": "3.9.7"
  }
 },
 "nbformat": 4,
 "nbformat_minor": 5
}
